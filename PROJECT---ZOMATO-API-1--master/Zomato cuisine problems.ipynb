{
 "cells": [
  {
   "cell_type": "markdown",
   "metadata": {},
   "source": [
    "### Zomato cuisine problem details\n",
    "\n",
    "Mexican cuisine began about 9,000 years ago, when agricultural communities such as the Maya formed, domesticating maize, creating the standard process of corn nixtamalization, and establishing their foodways.\n",
    "\n",
    "You are a huge fan of ‘Mexican’ cuisine. Now using the Zomato API you want to analyse the best restaurant serving the Mexican Cuisine, their locations, and cost for two, etc.\n",
    "\n",
    "There is a list of questions related to Mexican cuisines given in the next section."
   ]
  },
  {
   "cell_type": "markdown",
   "metadata": {},
   "source": [
    "### API key - cf1194b048c4e62fcccfc0f02638d919"
   ]
  },
  {
   "cell_type": "markdown",
   "metadata": {},
   "source": [
    "### Zomato Cuisine 1.1\n",
    "\n",
    "Fetch the cuisine_id of ‘Mexican’ cuisine using Zomato API.\n",
    "\n",
    "Print the cuisine_id."
   ]
  },
  {
   "cell_type": "code",
   "execution_count": 28,
   "metadata": {},
   "outputs": [
    {
     "name": "stdout",
     "output_type": "stream",
     "text": [
      "73\n"
     ]
    }
   ],
   "source": [
    "# giving city id randomly as 1 as it is compulsory but not written\n",
    "\n",
    "import requests\n",
    "\n",
    "header={\"Accept\":\"application/json\",\"user-key\":\"cf1194b048c4e62fcccfc0f02638d919\", 'User-agent' : 'curl/7/43.0'}\n",
    "response=requests.get('https://developers.zomato.com/api/v2.1/cuisines',headers=header,params={'city_id':'1'})\n",
    "data = response.json()\n",
    "\n",
    "for i in data['cuisines']:\n",
    "    if i['cuisine']['cuisine_name'] == 'Mexican':\n",
    "        print(i['cuisine']['cuisine_id'])\n",
    "        break"
   ]
  },
  {
   "cell_type": "markdown",
   "metadata": {},
   "source": [
    "### Zomato Cuisine 1.3\n",
    "\n",
    "\n",
    "Fetch the entityid and entitytype of place Connaught Place.\n",
    "\n",
    "Print the entityid and entitytype,"
   ]
  },
  {
   "cell_type": "code",
   "execution_count": 33,
   "metadata": {},
   "outputs": [
    {
     "name": "stdout",
     "output_type": "stream",
     "text": [
      "subzone   104\n"
     ]
    }
   ],
   "source": [
    "import requests\n",
    "\n",
    "header={\"Accept\":\"application/json\",\"user-key\":\"cf1194b048c4e62fcccfc0f02638d919\", 'User-agent' : 'curl/7/43.0'}\n",
    "parameter = {'query' : 'Connaught Place'}\n",
    "response=requeststs.get('https://developers.zomato.com/api/v2.1/locations', headers = header,params = parameter)\n",
    "data = response.json()\n",
    "for i in data['location_suggestions']:\n",
    "    print(i['entity_type'], ' ', i['entity_id'])"
   ]
  },
  {
   "cell_type": "markdown",
   "metadata": {},
   "source": [
    "### Zomato Cuisine 1.4\n",
    "\n",
    "Fetch the top 10 best-rated restaurant serving ‘Mexican’ cuisine present in Connaught Place.\n",
    "\n",
    "Print the restaurant name, user rating and restaurant id."
   ]
  },
  {
   "cell_type": "code",
   "execution_count": 44,
   "metadata": {},
   "outputs": [
    {
     "name": "stdout",
     "output_type": "stream",
     "text": [
      "Chili's Grill & Bar 4.6 18537536\n",
      "38 Barracks 4.6 18241537\n",
      "Ministry Of Beer 4.5 18418277\n",
      "Xero Degrees 4.4 18729557\n",
      "Farzi Cafe 4.3 18233593\n",
      "Bunta Bar Live 4.3 18623406\n",
      "Excuse Me Boss 4.2 307036\n",
      "Punjabi By Nature 4.2 306497\n",
      "The Art House Bar n Cafe 4.2 18863766\n",
      "Firangi Bake 4.2 18534147\n"
     ]
    }
   ],
   "source": [
    "import requests\n",
    "\n",
    "header={\"Accept\":\"application/json\",\"user-key\":\"cf1194b048c4e62fcccfc0f02638d919\", 'User-agent' : 'curl/7/43.0'}\n",
    "parameter = {'entity_id' : 104, 'entity_type' : 'subzone', 'cuisines' : '73' ,\n",
    "             'count' : 10, 'sort' : 'rating', 'order' : 'desc' }\n",
    "response=requests.get('https://developers.zomato.com/api/v2.1/search', headers = header,params = parameter)\n",
    "data = response.json()\n",
    "for i in data['restaurants']:\n",
    "    print(i['restaurant']['name'], end = ' ')\n",
    "    print(i['restaurant']['user_rating']['aggregate_rating'], end = ' ')\n",
    "    print(i['restaurant']['id'])"
   ]
  },
  {
   "cell_type": "markdown",
   "metadata": {},
   "source": [
    "### Zomato Cuisine 1.5\n",
    "\n",
    "Fetch the category id of category type ‘Cafes’ using Zomato API.\n",
    "\n",
    "Print the category_id."
   ]
  },
  {
   "cell_type": "code",
   "execution_count": 46,
   "metadata": {},
   "outputs": [
    {
     "name": "stdout",
     "output_type": "stream",
     "text": [
      "6\n"
     ]
    }
   ],
   "source": [
    "import requests\n",
    "\n",
    "header={\"Accept\":\"application/json\",\"user-key\":\"cf1194b048c4e62fcccfc0f02638d919\", 'User-agent' : 'curl/7/43.0'}\n",
    "response=requests.get('https://developers.zomato.com/api/v2.1/categories',headers=header)\n",
    "data = response.json()\n",
    "for i in data['categories']:\n",
    "    if i['categories'].get('name') == 'Cafes' :\n",
    "        print(i.get('categories').get('id'))"
   ]
  },
  {
   "cell_type": "markdown",
   "metadata": {},
   "source": [
    "### Zomato Cuisine 1.6\n",
    "\n",
    "Fetch the best-rated restaurant for ‘Mexican’ cuisine with category type ‘ Cafes’ present in Connaught Place using Zomato API.\n",
    "\n",
    "Print the restaurant name, user rating and restaurant id.\n",
    "\n",
    "print 10 restaurants"
   ]
  },
  {
   "cell_type": "code",
   "execution_count": 49,
   "metadata": {},
   "outputs": [
    {
     "name": "stdout",
     "output_type": "stream",
     "text": [
      "Xero Degrees 4.4 18729557\n",
      "The Art House Bar n Cafe 4.2 18863766\n",
      "Chaayos - Meri Wali Chai 4.1 18237315\n",
      "Cafe Delhi Heights 4.0 18579363\n",
      "Cafe Coffee Day - The Square 3.8 303034\n"
     ]
    }
   ],
   "source": [
    "import requests\n",
    "\n",
    "cp_entity_id = 104\n",
    "cp_entity_type = 'subzone'\n",
    "mex_cuisine_id = 73\n",
    "cafe_category_id = 6\n",
    "\n",
    "header={\"Accept\":\"application/json\",\"user-key\":\"cf1194b048c4e62fcccfc0f02638d919\", 'User-agent' : 'curl/7/43.0'}\n",
    "parameter = {'entity_id' : cp_entity_id, 'entity_type' : cp_entity_type, 'cuisines' : mex_cuisine_id ,\n",
    "             'category' : cafe_category_id, 'count' : 10, 'sort' : 'rating', 'order' : 'desc' }\n",
    "response=requests.get('https://developers.zomato.com/api/v2.1/search', headers = header,params = parameter)\n",
    "data = response.json()\n",
    "for i in data['restaurants']:\n",
    "    print(i['restaurant']['name'], end = ' ')\n",
    "    print(i['restaurant']['user_rating']['aggregate_rating'], end = ' ')\n",
    "    print(i['restaurant']['id'])"
   ]
  },
  {
   "cell_type": "markdown",
   "metadata": {},
   "source": [
    "### Zomato Cuisine 1.7\n",
    "\n",
    "Fetch the latest review of the best-rated restaurant for ‘Mexican’ cuisine with Category type ‘Cafes’ present in Connaught Place using Zomato API.\n",
    "\n",
    "Print the name of user ,user rating and review text.\n",
    "\n",
    "Note :\n",
    "\n",
    "Due to limitation of basic API plan it, can only fetch 5 latest review"
   ]
  },
  {
   "cell_type": "code",
   "execution_count": 63,
   "metadata": {},
   "outputs": [
    {
     "name": "stdout",
     "output_type": "stream",
     "text": [
      "Hina Vohra 4 None\n",
      "Siddarth 4 None\n",
      "Sonali Agarwal 5 None\n",
      "Preeti Jain 4 None\n",
      "Farha Mirza 5 None\n"
     ]
    }
   ],
   "source": [
    "import requests\n",
    "\n",
    "cp_entity_id = 104\n",
    "cp_entity_type = 'subzone'\n",
    "mex_cuisine_id = 73\n",
    "cafe_category_id = 6\n",
    "\n",
    "header = {\"Accept\":\"application/json\",\"user-key\":\"cf1194b048c4e62fcccfc0f02638d919\", 'User-agent' : 'curl/7/43.0'}\n",
    "parameter = {'entity_id' : cp_entity_id, 'entity_type' : cp_entity_type, 'cuisines' : mex_cuisine_id ,\n",
    "             'category' : cafe_category_id, 'count' : 10, 'sort' : 'rating', 'order' : 'desc' }\n",
    "response = requests.get('https://developers.zomato.com/api/v2.1/search', headers = header,params = parameter)\n",
    "data = response.json()\n",
    "restraunt_id = []\n",
    "for i in data['restaurants']:\n",
    "    restraunt_id.append(i.get('restaurant').get('id'))\n",
    "\n",
    "for j in restraunt_id:\n",
    "    res = requests.get('https://developers.zomato.com/api/v2.1/reviews', headers=header,\n",
    "                        params = {'res_id' : int(j)})\n",
    "    py_data = res.json()\n",
    "    res =  py_data['user_reviews'][0]\n",
    "    print(res.get('review').get('user').get('name'), end = ' ')\n",
    "    print(res.get('review').get('rating'), end = ' ')\n",
    "    print(res.get('review').get('user').get('review_text'))"
   ]
  },
  {
   "cell_type": "code",
   "execution_count": 69,
   "metadata": {},
   "outputs": [
    {
     "name": "stdout",
     "output_type": "stream",
     "text": [
      "Hina Vohra 4 \n",
      "Shivansh 4 \n",
      "Temptingtastebuds__ 5 This outlet of xero degrees in connaught place, One of my most recommended place . Pocket friendly,comfortable seating area and polite staff. They serve food on time. Totally clean and hygienic place. I ordered here jar pizza and it is filled with cheese and I just loved it. Must hit this place with your friends.\n",
      "Saurabh Banderwal 5 10 months ago  Hidden gem in Connaught place... pocket friendly....good food n mocktails....\n",
      "Capture The Meal 4 Cheesy Margherita pizza was above average but the pasta and shakes were amazing plus the way they are presenting the shakes and pasta is unique and it's delicious . Must try\n"
     ]
    }
   ],
   "source": [
    "import requests\n",
    "\n",
    "cp_entity_id = 104\n",
    "cp_entity_type = 'subzone'\n",
    "mex_cuisine_id = 73\n",
    "cafe_category_id = 6\n",
    "\n",
    "header = {\"Accept\":\"application/json\",\"user-key\":\"cf1194b048c4e62fcccfc0f02638d919\", 'User-agent' : 'curl/7/43.0'}\n",
    "parameter = {'entity_id' : cp_entity_id, 'entity_type' : cp_entity_type, 'cuisines' : mex_cuisine_id ,\n",
    "             'category' : cafe_category_id, 'count' : 1, 'sort' : 'rating', 'order' : 'desc' }\n",
    "response = requests.get('https://developers.zomato.com/api/v2.1/search', headers = header,params = parameter)\n",
    "data = response.json()\n",
    "restraunt = data['restaurants'][0]\n",
    "restraunt_id = restraunt.get('restaurant').get('id')\n",
    "res = requests.get('https://developers.zomato.com/api/v2.1/reviews', headers=header, params = {'res_id' : int(restraunt_id)})\n",
    "py_res = res.json()\n",
    "for i in py_res['user_reviews'] :\n",
    "    print(i.get('review').get('user').get('name'), end = ' ')\n",
    "    print(i.get('review').get('rating'), end = ' ')\n",
    "    print(i.get('review').get('review_text'))"
   ]
  },
  {
   "cell_type": "code",
   "execution_count": null,
   "metadata": {},
   "outputs": [],
   "source": []
  }
 ],
 "metadata": {
  "kernelspec": {
   "display_name": "Python 3",
   "language": "python",
   "name": "python3"
  },
  "language_info": {
   "codemirror_mode": {
    "name": "ipython",
    "version": 3
   },
   "file_extension": ".py",
   "mimetype": "text/x-python",
   "name": "python",
   "nbconvert_exporter": "python",
   "pygments_lexer": "ipython3",
   "version": "3.7.4"
  }
 },
 "nbformat": 4,
 "nbformat_minor": 2
}
