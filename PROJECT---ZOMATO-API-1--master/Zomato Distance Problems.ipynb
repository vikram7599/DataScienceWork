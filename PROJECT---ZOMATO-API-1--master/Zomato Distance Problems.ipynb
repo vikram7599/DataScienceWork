{
 "cells": [
  {
   "cell_type": "markdown",
   "metadata": {},
   "source": [
    "### Zomato Distance Problem details\n",
    "\n",
    "Distance is also a very important factor while selecting a restaurant. Suppose you are at Coding Ninjas and you want to select the restaurant which is near to you using Zomato API.\n",
    "\n",
    "Note down the latitude and longitude of Coding Ninjas using Google Maps\n",
    "\n",
    "There is a list of questions related to restaurant near me given in the next section."
   ]
  },
  {
   "cell_type": "markdown",
   "metadata": {},
   "source": [
    "### API key - cf1194b048c4e62fcccfc0f02638d919"
   ]
  },
  {
   "cell_type": "markdown",
   "metadata": {},
   "source": [
    "### Zomato distance 3.1\n",
    "\n",
    "Fetch the cuisine_id of of cuisine ‘BBQ’ using Zomato API.\n",
    "\n",
    "Print the cuisine_id"
   ]
  },
  {
   "cell_type": "code",
   "execution_count": 2,
   "metadata": {},
   "outputs": [
    {
     "name": "stdout",
     "output_type": "stream",
     "text": [
      "193\n"
     ]
    }
   ],
   "source": [
    "import requests\n",
    "\n",
    "header={\"Accept\":\"application/json\",\"user-key\":\"cf1194b048c4e62fcccfc0f02638d919\", 'User-agent' : 'curl/7/43.0'}\n",
    "response=requests.get('https://developers.zomato.com/api/v2.1/cuisines',headers=header,params={'city_id':'1'})\n",
    "data = response.json()\n",
    "\n",
    "for i in data['cuisines']:\n",
    "    if i['cuisine']['cuisine_name'] == 'BBQ':\n",
    "        print(i['cuisine']['cuisine_id'])\n",
    "        break"
   ]
  },
  {
   "cell_type": "markdown",
   "metadata": {},
   "source": [
    "### Zomato distance 3.2\n",
    "\n",
    "Fetch the list of the top 10 restaurants serving cuisine ‘BBQ’ which are nearest to Coding Ninjas.\n",
    "\n",
    "Print the restaurant name, user rating, restaurant id and locality in which restaurant is present."
   ]
  },
  {
   "cell_type": "code",
   "execution_count": null,
   "metadata": {},
   "outputs": [],
   "source": [
    "import requests\n",
    "\n",
    "bbq_cuisine_id = 193\n",
    "basic_api = 'https://developers.zomato.com/api/v2.1'\n",
    "header = {\"Accept\":\"application/json\",\"user-key\":\"cf1194b048c4e62fcccfc0f02638d919\", 'User-agent' : 'curl/7/43.0'}\n",
    "response = requests.get(basic_api, headers = header, params = {'city_id':'1'})\n",
    "data = response.json()"
   ]
  },
  {
   "cell_type": "markdown",
   "metadata": {},
   "source": [
    "#### LAT of CN -  28.6977\n",
    "#### LON of CN - 77.1406"
   ]
  },
  {
   "cell_type": "code",
   "execution_count": 29,
   "metadata": {},
   "outputs": [
    {
     "name": "stdout",
     "output_type": "stream",
     "text": [
      "Themis Barbecue House 4.5 18204820 Netaji Subhash Place\n",
      "Barbeque Nation 4.1 9561 Netaji Subhash Place\n",
      "New Bombay Bar-Be-Que 3.6 5303 Prashant Vihar\n",
      "Amazings Kitchen 0 19370424 Prashant Vihar\n",
      "UBQ by Barbeque Nation 3.7 19082741 Lawrence Road\n",
      "Moet's Barbeque 0 19238917 Alipur\n",
      "UBQ by Barbeque Nation 3.8 18889760 Rohini\n",
      "Kays Bar-Be-Que 3.8 3079 Ashok Vihar Phase 1\n",
      "7teen BBQ Bistro Bnq 3.8 18595610 Moti Nagar\n",
      "Pishori Chicken 0 19061375 Kirti Nagar\n"
     ]
    }
   ],
   "source": [
    "import requests\n",
    "\n",
    "latitude = 28.6977\n",
    "longitude = 77.1406\n",
    "bbq_cuisine_id = 193\n",
    "\n",
    "header={\"Accept\":\"application/json\",\"user-key\":\"cf1194b048c4e62fcccfc0f02638d919\", 'User-agent' : 'curl/7/43.0'}\n",
    "parameter = {'lat' : latitude, 'lon' : longitude, 'cuisines' : bbq_cuisine_id ,\n",
    "             'count' : 10, 'sort' : 'real_distance', 'order' : 'desc' }\n",
    "response=requests.get('https://developers.zomato.com/api/v2.1/search', headers = header,params = parameter)\n",
    "data = response.json()\n",
    "for i in data['restaurants']:\n",
    "    print(i['restaurant']['name'], end = ' ')\n",
    "    print(i['restaurant']['user_rating']['aggregate_rating'], end = ' ')\n",
    "    print(i['restaurant']['id'] , i['restaurant']['location']['locality'])"
   ]
  },
  {
   "cell_type": "markdown",
   "metadata": {},
   "source": [
    "### Zomato distance 3.3\n",
    "\n",
    "Fetch the latest review of the restaurant serving cuisine ‘BBQ’ which is most nearest to Coding ninjas?\n",
    "\n",
    "Print the name of user ,user rating and review text.\n",
    "\n",
    "Note :\n",
    "\n",
    "Due to limitation of basic API plan it, can only fetch 5 latest review"
   ]
  },
  {
   "cell_type": "code",
   "execution_count": 1,
   "metadata": {},
   "outputs": [
    {
     "name": "stdout",
     "output_type": "stream",
     "text": [
      "Medhavi   5   Enjoyed a wide range of dishes at this buffet outlet with aesthetic interiors and designer exteriors. Scrumptious barbeque starters with grilled chicken,fish tikka in skewers on the table. Sipped on a variety of mocktails plus the singer was there to entertain throughout our time there. The main course dishes were made very well with excellent sea food, dum biryani , paneer dishes, types of breads and exquisite desserts to choose from namely white chocolate brownie , pineapple pastries , truffle cake and cut fruits. Would definitely recommend to one and all.\n",
      "Piyush Matreja   5   Live singing, spectacular ambience and every one enjoying to the grilled kebabs on their table, that's Themis barbeque all about. Based on the concept of buffet where you start with snacks on the table with cool mocktails. I tried the lemon ice tea and charred prawns tikka as well as chicken malai tikka ,their non veg starters were great. Main course I had mutton rogan josh with lachha parantha and enjoyed a few of my favourite desserts namely strawberry tarts and a chocolate truffle cake with cherries. I must say that was a good lunch I relished after long.\n",
      "Kimaya Divya   5   A place offering a buffet concept in the northern part of Delhi, with live music , a dj set up, comfortable seating. They have a set up of a grill hot plate with food grilled on skewers. We opted for non veg set up and ate prawns , chicken malai tikka , tandoori chicken in the hot portion, while chilly fish ,pizzas and mutton seekh kebab were served separately. The main course had lots of variety with dal Makhani, paneer kadhai , mix vegetable, chicken pilaf ,mutton rogan josh. The restaurant did their level best and made our time a memorable one.\n",
      "Shivani 🐼   5   Themis barbque has really upscaled the barbque experience. Live Music 🎸 Live Grill 🔥 Great food 🦐 Good Service 🕴️ On every point it is 10/10.... 😀 You should really give a try to themis.\n",
      "Rachit Jaiswal   5   It was great to be at themis barbeque. Very reasonable amount and have ample of varieties in non veg. I liked their starters, especially chilli chicken and fish. Main course was good as well and desserts were the best part. All of them were delightful, rich in taste\n"
     ]
    }
   ],
   "source": [
    "import requests\n",
    "\n",
    "restraunt_id = 18204820\n",
    "header={\"Accept\":\"application/json\",\"user-key\":\"cf1194b048c4e62fcccfc0f02638d919\", 'User-agent' : 'curl/7/43.0'}\n",
    "response = requests.get('https://developers.zomato.com/api/v2.1/reviews',\n",
    "                        headers=header, params = {'res_id' : restraunt_id})\n",
    "data = response.json()\n",
    "for i in data['user_reviews'] :\n",
    "    print(i.get('review').get('user').get('name'), ' ', i.get('review').get('rating'), ' ', i.get('review').get('review_text'))"
   ]
  },
  {
   "cell_type": "markdown",
   "metadata": {},
   "source": [
    "### Zomato distance 3.4\n",
    "\n",
    "Experiment with the radius parameter that is present in ‘GET/search’. Fetch the list of top 10 best-restaurant present in a radius of 4 km of coding ninjas.\n",
    "\n",
    "Print the restaurant name, user rating, restaurant id and locality in which restaurant is present.\n"
   ]
  },
  {
   "cell_type": "code",
   "execution_count": 34,
   "metadata": {},
   "outputs": [
    {
     "name": "stdout",
     "output_type": "stream",
     "text": [
      "Oishii Wok   4.9 19078918 DLF Phase 4\n",
      "Indian Accent   4.9 2004 The Lodhi, Lodhi Road\n",
      "Son Of A Bun   4.9 19300210 Golf Course Road\n",
      "Dana Choga   4.9 549 Sector 14\n",
      "Chili's Grill & Bar   4.9 18607069 Pacific Mall, Tagore Garden\n",
      "The Tandoori Tales   4.9 19231934 Sector 45\n",
      "Shanghai Surprise   4.9 19139037 DLF Phase 3\n",
      "Ah So Yum   4.8 18945610 Golf Course Road\n",
      "Master Koii's   4.8 18819947 Sushant Lok\n",
      "Mad Batter   4.8 18851593 Shopping Mall, DLF Phase 1\n"
     ]
    }
   ],
   "source": [
    "import requests\n",
    "\n",
    "latitude = 28.6977\n",
    "longitude = 77.1406\n",
    "\n",
    "header={\"Accept\":\"application/json\",\"user-key\":\"cf1194b048c4e62fcccfc0f02638d919\", 'User-agent' : 'curl/7/43.0'}\n",
    "parameter = {'lat' : latitude, 'lon' : longitude, 'count' : 10, 'radius' : 4000.0, \n",
    "             'sort' : 'rating', 'order' : 'desc' }\n",
    "response=requests.get('https://developers.zomato.com/api/v2.1/search', headers = header,params = parameter)\n",
    "data = response.json()\n",
    "for i in data['restaurants']:\n",
    "    print(i.get('restaurant').get('name'), ' ', i.get('restaurant').get('user_rating').get('aggregate_rating'), end = ' ')\n",
    "    print(i['restaurant']['id'] , i['restaurant']['location']['locality'])"
   ]
  },
  {
   "cell_type": "markdown",
   "metadata": {},
   "source": [
    "### Zomato distance 3.5\n",
    "\n",
    "Compare the location of the restaurant whether really they are in a distance of 4 km to Coding Ninjas. Find out whether these API radius feature is working or not.\n",
    "\n",
    "Print 'yes' if radius feature work else print 'no'.\n",
    "\n",
    "Note :\n",
    "\n",
    "Use google search to find whether restaurant lie in range of 4km or not."
   ]
  },
  {
   "cell_type": "code",
   "execution_count": 35,
   "metadata": {},
   "outputs": [
    {
     "name": "stdout",
     "output_type": "stream",
     "text": [
      "no\n"
     ]
    }
   ],
   "source": [
    "# no since Oishii Wok is 36 km from CN which is > 5\n",
    "# hence answer is no\n",
    "\n",
    "print('no')"
   ]
  }
 ],
 "metadata": {
  "kernelspec": {
   "display_name": "Python 3",
   "language": "python",
   "name": "python3"
  },
  "language_info": {
   "codemirror_mode": {
    "name": "ipython",
    "version": 3
   },
   "file_extension": ".py",
   "mimetype": "text/x-python",
   "name": "python",
   "nbconvert_exporter": "python",
   "pygments_lexer": "ipython3",
   "version": "3.7.4"
  }
 },
 "nbformat": 4,
 "nbformat_minor": 2
}
