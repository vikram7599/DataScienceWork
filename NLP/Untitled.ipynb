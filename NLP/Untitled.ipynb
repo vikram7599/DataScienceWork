{
 "cells": [
  {
   "cell_type": "code",
   "execution_count": 1,
   "id": "laughing-asthma",
   "metadata": {},
   "outputs": [],
   "source": [
    "import re"
   ]
  },
  {
   "cell_type": "code",
   "execution_count": 55,
   "id": "front-walter",
   "metadata": {},
   "outputs": [],
   "source": [
    "def tokenize(s, chars):\n",
    "    \n",
    "    temp = re.split(chars, s)\n",
    "    temp = ' '.join(temp)\n",
    "    ans = temp.split(' ')\n",
    "    return ans"
   ]
  },
  {
   "cell_type": "code",
   "execution_count": 59,
   "id": "excessive-hearts",
   "metadata": {},
   "outputs": [],
   "source": [
    "test = 'Good muffins cost asaf$3.88\\nin New York.hgv'\n",
    "tokenizedWord = tokenize(test, '; |, |\\*|\\t|\\.')"
   ]
  },
  {
   "cell_type": "code",
   "execution_count": 60,
   "id": "compound-watts",
   "metadata": {},
   "outputs": [
    {
     "data": {
      "text/plain": [
       "['Good', 'muffins', 'cost', 'asaf$3', '88\\nin', 'New', 'York', 'hgv']"
      ]
     },
     "execution_count": 60,
     "metadata": {},
     "output_type": "execute_result"
    }
   ],
   "source": [
    "tokenizedWord"
   ]
  },
  {
   "cell_type": "code",
   "execution_count": 54,
   "id": "superior-objective",
   "metadata": {},
   "outputs": [],
   "source": [
    "from nltk.tokenize import sent_tokenize, word_tokenize"
   ]
  },
  {
   "cell_type": "code",
   "execution_count": 58,
   "id": "prepared-beauty",
   "metadata": {},
   "outputs": [
    {
     "name": "stdout",
     "output_type": "stream",
     "text": [
      "['My', 'name', 'is', 'Vikram']\n"
     ]
    }
   ],
   "source": [
    "sample = \"My name is Vikram\"\n",
    "print(sample.split(' '))"
   ]
  },
  {
   "cell_type": "code",
   "execution_count": null,
   "id": "innocent-oakland",
   "metadata": {},
   "outputs": [],
   "source": []
  }
 ],
 "metadata": {
  "kernelspec": {
   "display_name": "Python 3",
   "language": "python",
   "name": "python3"
  },
  "language_info": {
   "codemirror_mode": {
    "name": "ipython",
    "version": 3
   },
   "file_extension": ".py",
   "mimetype": "text/x-python",
   "name": "python",
   "nbconvert_exporter": "python",
   "pygments_lexer": "ipython3",
   "version": "3.7.10"
  }
 },
 "nbformat": 4,
 "nbformat_minor": 5
}
