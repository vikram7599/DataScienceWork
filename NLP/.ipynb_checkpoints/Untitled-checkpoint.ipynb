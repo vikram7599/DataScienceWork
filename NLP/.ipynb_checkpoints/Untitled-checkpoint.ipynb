{
 "cells": [
  {
   "cell_type": "code",
   "execution_count": 1,
   "id": "spread-petite",
   "metadata": {},
   "outputs": [],
   "source": [
    "import re"
   ]
  },
  {
   "cell_type": "code",
   "execution_count": 11,
   "id": "constant-steel",
   "metadata": {},
   "outputs": [],
   "source": [
    "def tokenize(s, chars):\n",
    "    \n",
    "    temp = re.split(chars, s)\n",
    "    temp = ' '.join(temp)\n",
    "    ans = temp.split(' ')\n",
    "    return ans"
   ]
  },
  {
   "cell_type": "code",
   "execution_count": 52,
   "id": "proper-carolina",
   "metadata": {},
   "outputs": [],
   "source": [
    "test = 'Good muffins cosgt asaf$3.88\\nin New York.hgv'\n",
    "tokenizedWord = tokenize(test, '; |, |\\*|\\n|\\t|\\$|\\.')"
   ]
  },
  {
   "cell_type": "code",
   "execution_count": 53,
   "id": "swiss-being",
   "metadata": {},
   "outputs": [
    {
     "data": {
      "text/plain": [
       "['Good', 'muffins', 'cosgt', 'asaf', '3', '88', 'in', 'New', 'York', 'hgv']"
      ]
     },
     "execution_count": 53,
     "metadata": {},
     "output_type": "execute_result"
    }
   ],
   "source": [
    "tokenizedWord"
   ]
  },
  {
   "cell_type": "code",
   "execution_count": null,
   "id": "accepting-password",
   "metadata": {},
   "outputs": [],
   "source": []
  }
 ],
 "metadata": {
  "kernelspec": {
   "display_name": "Python 3",
   "language": "python",
   "name": "python3"
  },
  "language_info": {
   "codemirror_mode": {
    "name": "ipython",
    "version": 3
   },
   "file_extension": ".py",
   "mimetype": "text/x-python",
   "name": "python",
   "nbconvert_exporter": "python",
   "pygments_lexer": "ipython3",
   "version": "3.7.10"
  }
 },
 "nbformat": 4,
 "nbformat_minor": 5
}
