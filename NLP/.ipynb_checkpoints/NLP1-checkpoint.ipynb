{
 "cells": [
  {
   "cell_type": "code",
   "execution_count": 1,
   "id": "specialized-document",
   "metadata": {},
   "outputs": [],
   "source": [
    "test = \"In the ninja world, those who break the rules are trash. That's true, but those who abandon their friends are worse than trash.\""
   ]
  },
  {
   "cell_type": "code",
   "execution_count": 2,
   "id": "associate-poultry",
   "metadata": {},
   "outputs": [],
   "source": [
    "import numpy as np\n",
    "from nltk.tokenize import sent_tokenize, word_tokenize   # sent_tokenize to tokenize sentences "
   ]
  },
  {
   "cell_type": "markdown",
   "id": "romantic-civilization",
   "metadata": {},
   "source": [
    "\n",
    "nltk.download('punkt')\n",
    "nltk.download('stopwords')\n",
    "nltk.download('state_union') \n",
    "nltk.download('averaged_perceptron_tagger')\n",
    "nltk.download('wordnet')\n",
    "nltk.download('movie_reviews')"
   ]
  },
  {
   "cell_type": "code",
   "execution_count": null,
   "id": "powerful-henry",
   "metadata": {},
   "outputs": [],
   "source": []
  },
  {
   "cell_type": "code",
   "execution_count": 3,
   "id": "empty-advancement",
   "metadata": {},
   "outputs": [
    {
     "data": {
      "text/plain": [
       "['in',\n",
       " 'the',\n",
       " 'ninja',\n",
       " 'world',\n",
       " ',',\n",
       " 'those',\n",
       " 'who',\n",
       " 'break',\n",
       " 'the',\n",
       " 'rules',\n",
       " 'are',\n",
       " 'trash',\n",
       " '.',\n",
       " 'that',\n",
       " \"'s\",\n",
       " 'true',\n",
       " ',',\n",
       " 'but',\n",
       " 'those',\n",
       " 'who',\n",
       " 'abandon',\n",
       " 'their',\n",
       " 'friends',\n",
       " 'are',\n",
       " 'worse',\n",
       " 'than',\n",
       " 'trash',\n",
       " '.']"
      ]
     },
     "execution_count": 3,
     "metadata": {},
     "output_type": "execute_result"
    }
   ],
   "source": [
    "words = word_tokenize(test.lower())\n",
    "words"
   ]
  },
  {
   "cell_type": "code",
   "execution_count": 4,
   "id": "supposed-speaking",
   "metadata": {},
   "outputs": [],
   "source": [
    "from nltk.corpus import stopwords"
   ]
  },
  {
   "cell_type": "code",
   "execution_count": 5,
   "id": "least-horror",
   "metadata": {},
   "outputs": [],
   "source": [
    "stop = stopwords.words('english')"
   ]
  },
  {
   "cell_type": "code",
   "execution_count": 6,
   "id": "demographic-hampshire",
   "metadata": {},
   "outputs": [],
   "source": [
    "# stop"
   ]
  },
  {
   "cell_type": "code",
   "execution_count": 7,
   "id": "external-thickness",
   "metadata": {},
   "outputs": [],
   "source": [
    "import string\n",
    "punctuations = list(string.punctuation)"
   ]
  },
  {
   "cell_type": "code",
   "execution_count": 8,
   "id": "english-injury",
   "metadata": {},
   "outputs": [],
   "source": [
    "stop = stop + punctuations"
   ]
  },
  {
   "cell_type": "code",
   "execution_count": 9,
   "id": "immediate-pakistan",
   "metadata": {},
   "outputs": [],
   "source": [
    "clean_words = [w for w in words if not w in stop]"
   ]
  },
  {
   "cell_type": "code",
   "execution_count": 10,
   "id": "ethical-oracle",
   "metadata": {},
   "outputs": [
    {
     "data": {
      "text/plain": [
       "['ninja',\n",
       " 'world',\n",
       " 'break',\n",
       " 'rules',\n",
       " 'trash',\n",
       " \"'s\",\n",
       " 'true',\n",
       " 'abandon',\n",
       " 'friends',\n",
       " 'worse',\n",
       " 'trash']"
      ]
     },
     "execution_count": 10,
     "metadata": {},
     "output_type": "execute_result"
    }
   ],
   "source": [
    "clean_words\n"
   ]
  },
  {
   "cell_type": "markdown",
   "id": "deluxe-parade",
   "metadata": {},
   "source": [
    "### Lecture 3 Stemming"
   ]
  },
  {
   "cell_type": "code",
   "execution_count": 11,
   "id": "informed-defendant",
   "metadata": {},
   "outputs": [],
   "source": [
    "from nltk.stem import PorterStemmer"
   ]
  },
  {
   "cell_type": "code",
   "execution_count": 12,
   "id": "pursuant-present",
   "metadata": {},
   "outputs": [
    {
     "data": {
      "text/plain": [
       "['play', 'play', 'player', 'play']"
      ]
     },
     "execution_count": 12,
     "metadata": {},
     "output_type": "execute_result"
    }
   ],
   "source": [
    "stem_words = [\"play\", \"playing\", \"player\", \"played\"]\n",
    "ps = PorterStemmer()\n",
    "stemmed_words = [ps.stem(w) for w in stem_words]\n",
    "stemmed_words"
   ]
  },
  {
   "cell_type": "markdown",
   "id": "advisory-india",
   "metadata": {},
   "source": [
    "### Lecture 4 Part of Speech"
   ]
  },
  {
   "cell_type": "code",
   "execution_count": 13,
   "id": "affiliated-syndrome",
   "metadata": {},
   "outputs": [],
   "source": [
    "from nltk import pos_tag\n",
    "from nltk.corpus import state_union"
   ]
  },
  {
   "cell_type": "code",
   "execution_count": 14,
   "id": "interesting-burlington",
   "metadata": {},
   "outputs": [],
   "source": [
    "text = state_union.raw('2006-GWBush.txt')"
   ]
  },
  {
   "cell_type": "code",
   "execution_count": 15,
   "id": "flexible-confirmation",
   "metadata": {},
   "outputs": [],
   "source": [
    "# text"
   ]
  },
  {
   "cell_type": "code",
   "execution_count": 16,
   "id": "hired-tradition",
   "metadata": {},
   "outputs": [],
   "source": [
    "pos = pos_tag(word_tokenize(text))"
   ]
  },
  {
   "cell_type": "code",
   "execution_count": 17,
   "id": "athletic-services",
   "metadata": {},
   "outputs": [],
   "source": [
    "# pos"
   ]
  },
  {
   "cell_type": "markdown",
   "id": "heated-chester",
   "metadata": {},
   "source": [
    "### Lecture 5 Lemmatization"
   ]
  },
  {
   "cell_type": "code",
   "execution_count": 18,
   "id": "traditional-pointer",
   "metadata": {},
   "outputs": [],
   "source": [
    "from nltk.stem import WordNetLemmatizer"
   ]
  },
  {
   "cell_type": "code",
   "execution_count": 19,
   "id": "stopped-sequence",
   "metadata": {},
   "outputs": [],
   "source": [
    "lemmatizer = WordNetLemmatizer()"
   ]
  },
  {
   "cell_type": "code",
   "execution_count": 20,
   "id": "lined-highlight",
   "metadata": {},
   "outputs": [
    {
     "data": {
      "text/plain": [
       "'good'"
      ]
     },
     "execution_count": 20,
     "metadata": {},
     "output_type": "execute_result"
    }
   ],
   "source": [
    "lemmatizer.lemmatize(\"better\", pos = \"a\")"
   ]
  },
  {
   "cell_type": "code",
   "execution_count": 21,
   "id": "attended-convert",
   "metadata": {},
   "outputs": [
    {
     "data": {
      "text/plain": [
       "'excellent'"
      ]
     },
     "execution_count": 21,
     "metadata": {},
     "output_type": "execute_result"
    }
   ],
   "source": [
    "lemmatizer.lemmatize(\"excellent\", pos = \"n\")"
   ]
  },
  {
   "cell_type": "code",
   "execution_count": 22,
   "id": "soviet-doctrine",
   "metadata": {},
   "outputs": [
    {
     "data": {
      "text/plain": [
       "'paint'"
      ]
     },
     "execution_count": 22,
     "metadata": {},
     "output_type": "execute_result"
    }
   ],
   "source": [
    "lemmatizer.lemmatize(\"painting\", pos = \"v\")"
   ]
  },
  {
   "cell_type": "code",
   "execution_count": 23,
   "id": "bored-mobile",
   "metadata": {},
   "outputs": [
    {
     "data": {
      "text/plain": [
       "'painting'"
      ]
     },
     "execution_count": 23,
     "metadata": {},
     "output_type": "execute_result"
    }
   ],
   "source": [
    "lemmatizer.lemmatize(\"painting\", pos = \"n\")"
   ]
  },
  {
   "cell_type": "code",
   "execution_count": 24,
   "id": "extensive-draft",
   "metadata": {},
   "outputs": [],
   "source": [
    "def get_simple_pos(tag):\n",
    "    if tag.startswith('J'):\n",
    "        return wordnet.ADJ\n",
    "    elif tag.startswith('V'):\n",
    "        return wordnet.VERB\n",
    "    elif tag.startswith('N'):\n",
    "        return wordnet.NOUN\n",
    "    elif tag.startswith('R'):\n",
    "        return wordnet.ADV\n",
    "    else:\n",
    "        return wordnet.NOUN"
   ]
  },
  {
   "cell_type": "markdown",
   "id": "combined-brother",
   "metadata": {},
   "source": [
    "# Movie Reviews Project"
   ]
  },
  {
   "cell_type": "code",
   "execution_count": 25,
   "id": "visible-crime",
   "metadata": {},
   "outputs": [],
   "source": [
    "from nltk.corpus import movie_reviews"
   ]
  },
  {
   "cell_type": "code",
   "execution_count": 26,
   "id": "international-generation",
   "metadata": {},
   "outputs": [
    {
     "data": {
      "text/plain": [
       "['neg', 'pos']"
      ]
     },
     "execution_count": 26,
     "metadata": {},
     "output_type": "execute_result"
    }
   ],
   "source": [
    "movie_reviews.categories()"
   ]
  },
  {
   "cell_type": "code",
   "execution_count": 27,
   "id": "random-disorder",
   "metadata": {},
   "outputs": [],
   "source": [
    "# movie_reviews.fileids()"
   ]
  },
  {
   "cell_type": "code",
   "execution_count": 28,
   "id": "hispanic-tracy",
   "metadata": {},
   "outputs": [],
   "source": [
    "# movie_reviews.fileids('neg')"
   ]
  },
  {
   "cell_type": "code",
   "execution_count": 29,
   "id": "sonic-luxembourg",
   "metadata": {},
   "outputs": [
    {
     "data": {
      "text/plain": [
       "['so', 'ask', 'yourself', 'what', '\"', '8mm', '\"', '(', ...]"
      ]
     },
     "execution_count": 29,
     "metadata": {},
     "output_type": "execute_result"
    }
   ],
   "source": [
    "movie_reviews.words(movie_reviews.fileids()[6])"
   ]
  },
  {
   "cell_type": "markdown",
   "id": "affecting-indication",
   "metadata": {},
   "source": [
    "### Movie Review Cleaning"
   ]
  },
  {
   "cell_type": "code",
   "execution_count": 30,
   "id": "technological-advertiser",
   "metadata": {},
   "outputs": [
    {
     "data": {
      "text/plain": [
       "[(['plot', ':', 'two', 'teen', 'couples', 'go', 'to', ...], 'neg'),\n",
       " (['the', 'happy', 'bastard', \"'\", 's', 'quick', 'movie', ...], 'neg'),\n",
       " (['it', 'is', 'movies', 'like', 'these', 'that', 'make', ...], 'neg'),\n",
       " (['\"', 'quest', 'for', 'camelot', '\"', 'is', 'warner', ...], 'neg'),\n",
       " (['synopsis', ':', 'a', 'mentally', 'unstable', 'man', ...], 'neg')]"
      ]
     },
     "execution_count": 30,
     "metadata": {},
     "output_type": "execute_result"
    }
   ],
   "source": [
    "documents = []\n",
    "for category in movie_reviews.categories():\n",
    "    for fileid in movie_reviews.fileids(category):\n",
    "        documents.append((movie_reviews.words(fileid), category))\n",
    "    \n",
    "documents[0:5]"
   ]
  },
  {
   "cell_type": "code",
   "execution_count": 31,
   "id": "tropical-eugene",
   "metadata": {},
   "outputs": [
    {
     "data": {
      "text/plain": [
       "2000"
      ]
     },
     "execution_count": 31,
     "metadata": {},
     "output_type": "execute_result"
    }
   ],
   "source": [
    "len(documents)"
   ]
  },
  {
   "cell_type": "code",
   "execution_count": 32,
   "id": "lightweight-optimum",
   "metadata": {},
   "outputs": [
    {
     "data": {
      "text/plain": [
       "[(['say', ',', 'tell', 'me', 'if', 'you', \"'\", 've', ...], 'neg'),\n",
       " (['notting', 'hill', \"'\", 's', 'trailer', 'is', 'awful', ...], 'pos'),\n",
       " (['when', 'i', 'first', 'heard', 'about', 'scream', ...], 'pos'),\n",
       " (['phew', ',', 'what', 'a', 'mess', '!', 'for', 'his', ...], 'neg'),\n",
       " (['the', 'small', '-', 'scale', 'film', ',', 'in', ...], 'pos')]"
      ]
     },
     "execution_count": 32,
     "metadata": {},
     "output_type": "execute_result"
    }
   ],
   "source": [
    "import random\n",
    "random.shuffle(documents)\n",
    "documents[0:5]"
   ]
  },
  {
   "cell_type": "code",
   "execution_count": 33,
   "id": "pressed-retirement",
   "metadata": {},
   "outputs": [],
   "source": [
    "from nltk.stem import WordNetLemmatizer\n",
    "lemmatizer = WordNetLemmatizer()"
   ]
  },
  {
   "cell_type": "code",
   "execution_count": 34,
   "id": "heard-jewelry",
   "metadata": {},
   "outputs": [],
   "source": [
    "from nltk.corpus import wordnet"
   ]
  },
  {
   "cell_type": "code",
   "execution_count": 35,
   "id": "ongoing-filename",
   "metadata": {},
   "outputs": [],
   "source": [
    "def clean_review(words):\n",
    "    output_words = []\n",
    "    for w in words:\n",
    "        if w.lower() not in stop:\n",
    "            pos = pos_tag([w]) #pos tag expects an array, so array is passed\n",
    "            clean_word = lemmatizer.lemmatize(w, pos = get_simple_pos(pos[0][1]))\n",
    "            output_words.append(clean_word.lower())\n",
    "    return output_words"
   ]
  },
  {
   "cell_type": "code",
   "execution_count": 36,
   "id": "peaceful-reason",
   "metadata": {},
   "outputs": [],
   "source": [
    "documents = [(clean_review(document), category) for document, category in documents]"
   ]
  },
  {
   "cell_type": "code",
   "execution_count": 37,
   "id": "referenced-version",
   "metadata": {},
   "outputs": [
    {
     "data": {
      "text/plain": [
       "(['say',\n",
       "  'tell',\n",
       "  'see',\n",
       "  'crisis',\n",
       "  'board',\n",
       "  'commercial',\n",
       "  'airliner',\n",
       "  'cause',\n",
       "  'stewardess',\n",
       "  'fly',\n",
       "  'land',\n",
       "  'plane',\n",
       "  'airport',\n",
       "  '97',\n",
       "  'anyone',\n",
       "  'ray',\n",
       "  'liotta',\n",
       "  'psychotic',\n",
       "  'serial',\n",
       "  'killer',\n",
       "  'transport',\n",
       "  'new',\n",
       "  'york',\n",
       "  'california',\n",
       "  'christmas',\n",
       "  'eve',\n",
       "  'amazingly',\n",
       "  'would',\n",
       "  'seemingly',\n",
       "  'busy',\n",
       "  'day',\n",
       "  'travel',\n",
       "  'one',\n",
       "  'flown',\n",
       "  'route',\n",
       "  'six',\n",
       "  'passenger',\n",
       "  'flight',\n",
       "  'anyway',\n",
       "  'take',\n",
       "  'liotta',\n",
       "  'escape',\n",
       "  'kill',\n",
       "  'police',\n",
       "  'pilot',\n",
       "  'stewardess',\n",
       "  'lauren',\n",
       "  'holly',\n",
       "  'lock',\n",
       "  'cockpit',\n",
       "  'fly',\n",
       "  'plane',\n",
       "  'story',\n",
       "  'beyond',\n",
       "  'routine',\n",
       "  'script',\n",
       "  'embarrass',\n",
       "  'one',\n",
       "  'point',\n",
       "  'jumbo',\n",
       "  'jet',\n",
       "  'fly',\n",
       "  'completely',\n",
       "  'upside',\n",
       "  'character',\n",
       "  'worthless',\n",
       "  'performance',\n",
       "  'annoy',\n",
       "  'surprisingly',\n",
       "  'co',\n",
       "  'writer',\n",
       "  'steven',\n",
       "  'e',\n",
       "  'de',\n",
       "  'souza',\n",
       "  'actually',\n",
       "  'write',\n",
       "  'first',\n",
       "  'two',\n",
       "  'die',\n",
       "  'hard',\n",
       "  'movie',\n",
       "  'turbulence',\n",
       "  'take',\n",
       "  'place',\n",
       "  'christmas',\n",
       "  'time',\n",
       "  'yet',\n",
       "  'film',\n",
       "  'release',\n",
       "  'day',\n",
       "  'holiday',\n",
       "  'brilliant',\n",
       "  'marketing',\n",
       "  'one',\n",
       "  'care',\n",
       "  'anything',\n",
       "  'christmas',\n",
       "  'december',\n",
       "  '26th',\n",
       "  'studio',\n",
       "  'knew',\n",
       "  'bomb',\n",
       "  'purposely',\n",
       "  'dumped',\n",
       "  'few',\n",
       "  'number',\n",
       "  'people',\n",
       "  'would',\n",
       "  'see',\n",
       "  'r'],\n",
       " 'neg')"
      ]
     },
     "execution_count": 37,
     "metadata": {},
     "output_type": "execute_result"
    }
   ],
   "source": [
    "documents[0]"
   ]
  },
  {
   "cell_type": "code",
   "execution_count": null,
   "id": "adverse-scott",
   "metadata": {},
   "outputs": [],
   "source": []
  }
 ],
 "metadata": {
  "kernelspec": {
   "display_name": "Python 3",
   "language": "python",
   "name": "python3"
  },
  "language_info": {
   "codemirror_mode": {
    "name": "ipython",
    "version": 3
   },
   "file_extension": ".py",
   "mimetype": "text/x-python",
   "name": "python",
   "nbconvert_exporter": "python",
   "pygments_lexer": "ipython3",
   "version": "3.7.10"
  }
 },
 "nbformat": 4,
 "nbformat_minor": 5
}
