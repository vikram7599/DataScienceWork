{
 "cells": [
  {
   "cell_type": "code",
   "execution_count": 1,
   "metadata": {},
   "outputs": [],
   "source": [
    "import requests"
   ]
  },
  {
   "cell_type": "code",
   "execution_count": 4,
   "metadata": {},
   "outputs": [],
   "source": [
    "response = requests.get('https://codingninjas.in/api/v3/courses')"
   ]
  },
  {
   "cell_type": "code",
   "execution_count": 6,
   "metadata": {},
   "outputs": [
    {
     "data": {
      "text/plain": [
       "['__attrs__',\n",
       " '__bool__',\n",
       " '__class__',\n",
       " '__delattr__',\n",
       " '__dict__',\n",
       " '__dir__',\n",
       " '__doc__',\n",
       " '__enter__',\n",
       " '__eq__',\n",
       " '__exit__',\n",
       " '__format__',\n",
       " '__ge__',\n",
       " '__getattribute__',\n",
       " '__getstate__',\n",
       " '__gt__',\n",
       " '__hash__',\n",
       " '__init__',\n",
       " '__init_subclass__',\n",
       " '__iter__',\n",
       " '__le__',\n",
       " '__lt__',\n",
       " '__module__',\n",
       " '__ne__',\n",
       " '__new__',\n",
       " '__nonzero__',\n",
       " '__reduce__',\n",
       " '__reduce_ex__',\n",
       " '__repr__',\n",
       " '__setattr__',\n",
       " '__setstate__',\n",
       " '__sizeof__',\n",
       " '__str__',\n",
       " '__subclasshook__',\n",
       " '__weakref__',\n",
       " '_content',\n",
       " '_content_consumed',\n",
       " '_next',\n",
       " 'apparent_encoding',\n",
       " 'close',\n",
       " 'connection',\n",
       " 'content',\n",
       " 'cookies',\n",
       " 'elapsed',\n",
       " 'encoding',\n",
       " 'headers',\n",
       " 'history',\n",
       " 'is_permanent_redirect',\n",
       " 'is_redirect',\n",
       " 'iter_content',\n",
       " 'iter_lines',\n",
       " 'json',\n",
       " 'links',\n",
       " 'next',\n",
       " 'ok',\n",
       " 'raise_for_status',\n",
       " 'raw',\n",
       " 'reason',\n",
       " 'request',\n",
       " 'status_code',\n",
       " 'text',\n",
       " 'url']"
      ]
     },
     "execution_count": 6,
     "metadata": {},
     "output_type": "execute_result"
    }
   ],
   "source": [
    "dir(response)"
   ]
  },
  {
   "cell_type": "code",
   "execution_count": 16,
   "metadata": {},
   "outputs": [
    {
     "name": "stdout",
     "output_type": "stream",
     "text": [
      "{'Date': 'Tue, 22 Dec 2020 18:52:46 GMT', 'Content-Type': 'application/json', 'Transfer-Encoding': 'chunked', 'Connection': 'keep-alive', 'Server': 'nginx', 'X-Frame-Options': 'SAMEORIGIN', 'X-XSS-Protection': '1; mode=block', 'X-Content-Type-Options': 'nosniff', 'Access-Control-Allow-Origin': '*', 'Access-Control-Allow-Methods': 'POST, GET, PATCH, PUT, DELETE, OPTIONS', 'Access-Control-Allow-Headers': 'Access-Control-Allow-Headers, Origin,Accept, X-Requested-With, Content-Type, Access-Control-Request-Method, Access-Control-Request-Headers, Authorization', 'Access-Control-Max-Age': '1728000', 'Vary': 'Accept-Encoding', 'Content-Encoding': 'gzip', 'ETag': 'W/\"9528bd82db64c40beca0c3fa65ab033a\"', 'Cache-Control': 'max-age=0, private, must-revalidate', 'X-Request-Id': '5a3fe61a-630a-46f0-b361-ae278ed1dd36', 'X-Runtime': '0.010891', 'Strict-Transport-Security': 'max-age=31536000; includeSubDomains;'}\n"
     ]
    }
   ],
   "source": [
    "print(response.headers)"
   ]
  },
  {
   "cell_type": "code",
   "execution_count": 17,
   "metadata": {},
   "outputs": [],
   "source": [
    "import json"
   ]
  },
  {
   "cell_type": "code",
   "execution_count": 18,
   "metadata": {},
   "outputs": [],
   "source": [
    "res = json.loads(response.text)"
   ]
  },
  {
   "cell_type": "code",
   "execution_count": 20,
   "metadata": {},
   "outputs": [
    {
     "data": {
      "text/plain": [
       "dict_keys(['data', 'message', 'status', 'error', 'disabled', 'update', 'external_rating'])"
      ]
     },
     "execution_count": 20,
     "metadata": {},
     "output_type": "execute_result"
    }
   ],
   "source": [
    "res.keys()"
   ]
  },
  {
   "cell_type": "code",
   "execution_count": 26,
   "metadata": {},
   "outputs": [
    {
     "data": {
      "text/plain": [
       "dict_keys(['id', 'title', 'online_title', 'offline_title', 'name', 'level', 'brief_intro', 'preview_image_url', 'available_online', 'available_offline', 'is_career_track', 'course_group_id', 'classroom_icon_url'])"
      ]
     },
     "execution_count": 26,
     "metadata": {},
     "output_type": "execute_result"
    }
   ],
   "source": [
    "res['data']['courses'][0].keys()"
   ]
  },
  {
   "cell_type": "code",
   "execution_count": 27,
   "metadata": {},
   "outputs": [
    {
     "name": "stdout",
     "output_type": "stream",
     "text": [
      "Premium Machine Learning Course\n",
      "Premium Full Stack Web Development\n",
      "Premium Android App Development\n",
      "C++ Foundation with Data Structures\n",
      "Advanced  Front-End Web Development with React\n",
      "Ninja Competitive Programmer Track\n",
      "Premium Data Science Course\n",
      "Machine Learning & Deep Learning Course\n",
      "Premium Data structures and Algorithms [C++/Java/Python]\n",
      "Premium Competitive Programming Course\n",
      "Ninja Android Developer Career Track \n",
      "Full Stack Web Development\n",
      "JAVA Foundation with Data Structures\n",
      "Data Science & Machine Learning Complete\n",
      "Ninja  Web Developer Career Track - NodeJS & ReactJs\n",
      "Interview Preparation Course\n",
      "Ninja  Web Developer Career Track - NodeJS\n",
      "Competitive Programming Course\n",
      "Python Foundation with Data Structures\n",
      "Android Development with Kotlin\n",
      "Ninja Data Scientist Career Track\n",
      "Ninja Machine Learning Engineer Career Track\n",
      "Aptitude Preparation Course\n"
     ]
    }
   ],
   "source": [
    "for course in res['data']['courses']:\n",
    "    print(course['name'])"
   ]
  },
  {
   "cell_type": "markdown",
   "metadata": {},
   "source": [
    "## The keys are case insensitive"
   ]
  },
  {
   "cell_type": "code",
   "execution_count": 28,
   "metadata": {},
   "outputs": [],
   "source": [
    "dogRes = requests.get(' https://dog.ceo/api/breeds/list/all')"
   ]
  },
  {
   "cell_type": "code",
   "execution_count": 30,
   "metadata": {},
   "outputs": [
    {
     "data": {
      "text/plain": [
       "'{\"message\":{\"affenpinscher\":[],\"african\":[],\"airedale\":[],\"akita\":[],\"appenzeller\":[],\"australian\":[\"shepherd\"],\"basenji\":[],\"beagle\":[],\"bluetick\":[],\"borzoi\":[],\"bouvier\":[],\"boxer\":[],\"brabancon\":[],\"briard\":[],\"buhund\":[\"norwegian\"],\"bulldog\":[\"boston\",\"english\",\"french\"],\"bullterrier\":[\"staffordshire\"],\"cairn\":[],\"cattledog\":[\"australian\"],\"chihuahua\":[],\"chow\":[],\"clumber\":[],\"cockapoo\":[],\"collie\":[\"border\"],\"coonhound\":[],\"corgi\":[\"cardigan\"],\"cotondetulear\":[],\"dachshund\":[],\"dalmatian\":[],\"dane\":[\"great\"],\"deerhound\":[\"scottish\"],\"dhole\":[],\"dingo\":[],\"doberman\":[],\"elkhound\":[\"norwegian\"],\"entlebucher\":[],\"eskimo\":[],\"finnish\":[\"lapphund\"],\"frise\":[\"bichon\"],\"germanshepherd\":[],\"greyhound\":[\"italian\"],\"groenendael\":[],\"havanese\":[],\"hound\":[\"afghan\",\"basset\",\"blood\",\"english\",\"ibizan\",\"plott\",\"walker\"],\"husky\":[],\"keeshond\":[],\"kelpie\":[],\"komondor\":[],\"kuvasz\":[],\"labrador\":[],\"leonberg\":[],\"lhasa\":[],\"malamute\":[],\"malinois\":[],\"maltese\":[],\"mastiff\":[\"bull\",\"english\",\"tibetan\"],\"mexicanhairless\":[],\"mix\":[],\"mountain\":[\"bernese\",\"swiss\"],\"newfoundland\":[],\"otterhound\":[],\"ovcharka\":[\"caucasian\"],\"papillon\":[],\"pekinese\":[],\"pembroke\":[],\"pinscher\":[\"miniature\"],\"pitbull\":[],\"pointer\":[\"german\",\"germanlonghair\"],\"pomeranian\":[],\"poodle\":[\"miniature\",\"standard\",\"toy\"],\"pug\":[],\"puggle\":[],\"pyrenees\":[],\"redbone\":[],\"retriever\":[\"chesapeake\",\"curly\",\"flatcoated\",\"golden\"],\"ridgeback\":[\"rhodesian\"],\"rottweiler\":[],\"saluki\":[],\"samoyed\":[],\"schipperke\":[],\"schnauzer\":[\"giant\",\"miniature\"],\"setter\":[\"english\",\"gordon\",\"irish\"],\"sheepdog\":[\"english\",\"shetland\"],\"shiba\":[],\"shihtzu\":[],\"spaniel\":[\"blenheim\",\"brittany\",\"cocker\",\"irish\",\"japanese\",\"sussex\",\"welsh\"],\"springer\":[\"english\"],\"stbernard\":[],\"terrier\":[\"american\",\"australian\",\"bedlington\",\"border\",\"dandie\",\"fox\",\"irish\",\"kerryblue\",\"lakeland\",\"norfolk\",\"norwich\",\"patterdale\",\"russell\",\"scottish\",\"sealyham\",\"silky\",\"tibetan\",\"toy\",\"westhighland\",\"wheaten\",\"yorkshire\"],\"vizsla\":[],\"waterdog\":[\"spanish\"],\"weimaraner\":[],\"whippet\":[],\"wolfhound\":[\"irish\"]},\"status\":\"success\"}'"
      ]
     },
     "execution_count": 30,
     "metadata": {},
     "output_type": "execute_result"
    }
   ],
   "source": [
    "dogRes.text"
   ]
  },
  {
   "cell_type": "code",
   "execution_count": 36,
   "metadata": {},
   "outputs": [],
   "source": [
    "jsonForm = dogRes.json()"
   ]
  },
  {
   "cell_type": "code",
   "execution_count": 37,
   "metadata": {},
   "outputs": [
    {
     "data": {
      "text/plain": [
       "94"
      ]
     },
     "execution_count": 37,
     "metadata": {},
     "output_type": "execute_result"
    }
   ],
   "source": [
    "len(jsonForm['message'].keys())"
   ]
  },
  {
   "cell_type": "code",
   "execution_count": 43,
   "metadata": {},
   "outputs": [
    {
     "name": "stdout",
     "output_type": "stream",
     "text": [
      "affenpinscher  :  0\n",
      "african  :  0\n",
      "airedale  :  0\n",
      "akita  :  0\n",
      "appenzeller  :  0\n",
      "australian  :  1\n",
      "basenji  :  0\n",
      "beagle  :  0\n",
      "bluetick  :  0\n",
      "borzoi  :  0\n",
      "bouvier  :  0\n",
      "boxer  :  0\n",
      "brabancon  :  0\n",
      "briard  :  0\n",
      "buhund  :  1\n",
      "bulldog  :  3\n",
      "bullterrier  :  1\n",
      "cairn  :  0\n",
      "cattledog  :  1\n",
      "chihuahua  :  0\n",
      "chow  :  0\n",
      "clumber  :  0\n",
      "cockapoo  :  0\n",
      "collie  :  1\n",
      "coonhound  :  0\n",
      "corgi  :  1\n",
      "cotondetulear  :  0\n",
      "dachshund  :  0\n",
      "dalmatian  :  0\n",
      "dane  :  1\n",
      "deerhound  :  1\n",
      "dhole  :  0\n",
      "dingo  :  0\n",
      "doberman  :  0\n",
      "elkhound  :  1\n",
      "entlebucher  :  0\n",
      "eskimo  :  0\n",
      "finnish  :  1\n",
      "frise  :  1\n",
      "germanshepherd  :  0\n",
      "greyhound  :  1\n",
      "groenendael  :  0\n",
      "havanese  :  0\n",
      "hound  :  7\n",
      "husky  :  0\n",
      "keeshond  :  0\n",
      "kelpie  :  0\n",
      "komondor  :  0\n",
      "kuvasz  :  0\n",
      "labrador  :  0\n",
      "leonberg  :  0\n",
      "lhasa  :  0\n",
      "malamute  :  0\n",
      "malinois  :  0\n",
      "maltese  :  0\n",
      "mastiff  :  3\n",
      "mexicanhairless  :  0\n",
      "mix  :  0\n",
      "mountain  :  2\n",
      "newfoundland  :  0\n",
      "otterhound  :  0\n",
      "ovcharka  :  1\n",
      "papillon  :  0\n",
      "pekinese  :  0\n",
      "pembroke  :  0\n",
      "pinscher  :  1\n",
      "pitbull  :  0\n",
      "pointer  :  2\n",
      "pomeranian  :  0\n",
      "poodle  :  3\n",
      "pug  :  0\n",
      "puggle  :  0\n",
      "pyrenees  :  0\n",
      "redbone  :  0\n",
      "retriever  :  4\n",
      "ridgeback  :  1\n",
      "rottweiler  :  0\n",
      "saluki  :  0\n",
      "samoyed  :  0\n",
      "schipperke  :  0\n",
      "schnauzer  :  2\n",
      "setter  :  3\n",
      "sheepdog  :  2\n",
      "shiba  :  0\n",
      "shihtzu  :  0\n",
      "spaniel  :  7\n",
      "springer  :  1\n",
      "stbernard  :  0\n",
      "terrier  :  21\n",
      "vizsla  :  0\n",
      "waterdog  :  1\n",
      "weimaraner  :  0\n",
      "whippet  :  0\n",
      "wolfhound  :  1\n",
      "171\n"
     ]
    }
   ],
   "source": [
    "count = 0\n",
    "for key, val in jsonForm['message'].items():\n",
    "    print(key, \" : \", len(val))\n",
    "    count += len(val)\n",
    "    count += 1\n",
    "    \n",
    "print(count)"
   ]
  },
  {
   "cell_type": "code",
   "execution_count": 42,
   "metadata": {},
   "outputs": [
    {
     "name": "stdout",
     "output_type": "stream",
     "text": [
      "blenheim\n",
      "brittany\n",
      "cocker\n",
      "irish\n",
      "japanese\n",
      "sussex\n",
      "welsh\n"
     ]
    }
   ],
   "source": [
    "for i in jsonForm['message']['spaniel']:\n",
    "    print(i)"
   ]
  },
  {
   "cell_type": "markdown",
   "metadata": {},
   "source": [
    "# Weather API Use"
   ]
  },
  {
   "cell_type": "code",
   "execution_count": 45,
   "metadata": {},
   "outputs": [
    {
     "name": "stdout",
     "output_type": "stream",
     "text": [
      "{'meta': {'name': 'openaq-api', 'license': 'CC BY 4.0', 'website': 'https://docs.openaq.org/', 'page': 1, 'limit': 100, 'found': 3229}, 'results': [{'country': 'AD', 'name': 'Escaldes-Engordany', 'city': 'Escaldes-Engordany', 'count': 197103, 'locations': 2}, {'country': 'AD', 'name': 'unused', 'city': 'unused', 'count': 16301, 'locations': 1}, {'country': 'AE', 'name': 'Abu Dhabi', 'city': 'Abu Dhabi', 'count': 381027, 'locations': 1}, {'country': 'AE', 'name': 'Dubai', 'city': 'Dubai', 'count': 387176, 'locations': 1}, {'country': 'AE', 'name': 'N/A', 'city': 'N/A', 'count': 43953, 'locations': 2}, {'country': 'AF', 'name': 'Kabul', 'city': 'Kabul', 'count': 195405, 'locations': 1}, {'country': 'AF', 'name': 'N/A', 'city': 'N/A', 'count': 7529, 'locations': 1}, {'country': 'AG', 'name': 'N/A', 'city': 'N/A', 'count': 1, 'locations': 1}, {'country': 'AR', 'name': 'Buenos Aires', 'city': 'Buenos Aires', 'count': 14976, 'locations': 4}, {'country': 'AT', 'name': 'Amt der Burgenländischen Landesregierung', 'city': 'Amt der Burgenländischen Landesregierung', 'count': 471, 'locations': 1}, {'country': 'AT', 'name': 'Amt der Burgenl�ndischen Landesregierung', 'city': 'Amt der Burgenl�ndischen Landesregierung', 'count': 35608, 'locations': 3}, {'country': 'AT', 'name': 'Amt der Kärntner Landesregierung', 'city': 'Amt der Kärntner Landesregierung', 'count': 471, 'locations': 1}, {'country': 'AT', 'name': 'Amt der K�rntner Landesregierung', 'city': 'Amt der K�rntner Landesregierung', 'count': 104663, 'locations': 16}, {'country': 'AT', 'name': 'Amt der Niederösterreichischen Landesregierung', 'city': 'Amt der Niederösterreichischen Landesregierung', 'count': 1413, 'locations': 3}, {'country': 'AT', 'name': 'Amt der Nieder�sterreichischen Landesregierung', 'city': 'Amt der Nieder�sterreichischen Landesregierung', 'count': 322499, 'locations': 39}, {'country': 'AT', 'name': 'Amt der Oberösterreichischen Landesregierung', 'city': 'Amt der Oberösterreichischen Landesregierung', 'count': 2828, 'locations': 6}, {'country': 'AT', 'name': 'Amt der Ober�sterreichischen Landesregierung', 'city': 'Amt der Ober�sterreichischen Landesregierung', 'count': 154329, 'locations': 16}, {'country': 'AT', 'name': 'Amt der Salzburger Landesregierung', 'city': 'Amt der Salzburger Landesregierung', 'count': 94197, 'locations': 12}, {'country': 'AT', 'name': 'Amt der Steiermärkischen Landesregierung', 'city': 'Amt der Steiermärkischen Landesregierung', 'count': 1891, 'locations': 4}, {'country': 'AT', 'name': 'Amt der Steierm�rkischen Landesregierung', 'city': 'Amt der Steierm�rkischen Landesregierung', 'count': 320372, 'locations': 41}, {'country': 'AT', 'name': 'Amt der Tiroler Landesregierung', 'city': 'Amt der Tiroler Landesregierung', 'count': 113161, 'locations': 19}, {'country': 'AT', 'name': 'Austria', 'city': 'Austria', 'count': 121987, 'locations': 174}, {'country': 'AT', 'name': 'Burgenland', 'city': 'Burgenland', 'count': 204134, 'locations': 4}, {'country': 'AT', 'name': 'Gemeinde Wien, MA22 Umweltschutz', 'city': 'Gemeinde Wien, MA22 Umweltschutz', 'count': 130328, 'locations': 21}, {'country': 'AT', 'name': 'Kärnten', 'city': 'Kärnten', 'count': 450351, 'locations': 14}, {'country': 'AT', 'name': 'Niederösterreich', 'city': 'Niederösterreich', 'count': 1305456, 'locations': 40}, {'country': 'AT', 'name': 'Oberösterreich', 'city': 'Oberösterreich', 'count': 806367, 'locations': 16}, {'country': 'AT', 'name': 'Salzburg', 'city': 'Salzburg', 'count': 361656, 'locations': 12}, {'country': 'AT', 'name': 'Steiermark', 'city': 'Steiermark', 'count': 1151722, 'locations': 38}, {'country': 'AT', 'name': 'Tirol', 'city': 'Tirol', 'count': 430574, 'locations': 19}, {'country': 'AT', 'name': 'Umweltbundesamt', 'city': 'Umweltbundesamt', 'count': 81025, 'locations': 8}, {'country': 'AT', 'name': 'Umweltinstitut des Landes Vorarlberg', 'city': 'Umweltinstitut des Landes Vorarlberg', 'count': 36108, 'locations': 9}, {'country': 'AT', 'name': 'Vorarlberg', 'city': 'Vorarlberg', 'count': 120600, 'locations': 8}, {'country': 'AT', 'name': 'Wien', 'city': 'Wien', 'count': 637494, 'locations': 17}, {'country': 'AU', 'name': 'Adelaide', 'city': 'Adelaide', 'count': 231560, 'locations': 9}, {'country': 'AU', 'name': 'Altona North', 'city': 'Altona North', 'count': 8803, 'locations': 1}, {'country': 'AU', 'name': 'Altona North 1', 'city': 'Altona North 1', 'count': 81, 'locations': 1}, {'country': 'AU', 'name': 'Altona North 2', 'city': 'Altona North 2', 'count': 78, 'locations': 1}, {'country': 'AU', 'name': 'Bairnsdale', 'city': 'Bairnsdale', 'count': 981, 'locations': 1}, {'country': 'AU', 'name': 'Bairnsdale ', 'city': 'Bairnsdale ', 'count': 50, 'locations': 1}, {'country': 'AU', 'name': 'Bendigo', 'city': 'Bendigo', 'count': 7951, 'locations': 1}, {'country': 'AU', 'name': 'Bright', 'city': 'Bright', 'count': 958, 'locations': 1}, {'country': 'AU', 'name': 'Bulla North', 'city': 'Bulla North', 'count': 66, 'locations': 1}, {'country': 'AU', 'name': 'Bulla South', 'city': 'Bulla South', 'count': 68, 'locations': 1}, {'country': 'AU', 'name': 'Campbellfield', 'city': 'Campbellfield', 'count': 10971, 'locations': 1}, {'country': 'AU', 'name': 'Canberra', 'city': 'Canberra', 'count': 2999549, 'locations': 3}, {'country': 'AU', 'name': 'Cann River', 'city': 'Cann River', 'count': 660, 'locations': 1}, {'country': 'AU', 'name': 'Central Coast', 'city': 'Central Coast', 'count': 242775, 'locations': 1}, {'country': 'AU', 'name': 'Central Queensland', 'city': 'Central Queensland', 'count': 151445, 'locations': 7}, {'country': 'AU', 'name': 'Central Tablelands', 'city': 'Central Tablelands', 'count': 99154, 'locations': 2}, {'country': 'AU', 'name': 'Churchill', 'city': 'Churchill', 'count': 11248, 'locations': 1}, {'country': 'AU', 'name': 'Geelong', 'city': 'Geelong', 'count': 66891, 'locations': 1}, {'country': 'AU', 'name': 'Gladstone', 'city': 'Gladstone', 'count': 712092, 'locations': 8}, {'country': 'AU', 'name': 'Healesville', 'city': 'Healesville', 'count': 9274, 'locations': 1}, {'country': 'AU', 'name': 'Illawarra', 'city': 'Illawarra', 'count': 608866, 'locations': 3}, {'country': 'AU', 'name': 'Lakes Entrance', 'city': 'Lakes Entrance', 'count': 404, 'locations': 1}, {'country': 'AU', 'name': 'Lower Hunter', 'city': 'Lower Hunter', 'count': 618660, 'locations': 3}, {'country': 'AU', 'name': 'Mackay', 'city': 'Mackay', 'count': 30102, 'locations': 2}, {'country': 'AU', 'name': 'Mallacoota', 'city': 'Mallacoota', 'count': 706, 'locations': 1}, {'country': 'AU', 'name': 'Marlo', 'city': 'Marlo', 'count': 604, 'locations': 1}, {'country': 'AU', 'name': 'Melbourne', 'city': 'Melbourne', 'count': 294551, 'locations': 11}, {'country': 'AU', 'name': 'Melton', 'city': 'Melton', 'count': 22290, 'locations': 1}, {'country': 'AU', 'name': 'Moe', 'city': 'Moe', 'count': 11846, 'locations': 1}, {'country': 'AU', 'name': 'Morwell', 'city': 'Morwell', 'count': 97803, 'locations': 2}, {'country': 'AU', 'name': 'Mount Isa', 'city': 'Mount Isa', 'count': 22622, 'locations': 2}, {'country': 'AU', 'name': 'MRI Campbellfield fire', 'city': 'MRI Campbellfield fire', 'count': 222, 'locations': 1}, {'country': 'AU', 'name': 'Mt Isa', 'city': 'Mt Isa', 'count': 43106, 'locations': 2}, {'country': 'AU', 'name': 'Muswellbrook', 'city': 'Muswellbrook', 'count': 32371, 'locations': 1}, {'country': 'AU', 'name': 'Newborough', 'city': 'Newborough', 'count': 11215, 'locations': 1}, {'country': 'AU', 'name': 'Nicholson', 'city': 'Nicholson', 'count': 181, 'locations': 1}, {'country': 'AU', 'name': 'Northern Tablelands', 'city': 'Northern Tablelands', 'count': 20948, 'locations': 1}, {'country': 'AU', 'name': 'North-west Slopes', 'city': 'North-west Slopes', 'count': 141144, 'locations': 3}, {'country': 'AU', 'name': 'Omeo', 'city': 'Omeo', 'count': 991, 'locations': 1}, {'country': 'AU', 'name': 'Orbost', 'city': 'Orbost', 'count': 934, 'locations': 1}, {'country': 'AU', 'name': 'Point Cook', 'city': 'Point Cook', 'count': 19101, 'locations': 1}, {'country': 'AU', 'name': 'Port Augusta', 'city': 'Port Augusta', 'count': 6739, 'locations': 1}, {'country': 'AU', 'name': 'Port Pirie', 'city': 'Port Pirie', 'count': 20725, 'locations': 1}, {'country': 'AU', 'name': 'Rosedale', 'city': 'Rosedale', 'count': 11824, 'locations': 1}, {'country': 'AU', 'name': 'Sarsfield', 'city': 'Sarsfield', 'count': 482, 'locations': 1}, {'country': 'AU', 'name': 'Singleton', 'city': 'Singleton', 'count': 31507, 'locations': 1}, {'country': 'AU', 'name': 'South East Queensland', 'city': 'South East Queensland', 'count': 1302150, 'locations': 15}, {'country': 'AU', 'name': 'Southern Tablelands', 'city': 'Southern Tablelands', 'count': 41781, 'locations': 1}, {'country': 'AU', 'name': 'South West Queensland', 'city': 'South West Queensland', 'count': 271548, 'locations': 5}, {'country': 'AU', 'name': 'South-west Slopes', 'city': 'South-west Slopes', 'count': 153495, 'locations': 2}, {'country': 'AU', 'name': \"Swift's Creek\", 'city': \"Swift's Creek\", 'count': 1003, 'locations': 1}, {'country': 'AU', 'name': 'Sydney East', 'city': 'Sydney East', 'count': 1001714, 'locations': 7}, {'country': 'AU', 'name': 'Sydney North-west', 'city': 'Sydney North-west', 'count': 734152, 'locations': 6}, {'country': 'AU', 'name': 'Sydney South-west', 'city': 'Sydney South-west', 'count': 1134507, 'locations': 6}, {'country': 'AU', 'name': 'Tasmania Region', 'city': 'Tasmania Region', 'count': 876156, 'locations': 34}, {'country': 'AU', 'name': 'Thomastown East', 'city': 'Thomastown East', 'count': 142, 'locations': 1}, {'country': 'AU', 'name': 'Townsville', 'city': 'Townsville', 'count': 161393, 'locations': 5}, {'country': 'AU', 'name': 'Traralgon', 'city': 'Traralgon', 'count': 67344, 'locations': 1}, {'country': 'AU', 'name': 'Upper Hunter - Muswellbrook', 'city': 'Upper Hunter - Muswellbrook', 'count': 129047, 'locations': 1}, {'country': 'AU', 'name': 'Upper Hunter - Singleton', 'city': 'Upper Hunter - Singleton', 'count': 129729, 'locations': 1}, {'country': 'AU', 'name': 'Wangaratta', 'city': 'Wangaratta', 'count': 11189, 'locations': 1}, {'country': 'AU', 'name': 'Warburton', 'city': 'Warburton', 'count': 9492, 'locations': 1}, {'country': 'AU', 'name': 'Whyalla', 'city': 'Whyalla', 'count': 23966, 'locations': 3}, {'country': 'AU', 'name': 'Wodonga', 'city': 'Wodonga', 'count': 1001, 'locations': 1}, {'country': 'AU', 'name': 'Yinnar', 'city': 'Yinnar', 'count': 11594, 'locations': 1}, {'country': 'BA', 'name': 'Goražde', 'city': 'Goražde', 'count': 70797, 'locations': 1}]}\n",
      "https://api.openaq.org/v1/cities\n"
     ]
    }
   ],
   "source": [
    "a = requests.get('https://api.openaq.org/v1/cities')\n",
    "print(a.json())\n",
    "print(a.url)"
   ]
  },
  {
   "cell_type": "code",
   "execution_count": 57,
   "metadata": {},
   "outputs": [
    {
     "data": {
      "text/plain": [
       "200"
      ]
     },
     "execution_count": 57,
     "metadata": {},
     "output_type": "execute_result"
    }
   ],
   "source": [
    "a = requests.get('https://api.openaq.org/v1/cities', params = {\"country\" : \"US\", \"limit\": 3})\n",
    "a.status_code"
   ]
  },
  {
   "cell_type": "code",
   "execution_count": 60,
   "metadata": {},
   "outputs": [
    {
     "data": {
      "text/plain": [
       "3"
      ]
     },
     "execution_count": 60,
     "metadata": {},
     "output_type": "execute_result"
    }
   ],
   "source": [
    "len(a.json()['results'])"
   ]
  },
  {
   "cell_type": "code",
   "execution_count": 61,
   "metadata": {},
   "outputs": [
    {
     "name": "stdout",
     "output_type": "stream",
     "text": [
      "afghan\n",
      "basset\n",
      "blood\n",
      "english\n",
      "ibizan\n",
      "plott\n",
      "walker\n"
     ]
    }
   ],
   "source": [
    "import requests\n",
    "\n",
    "p = requests.get('https://dog.ceo/api/breeds/list/all')\n",
    "\n",
    "python_data = p.json()\n",
    "\n",
    "for i in python_data['message']['hound']:\n",
    "    print(i)"
   ]
  },
  {
   "cell_type": "code",
   "execution_count": 62,
   "metadata": {},
   "outputs": [
    {
     "name": "stdout",
     "output_type": "stream",
     "text": [
      "afghan\n",
      "basset\n",
      "blood\n",
      "english\n",
      "ibizan\n",
      "plott\n",
      "walker\n"
     ]
    }
   ],
   "source": [
    "response = requests.get('https://dog.ceo/api/breeds/list/all') \n",
    "data = json.loads(response.text)\n",
    "all_breeds = data['message'] \n",
    "hound = all_breeds['hound']\n",
    "for dog in hound : \n",
    "    print(dog)"
   ]
  },
  {
   "cell_type": "markdown",
   "metadata": {},
   "source": [
    "## Meta Weather API"
   ]
  },
  {
   "cell_type": "code",
   "execution_count": 88,
   "metadata": {},
   "outputs": [
    {
     "name": "stdout",
     "output_type": "stream",
     "text": [
      "https://www.metaweather.com/api/location/search/?query=Kolkata\n"
     ]
    }
   ],
   "source": [
    "p = requests.get('https://www.metaweather.com/api/location/search/', params = {\"query\" : \"Kolkata\"})\n",
    "p.status_code\n",
    "print(p.url)"
   ]
  },
  {
   "cell_type": "code",
   "execution_count": 85,
   "metadata": {},
   "outputs": [
    {
     "data": {
      "text/plain": [
       "<Response [200]>"
      ]
     },
     "execution_count": 85,
     "metadata": {},
     "output_type": "execute_result"
    }
   ],
   "source": [
    "p"
   ]
  },
  {
   "cell_type": "code",
   "execution_count": 86,
   "metadata": {},
   "outputs": [
    {
     "data": {
      "text/plain": [
       "[{'title': 'Kolkata',\n",
       "  'location_type': 'City',\n",
       "  'woeid': 2295386,\n",
       "  'latt_long': '22.549940,88.371582'}]"
      ]
     },
     "execution_count": 86,
     "metadata": {},
     "output_type": "execute_result"
    }
   ],
   "source": [
    "p.json()"
   ]
  },
  {
   "cell_type": "markdown",
   "metadata": {},
   "source": [
    "## NASA APOD"
   ]
  },
  {
   "cell_type": "code",
   "execution_count": 100,
   "metadata": {},
   "outputs": [
    {
     "data": {
      "text/plain": [
       "200"
      ]
     },
     "execution_count": 100,
     "metadata": {},
     "output_type": "execute_result"
    }
   ],
   "source": [
    "p = requests.get('https://api.nasa.gov/planetary/apod', params = {\"api_key\" : \"DEMO_KEY\", \"hd\": False})\n",
    "p.status_code"
   ]
  },
  {
   "cell_type": "code",
   "execution_count": 101,
   "metadata": {},
   "outputs": [],
   "source": [
    "jsonForm = json.loads(p.text)"
   ]
  },
  {
   "cell_type": "code",
   "execution_count": 102,
   "metadata": {},
   "outputs": [
    {
     "name": "stdout",
     "output_type": "stream",
     "text": [
      "https://apod.nasa.gov/apod/image/2012/Trifid_HubbleMehla_1080.jpg\n"
     ]
    }
   ],
   "source": [
    "print(jsonForm['url'])"
   ]
  },
  {
   "cell_type": "code",
   "execution_count": 103,
   "metadata": {},
   "outputs": [
    {
     "data": {
      "text/plain": [
       "{'date': '2020-12-22',\n",
       " 'explanation': \"Dust pillars are like interstellar mountains.  They survive because they are more dense than their surroundings, but they are being slowly eroded away by a hostile environment.  Visible in the featured picture is the end of a huge gas and dust pillar in the Trifid Nebula (M20), punctuated by a smaller pillar pointing up and an unusual jet pointing to the left.  Many of the dots are newly formed low-mass stars. A star near the small pillar's end is slowly being stripped of its accreting gas by radiation from a tremendously brighter star situated off the top of the image.  The jet extends nearly a light-year and would not be visible without external illumination.  As gas and dust evaporate from the pillars, the hidden stellar source of this jet will likely be uncovered, possibly over the next 20,000 years.   Growing Gallery: Notable images of the Great Conjunction submitted to APOD\",\n",
       " 'hdurl': 'https://apod.nasa.gov/apod/image/2012/Trifid_HubbleMehla_1446.jpg',\n",
       " 'media_type': 'image',\n",
       " 'service_version': 'v1',\n",
       " 'title': 'Trifid Pillars and Jets',\n",
       " 'url': 'https://apod.nasa.gov/apod/image/2012/Trifid_HubbleMehla_1080.jpg'}"
      ]
     },
     "execution_count": 103,
     "metadata": {},
     "output_type": "execute_result"
    }
   ],
   "source": [
    "jsonForm"
   ]
  },
  {
   "cell_type": "markdown",
   "metadata": {},
   "source": [
    "# POST"
   ]
  },
  {
   "cell_type": "markdown",
   "metadata": {},
   "source": [
    "### Explore PUT, PATCH, DELETE     "
   ]
  },
  {
   "cell_type": "markdown",
   "metadata": {},
   "source": [
    "httpbin.org"
   ]
  },
  {
   "cell_type": "code",
   "execution_count": 5,
   "metadata": {},
   "outputs": [],
   "source": [
    "import requests\n",
    "import json\n",
    "response = requests.post('http://httpbin.org/post')"
   ]
  },
  {
   "cell_type": "code",
   "execution_count": 3,
   "metadata": {},
   "outputs": [
    {
     "name": "stdout",
     "output_type": "stream",
     "text": [
      "200\n"
     ]
    }
   ],
   "source": [
    "print(response.status_code)"
   ]
  },
  {
   "cell_type": "code",
   "execution_count": 7,
   "metadata": {},
   "outputs": [
    {
     "name": "stdout",
     "output_type": "stream",
     "text": [
      "{\n",
      "  \"args\": {}, \n",
      "  \"data\": \"\", \n",
      "  \"files\": {}, \n",
      "  \"form\": {}, \n",
      "  \"headers\": {\n",
      "    \"Accept\": \"*/*\", \n",
      "    \"Accept-Encoding\": \"gzip, deflate\", \n",
      "    \"Content-Length\": \"0\", \n",
      "    \"Host\": \"httpbin.org\", \n",
      "    \"User-Agent\": \"python-requests/2.22.0\", \n",
      "    \"X-Amzn-Trace-Id\": \"Root=1-5fe38044-40b41fc648dfe5b65e400b4f\"\n",
      "  }, \n",
      "  \"json\": null, \n",
      "  \"origin\": \"103.41.24.102\", \n",
      "  \"url\": \"http://httpbin.org/post\"\n",
      "}\n",
      "\n"
     ]
    }
   ],
   "source": [
    "print(response.text)"
   ]
  },
  {
   "cell_type": "code",
   "execution_count": 9,
   "metadata": {},
   "outputs": [
    {
     "name": "stdout",
     "output_type": "stream",
     "text": [
      "{\n",
      "  \"args\": {}, \n",
      "  \"data\": \"\", \n",
      "  \"files\": {}, \n",
      "  \"form\": {\n",
      "    \"key1\": [\n",
      "      \"val1\", \n",
      "      \"val2\", \n",
      "      \"val3\"\n",
      "    ], \n",
      "    \"key2\": \"val2\"\n",
      "  }, \n",
      "  \"headers\": {\n",
      "    \"Accept\": \"*/*\", \n",
      "    \"Accept-Encoding\": \"gzip, deflate\", \n",
      "    \"Content-Length\": \"39\", \n",
      "    \"Content-Type\": \"application/x-www-form-urlencoded\", \n",
      "    \"Host\": \"httpbin.org\", \n",
      "    \"User-Agent\": \"python-requests/2.22.0\", \n",
      "    \"X-Amzn-Trace-Id\": \"Root=1-5fe380f8-6346844b732fe2c7685ef605\"\n",
      "  }, \n",
      "  \"json\": null, \n",
      "  \"origin\": \"103.41.24.102\", \n",
      "  \"url\": \"http://httpbin.org/post\"\n",
      "}\n",
      "\n"
     ]
    }
   ],
   "source": [
    "response = requests.post('http://httpbin.org/post', data = {'key1': ['val1', 'val2', 'val3'],\n",
    "                                                            'key2': 'val2'})\n",
    "\n",
    "print(response.text)"
   ]
  },
  {
   "cell_type": "code",
   "execution_count": 10,
   "metadata": {},
   "outputs": [
    {
     "name": "stdout",
     "output_type": "stream",
     "text": [
      "{\n",
      "  \"args\": {}, \n",
      "  \"data\": \"\", \n",
      "  \"files\": {}, \n",
      "  \"form\": {\n",
      "    \"key1\": \"val1\", \n",
      "    \"key2\": \"val2\", \n",
      "    \"key3\": \"val3\"\n",
      "  }, \n",
      "  \"headers\": {\n",
      "    \"Accept\": \"*/*\", \n",
      "    \"Accept-Encoding\": \"gzip, deflate\", \n",
      "    \"Content-Length\": \"29\", \n",
      "    \"Content-Type\": \"application/x-www-form-urlencoded\", \n",
      "    \"Host\": \"httpbin.org\", \n",
      "    \"User-Agent\": \"python-requests/2.22.0\", \n",
      "    \"X-Amzn-Trace-Id\": \"Root=1-5fe38146-4043d1b6781cb2e910898fb0\"\n",
      "  }, \n",
      "  \"json\": null, \n",
      "  \"origin\": \"103.41.24.102\", \n",
      "  \"url\": \"http://httpbin.org/post\"\n",
      "}\n",
      "\n"
     ]
    }
   ],
   "source": [
    "response = requests.post('http://httpbin.org/post', data = [('key1', 'val1'), ('key2', 'val2'), ('key3', 'val3')])\n",
    "\n",
    "print(response.text)"
   ]
  },
  {
   "cell_type": "code",
   "execution_count": 12,
   "metadata": {},
   "outputs": [],
   "source": [
    "response = requests.post('https://jsonplaceholder.typicode.com/posts')"
   ]
  },
  {
   "cell_type": "code",
   "execution_count": 13,
   "metadata": {},
   "outputs": [
    {
     "data": {
      "text/plain": [
       "201"
      ]
     },
     "execution_count": 13,
     "metadata": {},
     "output_type": "execute_result"
    }
   ],
   "source": [
    "response.status_code"
   ]
  },
  {
   "cell_type": "code",
   "execution_count": 15,
   "metadata": {},
   "outputs": [
    {
     "name": "stdout",
     "output_type": "stream",
     "text": [
      "{\n",
      "  \"id\": 101\n",
      "}\n"
     ]
    }
   ],
   "source": [
    "print(response.text)"
   ]
  },
  {
   "cell_type": "code",
   "execution_count": 16,
   "metadata": {},
   "outputs": [
    {
     "name": "stdout",
     "output_type": "stream",
     "text": [
      "https://jsonplaceholder.typicode.com/posts\n"
     ]
    }
   ],
   "source": [
    "print(response.url)"
   ]
  },
  {
   "cell_type": "code",
   "execution_count": 17,
   "metadata": {},
   "outputs": [
    {
     "name": "stdout",
     "output_type": "stream",
     "text": [
      "{\n",
      "  \"userId\": \"2\",\n",
      "  \"<built-in function id>\": \"200\",\n",
      "  \"title\": \"test\",\n",
      "  \"id\": 101\n",
      "}\n"
     ]
    }
   ],
   "source": [
    "r = requests.post('https://jsonplaceholder.typicode.com/posts', data = {'userId' : 2, id : 200, 'title' : 'test'})\n",
    "print(r.text)"
   ]
  },
  {
   "cell_type": "raw",
   "metadata": {},
   "source": [
    "The id remains 101 instead of changing because our post isn't changing the actual database of the website. So every time only 101 will be reflected"
   ]
  },
  {
   "cell_type": "code",
   "execution_count": 18,
   "metadata": {},
   "outputs": [
    {
     "name": "stdout",
     "output_type": "stream",
     "text": [
      "https://jsonplaceholder.typicode.com/posts\n"
     ]
    }
   ],
   "source": [
    "print(r.url)"
   ]
  },
  {
   "cell_type": "code",
   "execution_count": null,
   "metadata": {},
   "outputs": [],
   "source": []
  }
 ],
 "metadata": {
  "kernelspec": {
   "display_name": "Python 3",
   "language": "python",
   "name": "python3"
  },
  "language_info": {
   "codemirror_mode": {
    "name": "ipython",
    "version": 3
   },
   "file_extension": ".py",
   "mimetype": "text/x-python",
   "name": "python",
   "nbconvert_exporter": "python",
   "pygments_lexer": "ipython3",
   "version": "3.7.6"
  }
 },
 "nbformat": 4,
 "nbformat_minor": 4
}
