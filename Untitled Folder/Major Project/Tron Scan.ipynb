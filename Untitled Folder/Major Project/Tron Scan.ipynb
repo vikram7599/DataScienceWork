{
 "cells": [
  {
   "cell_type": "code",
   "execution_count": 1,
   "id": "complicated-waters",
   "metadata": {},
   "outputs": [],
   "source": [
    "import pandas as pd\n",
    "import numpy as np\n",
    "import time\n",
    "from selenium import webdriver\n",
    "import threading\n",
    "from datetime import datetime"
   ]
  },
  {
   "cell_type": "code",
   "execution_count": 2,
   "id": "fallen-forth",
   "metadata": {},
   "outputs": [],
   "source": []
  },
  {
   "cell_type": "code",
   "execution_count": 44,
   "id": "understanding-affiliation",
   "metadata": {},
   "outputs": [],
   "source": [
    "driver = webdriver.Chrome()"
   ]
  },
  {
   "cell_type": "code",
   "execution_count": null,
   "id": "experienced-request",
   "metadata": {},
   "outputs": [],
   "source": []
  },
  {
   "cell_type": "code",
   "execution_count": 45,
   "id": "silver-gentleman",
   "metadata": {},
   "outputs": [],
   "source": [
    "driver.maximize_window()"
   ]
  },
  {
   "cell_type": "code",
   "execution_count": 7,
   "id": "interim-creativity",
   "metadata": {},
   "outputs": [],
   "source": [
    "driver.get('https://tronscan.org/')"
   ]
  },
  {
   "cell_type": "code",
   "execution_count": 13,
   "id": "conceptual-vessel",
   "metadata": {},
   "outputs": [
    {
     "name": "stdout",
     "output_type": "stream",
     "text": [
      "34secs ago\n"
     ]
    }
   ],
   "source": [
    "print()"
   ]
  },
  {
   "cell_type": "code",
   "execution_count": 16,
   "id": "functioning-formation",
   "metadata": {},
   "outputs": [
    {
     "name": "stdout",
     "output_type": "stream",
     "text": [
      "yesy\n"
     ]
    }
   ],
   "source": [
    "a = '/html/body/div/main/div/div/div[1]/div[2]/div/table/tbody/tr[3]/td/span/div/span[1]/span'\n",
    "b = '/html/body/div/main/div/div/div[1]/div[2]/div/table/tbody/tr[3]/td/span/div/span[1]/span'\n",
    "if a == b:\n",
    "    print('yesy')"
   ]
  },
  {
   "cell_type": "code",
   "execution_count": 9,
   "id": "superb-yugoslavia",
   "metadata": {},
   "outputs": [],
   "source": []
  },
  {
   "cell_type": "code",
   "execution_count": 23,
   "id": "descending-latin",
   "metadata": {},
   "outputs": [],
   "source": [
    "t = '/html/body/div/main/div/div/div[1]/div[2]/div/table/tbody/tr[6]/td/div/div[1]/div' #Timer Tag"
   ]
  },
  {
   "cell_type": "code",
   "execution_count": 24,
   "id": "premier-swift",
   "metadata": {},
   "outputs": [
    {
     "name": "stdout",
     "output_type": "stream",
     "text": [
      "1min 1sec ago\n"
     ]
    }
   ],
   "source": [
    "temp = driver.find_element_by_xpath(a)\n",
    "while temp.text != 'CONFIRMED':\n",
    "    time.sleep(1)\n",
    "    temp = driver.find_element_by_xpath(a)\n",
    "    timer = driver.find_element_by_xpath(t)\n",
    "print(timer.text)"
   ]
  },
  {
   "cell_type": "code",
   "execution_count": 25,
   "id": "prostate-indianapolis",
   "metadata": {},
   "outputs": [],
   "source": [
    "moreXpath = '/html/body/div/main/div[2]/div/div[1]/div[2]/div/div[1]/a'"
   ]
  },
  {
   "cell_type": "code",
   "execution_count": 26,
   "id": "combined-geneva",
   "metadata": {},
   "outputs": [],
   "source": [
    "driver.get('https://tronscan.org')"
   ]
  },
  {
   "cell_type": "code",
   "execution_count": 27,
   "id": "fifth-moderator",
   "metadata": {},
   "outputs": [],
   "source": [
    "moreClick = driver.find_element_by_xpath(moreXpath)"
   ]
  },
  {
   "cell_type": "code",
   "execution_count": 47,
   "id": "smooth-necklace",
   "metadata": {},
   "outputs": [],
   "source": [
    "temp = "
   ]
  },
  {
   "cell_type": "code",
   "execution_count": 48,
   "id": "living-volume",
   "metadata": {},
   "outputs": [
    {
     "data": {
      "text/plain": [
       "[<selenium.webdriver.remote.webelement.WebElement (session=\"ecf47f2b4430c159206ae2c250739759\", element=\"e00041d2-0667-46ad-864e-c54ee2bdb2a9\")>]"
      ]
     },
     "execution_count": 48,
     "metadata": {},
     "output_type": "execute_result"
    }
   ],
   "source": [
    "temp"
   ]
  },
  {
   "cell_type": "code",
   "execution_count": 28,
   "id": "associate-layout",
   "metadata": {},
   "outputs": [],
   "source": [
    "moreClick.click()"
   ]
  },
  {
   "cell_type": "code",
   "execution_count": 40,
   "id": "rapid-principle",
   "metadata": {},
   "outputs": [],
   "source": [
    "links = driver.find_elements_by_class_name('truncate-ellipsis')"
   ]
  },
  {
   "cell_type": "code",
   "execution_count": 41,
   "id": "sealed-cassette",
   "metadata": {},
   "outputs": [
    {
     "data": {
      "text/plain": [
       "<selenium.webdriver.remote.webelement.WebElement (session=\"51dfc559ff5102b33c81cc8a2ab3351f\", element=\"b051bf30-1800-4acf-9e6e-647b779e44fd\")>"
      ]
     },
     "execution_count": 41,
     "metadata": {},
     "output_type": "execute_result"
    }
   ],
   "source": [
    "links[0]"
   ]
  },
  {
   "cell_type": "code",
   "execution_count": 50,
   "id": "entertaining-interaction",
   "metadata": {},
   "outputs": [],
   "source": [
    "links = []\n",
    "for i in range(10):\n",
    "    driver.get('https://tronscan.org/#/blockchain/transactions')\n",
    "    time.sleep(3)\n",
    "    t = driver.find_element_by_xpath('/html/body/div/main/div[3]/div/div/div/div/div/div/div/div/div/div/table/tbody/tr[1]/td[1]/div/span/a').get_attribute('href')\n",
    "    finalLink = 'https://tronscan.org/' + t\n",
    "    links.append(finalLink)\n",
    "\n"
   ]
  },
  {
   "cell_type": "code",
   "execution_count": 52,
   "id": "hybrid-dover",
   "metadata": {},
   "outputs": [
    {
     "name": "stdout",
     "output_type": "stream",
     "text": [
      "Same\n"
     ]
    }
   ],
   "source": [
    "for i in range(10):\n",
    "    for j in range(i+1, 10):\n",
    "        if links[i] == links[j]:\n",
    "            print('Same')\n",
    "        "
   ]
  },
  {
   "cell_type": "code",
   "execution_count": 53,
   "id": "inappropriate-train",
   "metadata": {},
   "outputs": [
    {
     "data": {
      "text/plain": [
       "['https://tronscan.org/https://tronscan.org/#/transaction/d14d64f0dc1dd7360e7365a7e40fae7fc9205830b217854e44064d1a2a2025ad',\n",
       " 'https://tronscan.org/https://tronscan.org/#/transaction/d14d64f0dc1dd7360e7365a7e40fae7fc9205830b217854e44064d1a2a2025ad',\n",
       " 'https://tronscan.org/https://tronscan.org/#/transaction/f531b9248f8f66b7aecdefc495aec88fa637025c0557852d486cc86105b25f49',\n",
       " 'https://tronscan.org/https://tronscan.org/#/transaction/e5b4c4a2d44f2347fb05e20f074c54a99906a97fc339f61c026d855e6d618994',\n",
       " 'https://tronscan.org/https://tronscan.org/#/transaction/6402fc8c7e9eef1d9743edf9839ddc4930aa7a440da262c7fdac0ded1b0fd8ed',\n",
       " 'https://tronscan.org/https://tronscan.org/#/transaction/60953556ab7f175d2a18f32f15cb1acaeec004d95d03dc8f9b3fb2b925cf5ace',\n",
       " 'https://tronscan.org/https://tronscan.org/#/transaction/2dfd430853e83e4420d9b84b6922dc71c78bbe82aab2b9ae5776d9d87be54b2c',\n",
       " 'https://tronscan.org/https://tronscan.org/#/transaction/27dd081fb4d3ac2f2892a6b1e9e31bc3e4f56cd50e8850e79b3a379b4a0be79b',\n",
       " 'https://tronscan.org/https://tronscan.org/#/transaction/271f4f1ae464cf4c98c2b4049ae71e653aad2d3807ab95fd7b09aa5d7b1be84a',\n",
       " 'https://tronscan.org/https://tronscan.org/#/transaction/961aed547691894791e5fa711e42f8cdc58991825506423142fffc9f425c8f6d']"
      ]
     },
     "execution_count": 53,
     "metadata": {},
     "output_type": "execute_result"
    }
   ],
   "source": [
    "links"
   ]
  },
  {
   "cell_type": "markdown",
   "id": "accomplished-cutting",
   "metadata": {},
   "source": [
    "## Threading concept"
   ]
  },
  {
   "cell_type": "code",
   "execution_count": 7,
   "id": "referenced-cleveland",
   "metadata": {},
   "outputs": [],
   "source": []
  },
  {
   "cell_type": "code",
   "execution_count": 8,
   "id": "trying-viewer",
   "metadata": {},
   "outputs": [],
   "source": [
    "\n",
    "\n",
    "listV = []\n",
    "def print_cube(num):\n",
    "    print('Cube of number is : {}'.format(num*num*num))\n",
    "    now = datetime.now()\n",
    "    current_time = now.strftime(\"%H:%M:%S\")\n",
    "    print(\"Current Time in cube =\", current_time)\n",
    "    listV.append(num*num*num)\n",
    "    time.sleep(10)\n",
    "    now = datetime.now()\n",
    "    current_time = now.strftime(\"%H:%M:%S\")\n",
    "    print(\"Current Time in cube =\", current_time)\n",
    "\n",
    "def print_sqr(num):\n",
    "    print('Square of number is : {}'.format(num*num))\n",
    "    now = datetime.now()\n",
    "    current_time = now.strftime(\"%H:%M:%S\")\n",
    "    print(\"Current Time in Square =\", current_time)\n",
    "    listV.append(num*num)\n",
    "    time.sleep(10)\n",
    "    now = datetime.now()\n",
    "    current_time = now.strftime(\"%H:%M:%S\")\n",
    "    print(\"Current Time in cube =\", current_time)"
   ]
  },
  {
   "cell_type": "code",
   "execution_count": 63,
   "id": "current-trauma",
   "metadata": {},
   "outputs": [
    {
     "name": "stdout",
     "output_type": "stream",
     "text": [
      "Cube of number is : 1000\n",
      "Current Time in cube = 20:41:37\n",
      "Square of number is : 100\n",
      "Current Time in Square = 20:41:37\n",
      "Current Time in cube = 20:41:47\n",
      "Current Time in cube = 20:41:47\n"
     ]
    }
   ],
   "source": [
    "t1 = threading.Thread(target=print_cube, args=(10,))\n",
    "t2 = threading.Thread(target=print_sqr, args=(10,))\n",
    "\n",
    "t1.start()\n",
    "t2.start()\n",
    "\n",
    "t1.join()\n",
    "t2.join()"
   ]
  },
  {
   "cell_type": "code",
   "execution_count": 64,
   "id": "outer-quantity",
   "metadata": {},
   "outputs": [
    {
     "data": {
      "text/plain": [
       "[1000, 100]"
      ]
     },
     "execution_count": 64,
     "metadata": {},
     "output_type": "execute_result"
    }
   ],
   "source": [
    "listV"
   ]
  },
  {
   "cell_type": "code",
   "execution_count": 61,
   "id": "heated-neutral",
   "metadata": {},
   "outputs": [
    {
     "name": "stdout",
     "output_type": "stream",
     "text": [
      "Cube of number is : 1000\n",
      "Current Time in cube = 20:40:40\n",
      "Current Time in cube = 20:40:50\n",
      "Square of number is : 100\n",
      "Current Time in Square = 20:40:50\n",
      "Current Time in cube = 20:41:00\n"
     ]
    }
   ],
   "source": [
    "print_cube(10)\n",
    "print_sqr(10)"
   ]
  },
  {
   "cell_type": "code",
   "execution_count": 5,
   "id": "treated-owner",
   "metadata": {},
   "outputs": [],
   "source": [
    "driver2 = webdriver.Chrome()"
   ]
  },
  {
   "cell_type": "code",
   "execution_count": 6,
   "id": "informational-minute",
   "metadata": {},
   "outputs": [],
   "source": [
    "driver2.maximize_window()"
   ]
  },
  {
   "cell_type": "code",
   "execution_count": 11,
   "id": "higher-minnesota",
   "metadata": {},
   "outputs": [],
   "source": [
    "driver.close()"
   ]
  },
  {
   "cell_type": "code",
   "execution_count": 60,
   "id": "about-letters",
   "metadata": {},
   "outputs": [],
   "source": [
    "finalList = []"
   ]
  },
  {
   "cell_type": "code",
   "execution_count": 5,
   "id": "central-toyota",
   "metadata": {},
   "outputs": [],
   "source": [
    "\n",
    "def seleniumScraper(link):\n",
    "    driver = webdriver.Chrome()\n",
    "    driver.maximize_window()\n",
    "    driver.get(link)\n",
    "    time.sleep(3)\n",
    "    \n",
    "    currentVal = []\n",
    "    status = '//*[@id=\"root\"]/main/div/div/div[1]/div[2]/div/table/tbody/tr[3]/td/span/div/span[1]/span'\n",
    "    timeTaken = '//*[@id=\"root\"]/main/div/div/div[1]/div[2]/div/table/tbody/tr[6]/td/div/div[1]/div'\n",
    "    hashVal = '//*[@id=\"root\"]/main/div/div/div[1]/div[2]/div/table/tbody/tr[1]/td'\n",
    "    result = '//*[@id=\"root\"]/main/div/div/div[1]/div[2]/div/table/tbody/tr[2]/td/span'\n",
    "    amount = '/html/body/div/main/div/div/div[2]/div/div[2]/table/tbody/tr[3]/td'\n",
    "#     '/html/body/div/main/div/div/div[2]/div/div[2]/table/tbody/tr[3]/td/span'\n",
    "    bandwidth = '//*[@id=\"root\"]/main/div/div/div[2]/div/div[2]/table/tbody/tr[4]/td/div/div[1]'\n",
    "    temp = driver.find_element_by_xpath(status)\n",
    "    while temp.text != 'CONFIRMED':\n",
    "        time.sleep(1)\n",
    "        temp = driver.find_element_by_xpath(status)\n",
    "        timer = driver.find_element_by_xpath(timeTaken)\n",
    "        \n",
    "    try:\n",
    "        hashVal = driver.find_element_by_xpath(hashVal).text\n",
    "        currentVal.append(hashVal)\n",
    "    except:\n",
    "        currentVal.append('Null')\n",
    "        \n",
    "    try:\n",
    "        result = driver.find_element_by_xpath(result).text\n",
    "        currentVal.append(result)\n",
    "    except:\n",
    "        currentVal.append('Null')\n",
    "        \n",
    "    try:\n",
    "        status = driver.find_element_by_xpath(status).text\n",
    "        currentVal.append(status)\n",
    "    except:\n",
    "        currentVal.append('Null')\n",
    "        \n",
    "    \n",
    "    \n",
    "    try:\n",
    "        timeTaken = driver.find_element_by_xpath(timeTaken).text\n",
    "        currentVal.append(timeTaken)\n",
    "    except:\n",
    "        currentVal.append('Null')\n",
    "        \n",
    "        \n",
    "    driver.execute_script('window.scrollBy(0, 1000);')\n",
    "    try:\n",
    "        amount = driver.find_element_by_xpath(amount).text\n",
    "        currentVal.append(amount)\n",
    "    except:\n",
    "        currentVal.append('Null')\n",
    "        \n",
    "        \n",
    "        \n",
    "    try:\n",
    "        bandwidth = driver.find_element_by_xpath(bandwidth).text\n",
    "        currentVal.append(bandwidth)\n",
    "    except:\n",
    "        currentVal.append('Null')\n",
    "        \n",
    "    print(currentVal)\n",
    "    finalList.append(currentVal)\n",
    "    driver.close()"
   ]
  },
  {
   "cell_type": "markdown",
   "id": "underlying-pastor",
   "metadata": {},
   "source": [
    "/html/body/div/main/div/div/div[2]/div/div[2]/table/tbody/tr[3]/td"
   ]
  },
  {
   "cell_type": "code",
   "execution_count": 4,
   "id": "twelve-publisher",
   "metadata": {},
   "outputs": [
    {
     "name": "stdout",
     "output_type": "stream",
     "text": [
      "https://tronscan.org/#/transaction/8a8e5ed7f1f2d47d476144efa16ae77a63d26567128ac3c8390f3b5aa544599b\n",
      "https://tronscan.org/#/transaction/2abca78cf335ac299ec745a571b0d1c0acb61c114b297d59b0bf2db285ba701a\n",
      "https://tronscan.org/#/transaction/24e6a72964429bdfb0f620c2124f4e095d54169e6b94610dcaf4f46dec95d700\n",
      "https://tronscan.org/#/transaction/57b62f45f21984f671c61cf8fc2547db2b2afdc967e6f70307e979d627d0be86\n",
      "https://tronscan.org/#/transaction/57b62f45f21984f671c61cf8fc2547db2b2afdc967e6f70307e979d627d0be86\n"
     ]
    },
    {
     "ename": "NameError",
     "evalue": "name 'seleniumScraper' is not defined",
     "output_type": "error",
     "traceback": [
      "\u001b[1;31m---------------------------------------------------------------------------\u001b[0m",
      "\u001b[1;31mNameError\u001b[0m                                 Traceback (most recent call last)",
      "\u001b[1;32m<ipython-input-4-d102cb5696bf>\u001b[0m in \u001b[0;36m<module>\u001b[1;34m\u001b[0m\n\u001b[0;32m     14\u001b[0m \u001b[0mrunningThreads\u001b[0m \u001b[1;33m=\u001b[0m \u001b[1;33m[\u001b[0m\u001b[1;33m]\u001b[0m\u001b[1;33m\u001b[0m\u001b[1;33m\u001b[0m\u001b[0m\n\u001b[0;32m     15\u001b[0m \u001b[1;32mfor\u001b[0m \u001b[0mi\u001b[0m \u001b[1;32min\u001b[0m \u001b[0mrange\u001b[0m\u001b[1;33m(\u001b[0m\u001b[1;36m5\u001b[0m\u001b[1;33m)\u001b[0m\u001b[1;33m:\u001b[0m\u001b[1;33m\u001b[0m\u001b[1;33m\u001b[0m\u001b[0m\n\u001b[1;32m---> 16\u001b[1;33m     \u001b[0mcurrThread\u001b[0m \u001b[1;33m=\u001b[0m \u001b[0mthreading\u001b[0m\u001b[1;33m.\u001b[0m\u001b[0mThread\u001b[0m\u001b[1;33m(\u001b[0m\u001b[0mtarget\u001b[0m\u001b[1;33m=\u001b[0m\u001b[0mseleniumScraper\u001b[0m\u001b[1;33m,\u001b[0m \u001b[0margs\u001b[0m\u001b[1;33m=\u001b[0m\u001b[1;33m(\u001b[0m\u001b[0mlinks\u001b[0m\u001b[1;33m[\u001b[0m\u001b[0mi\u001b[0m\u001b[1;33m]\u001b[0m\u001b[1;33m,\u001b[0m\u001b[1;33m)\u001b[0m\u001b[1;33m)\u001b[0m\u001b[1;33m\u001b[0m\u001b[1;33m\u001b[0m\u001b[0m\n\u001b[0m\u001b[0;32m     17\u001b[0m     \u001b[0mrunningThreads\u001b[0m\u001b[1;33m.\u001b[0m\u001b[0mappend\u001b[0m\u001b[1;33m(\u001b[0m\u001b[0mcurrThread\u001b[0m\u001b[1;33m)\u001b[0m\u001b[1;33m\u001b[0m\u001b[1;33m\u001b[0m\u001b[0m\n\u001b[0;32m     18\u001b[0m \u001b[1;33m\u001b[0m\u001b[0m\n",
      "\u001b[1;31mNameError\u001b[0m: name 'seleniumScraper' is not defined"
     ]
    }
   ],
   "source": [
    "links = []\n",
    "mainDriver = webdriver.Chrome()\n",
    "mainDriver.maximize_window()\n",
    "for i in range(5):\n",
    "    mainDriver.get('https://tronscan.org/#/blockchain/transactions')\n",
    "    time.sleep(1)\n",
    "    amount = mainDriver.find_element_by_xpath('//*[@id=\"root\"]/main/div[3]/div/div/div/div/div/div/div/div/div/div/table/tbody/tr[1]/td[9]/span').text\n",
    "    if amount != 0:\n",
    "        t = mainDriver.find_element_by_xpath('/html/body/div/main/div[3]/div/div/div/div/div/div/div/div/div/div/table/tbody/tr[1]/td[1]/div/span/a').get_attribute('href')\n",
    "        finalLink = t\n",
    "#         print(finalLink)\n",
    "        links.append(finalLink)\n",
    "    \n",
    "    amount =  mainDriver.find_element_by_xpath('//*[@id=\"root\"]/main/div[3]/div/div/div/div/div/div/div/div/div/div/table/tbody/tr[2]/td[9]/span')\n",
    "    \n",
    "\n",
    "\n",
    "\n",
    "runningThreads = []\n",
    "for i in range(5):\n",
    "    currThread = threading.Thread(target=seleniumScraper, args=(links[i],))\n",
    "    runningThreads.append(currThread)\n",
    "    \n",
    "for currThread in runningThreads:\n",
    "    currThread.start()\n",
    "\n",
    "for currThread in runningThreads:\n",
    "    currThread.join()\n"
   ]
  },
  {
   "cell_type": "markdown",
   "id": "roman-trauma",
   "metadata": {},
   "source": [
    "//*[@id=\"root\"]/main/div/div/div[1]/div[2]/div/table/tbody/tr[1]/td\n",
    "//*[@id=\"root\"]/main/div/div/div[1]/div[2]/div/table/tbody/tr[3]/td/span/div/span[1]/span"
   ]
  },
  {
   "cell_type": "code",
   "execution_count": 12,
   "id": "distinct-wiring",
   "metadata": {},
   "outputs": [],
   "source": [
    "mainDriver.get('https://tronscan.org/#/blockchain/transactions')"
   ]
  },
  {
   "cell_type": "code",
   "execution_count": 15,
   "id": "radio-facility",
   "metadata": {},
   "outputs": [],
   "source": [
    "x = mainDriver.find_element_by_xpath('//*[@id=\"root\"]/main/div[3]/div/div/div/div/div/div/div/div/div/div/table/tbody/tr[1]/td[9]/span').text"
   ]
  },
  {
   "cell_type": "code",
   "execution_count": 16,
   "id": "mathematical-upset",
   "metadata": {},
   "outputs": [
    {
     "data": {
      "text/plain": [
       "'0.000001'"
      ]
     },
     "execution_count": 16,
     "metadata": {},
     "output_type": "execute_result"
    }
   ],
   "source": [
    "x"
   ]
  },
  {
   "cell_type": "code",
   "execution_count": 11,
   "id": "middle-thesaurus",
   "metadata": {},
   "outputs": [],
   "source": [
    "mainDriver.get(x)"
   ]
  },
  {
   "cell_type": "code",
   "execution_count": 9,
   "id": "healthy-nicholas",
   "metadata": {},
   "outputs": [
    {
     "ename": "AttributeError",
     "evalue": "'str' object has no attribute 'click'",
     "output_type": "error",
     "traceback": [
      "\u001b[1;31m---------------------------------------------------------------------------\u001b[0m",
      "\u001b[1;31mAttributeError\u001b[0m                            Traceback (most recent call last)",
      "\u001b[1;32m<ipython-input-9-e10a35638983>\u001b[0m in \u001b[0;36m<module>\u001b[1;34m\u001b[0m\n\u001b[1;32m----> 1\u001b[1;33m \u001b[0mx\u001b[0m\u001b[1;33m.\u001b[0m\u001b[0mclick\u001b[0m\u001b[1;33m(\u001b[0m\u001b[1;33m)\u001b[0m\u001b[1;33m\u001b[0m\u001b[1;33m\u001b[0m\u001b[0m\n\u001b[0m",
      "\u001b[1;31mAttributeError\u001b[0m: 'str' object has no attribute 'click'"
     ]
    }
   ],
   "source": [
    "x.click()"
   ]
  },
  {
   "cell_type": "code",
   "execution_count": null,
   "id": "offensive-ranch",
   "metadata": {},
   "outputs": [],
   "source": [
    "//*[@id=\"root\"]/main/div[3]/div/div/div/div/div/div/div/div/div/div/table/tbody/tr[1]/td[1]/div/span/a"
   ]
  },
  {
   "cell_type": "code",
   "execution_count": null,
   "id": "fabulous-patient",
   "metadata": {},
   "outputs": [],
   "source": [
    "/html/body/div/main/div[3]/div/div/div/div/div/div/div/div/div/div/table/tbody/tr[1]/td[1]/div/span/a"
   ]
  },
  {
   "cell_type": "code",
   "execution_count": 29,
   "id": "increasing-salon",
   "metadata": {},
   "outputs": [],
   "source": [
    "mainDriver.close()"
   ]
  },
  {
   "cell_type": "code",
   "execution_count": 59,
   "id": "substantial-nightlife",
   "metadata": {},
   "outputs": [
    {
     "data": {
      "text/plain": [
       "[['546b8533f25419753b10ba9ddd35096919be251596b31bea552fbe88940d7078',\n",
       "  'SUCCESS',\n",
       "  'CONFIRMED',\n",
       "  '1min 4secs ago',\n",
       "  '0.000001 TRX',\n",
       "  '265 \\nBandwidth'],\n",
       " ['aff00384867d749f253bb83d4399ed3207ae99be70820f2606a1d3a99b0e1b69',\n",
       "  'SUCCESS',\n",
       "  'CONFIRMED',\n",
       "  '59secs ago',\n",
       "  '0.000003 TRX',\n",
       "  '265 \\nBandwidth']]"
      ]
     },
     "execution_count": 59,
     "metadata": {},
     "output_type": "execute_result"
    }
   ],
   "source": [
    "finalList"
   ]
  },
  {
   "cell_type": "code",
   "execution_count": null,
   "id": "valued-north",
   "metadata": {},
   "outputs": [],
   "source": [
    "driver = webdriver.Chrome()"
   ]
  },
  {
   "cell_type": "code",
   "execution_count": 55,
   "id": "fleet-stadium",
   "metadata": {},
   "outputs": [],
   "source": [
    "status = '//*[@id=\"root\"]/main/div/div/div[1]/div[2]/div/table/tbody/tr[3]/td/span/div/span[1]/span'\n",
    "timeTaken = '//*[@id=\"root\"]/main/div/div/div[1]/div[2]/div/table/tbody/tr[6]/td/div/div[1]/div'\n",
    "hashVal = '//*[@id=\"root\"]/main/div/div/div[1]/div[2]/div/table/tbody/tr[1]/td'\n",
    "result = '//*[@id=\"root\"]/main/div/div/div[1]/div[2]/div/table/tbody/tr[2]/td/span'\n",
    "amount = '/html/body/div/main/div/div/div[2]/div/div[2]/table/tbody/tr[3]/td/span'\n",
    "bandwidth = '//*[@id=\"root\"]/main/div/div/div[2]/div/div[2]/table/tbody/tr[4]/td/div/div[1]'"
   ]
  },
  {
   "cell_type": "code",
   "execution_count": null,
   "id": "following-carter",
   "metadata": {},
   "outputs": [],
   "source": [
    "mrZeLTlfgJIKESkuFnxHUzPy\n",
    "/html/body/div/main/div/div/div[2]/div/div[2]/table/tbody/tr[3]/td/span/text()[1]"
   ]
  },
  {
   "cell_type": "code",
   "execution_count": 56,
   "id": "twelve-ranch",
   "metadata": {},
   "outputs": [
    {
     "name": "stdout",
     "output_type": "stream",
     "text": [
      "4d73a407cddb55eeee3eca96609f61cac65fc014cfc10cf96d170e251a5c456c\n",
      "SUCCESS\n",
      "CONFIRMED\n",
      "13mins 2secs ago\n",
      "20.1 TRX\n",
      "714.2857142857143 \n",
      "Bandwidth\n"
     ]
    }
   ],
   "source": [
    "hashVal = driver.find_element_by_xpath(hashVal).text\n",
    "print(hashVal)\n",
    "\n",
    "result = driver.find_element_by_xpath(result).text\n",
    "# currentVal.append(result)\n",
    "print(result)\n",
    "\n",
    "status = driver.find_element_by_xpath(status).text\n",
    "# currentVal.append(status)\n",
    "print(status)\n",
    "\n",
    "timeTaken = driver.find_element_by_xpath(timeTaken).text\n",
    "# currentVal.append(timeTaken)\n",
    "print(timeTaken)\n",
    "\n",
    "# driver.execute_script('window.scrollBy(0, 1000);')\n",
    "amount = driver.find_element_by_xpath(amount).text\n",
    "# currentVal.append(amount)\n",
    "print(amount)\n",
    "\n",
    "bandwidth = driver.find_element_by_xpath(bandwidth).text\n",
    "# currentVal.append(bandwidth)\n",
    "print(bandwidth)\n"
   ]
  },
  {
   "cell_type": "code",
   "execution_count": 5,
   "id": "surrounded-bacon",
   "metadata": {},
   "outputs": [],
   "source": [
    "value2 = '/html/body/div/main/div/div/div[2]/div/div[2]/div/div[3]/div[2]/div'\n"
   ]
  },
  {
   "cell_type": "code",
   "execution_count": 12,
   "id": "affected-westminster",
   "metadata": {},
   "outputs": [],
   "source": [
    "driver.get('https://tronscan.org/#/transaction/2f33413bfa28f3938a56cb418794619f9ee2fc5dedeeb1edfa04524a9040a305')"
   ]
  },
  {
   "cell_type": "code",
   "execution_count": 8,
   "id": "immune-penalty",
   "metadata": {},
   "outputs": [
    {
     "data": {
      "text/plain": [
       "'0 \\n TRX'"
      ]
     },
     "execution_count": 8,
     "metadata": {},
     "output_type": "execute_result"
    }
   ],
   "source": [
    "driver.find_element_by_xpath(value2).text"
   ]
  },
  {
   "cell_type": "code",
   "execution_count": 22,
   "id": "noticed-overall",
   "metadata": {},
   "outputs": [],
   "source": [
    "value1 = '/html/body/div/main/div/div/div[2]/div/div[2]/table/tbody/tr[3]/td'"
   ]
  },
  {
   "cell_type": "code",
   "execution_count": 10,
   "id": "technical-locking",
   "metadata": {},
   "outputs": [],
   "source": [
    "driver.get('https://tronscan.org/#/transaction/0b0cee63f5f1e5d2ff24926fa1c0b382dc5d4e962ea1dec8864205a9e9d1d767')"
   ]
  },
  {
   "cell_type": "code",
   "execution_count": 29,
   "id": "accepting-fossil",
   "metadata": {},
   "outputs": [
    {
     "data": {
      "text/plain": [
       "30929.146"
      ]
     },
     "execution_count": 29,
     "metadata": {},
     "output_type": "execute_result"
    }
   ],
   "source": [
    "float(driver.find_element_by_xpath(value1).text.split()[0].replace(',', ''))"
   ]
  },
  {
   "cell_type": "code",
   "execution_count": 13,
   "id": "offshore-mailing",
   "metadata": {},
   "outputs": [],
   "source": [
    "consumeBandwidth = '/html/body/div/main/div/div/div[2]/div/div[2]/div/div[5]/div[2]/div/div[1]'"
   ]
  },
  {
   "cell_type": "code",
   "execution_count": 16,
   "id": "detailed-yemen",
   "metadata": {},
   "outputs": [
    {
     "data": {
      "text/plain": [
       "'345'"
      ]
     },
     "execution_count": 16,
     "metadata": {},
     "output_type": "execute_result"
    }
   ],
   "source": [
    "driver.find_element_by_xpath(consumeBandwidth).text.split(' ')[0]"
   ]
  },
  {
   "cell_type": "code",
   "execution_count": 35,
   "id": "civilian-rates",
   "metadata": {},
   "outputs": [],
   "source": [
    "freeBandwidth = '/html/body/div/main/div/div/div[2]/div/div[2]/table/tbody/tr[4]/td/div/div[2]'"
   ]
  },
  {
   "cell_type": "code",
   "execution_count": 38,
   "id": "dynamic-disclosure",
   "metadata": {},
   "outputs": [
    {
     "data": {
      "text/plain": [
       "0.0"
      ]
     },
     "execution_count": 38,
     "metadata": {},
     "output_type": "execute_result"
    }
   ],
   "source": [
    "float(driver.find_element_by_xpath(freeBandwidth).text.split('\\n')[1].strip())"
   ]
  },
  {
   "cell_type": "code",
   "execution_count": 39,
   "id": "apart-integral",
   "metadata": {},
   "outputs": [],
   "source": [
    "bu = '/html/body/div/main/div/div/div[2]/div/div[2]/table/tbody/tr[4]/td/div/div[3]'"
   ]
  },
  {
   "cell_type": "code",
   "execution_count": 40,
   "id": "speaking-postcard",
   "metadata": {},
   "outputs": [
    {
     "data": {
      "text/plain": [
       "714.2857142857143"
      ]
     },
     "execution_count": 40,
     "metadata": {},
     "output_type": "execute_result"
    }
   ],
   "source": [
    "float(driver.find_element_by_xpath(bu).text.split('\\n')[1].strip())"
   ]
  },
  {
   "cell_type": "code",
   "execution_count": 41,
   "id": "stretch-trinidad",
   "metadata": {},
   "outputs": [],
   "source": [
    "valueAdd = '/html/body/div[1]/main/div/div/div[2]/div/div[2]/div/div[3]/div[2]/div'"
   ]
  },
  {
   "cell_type": "code",
   "execution_count": 44,
   "id": "waiting-disclaimer",
   "metadata": {},
   "outputs": [
    {
     "data": {
      "text/plain": [
       "0.0"
      ]
     },
     "execution_count": 44,
     "metadata": {},
     "output_type": "execute_result"
    }
   ],
   "source": [
    "float(driver.find_element_by_xpath(valueAdd).text.split('\\n')[0].strip())"
   ]
  },
  {
   "cell_type": "code",
   "execution_count": 45,
   "id": "fourth-thinking",
   "metadata": {},
   "outputs": [],
   "source": [
    "freeBand = '/html/body/div[1]/main/div/div/div[2]/div/div[2]/div/div[5]/div[2]/div/div[2]'\n",
    "freeValue = float(driver.find_element_by_xpath(freeBand).text.split('\\n')[1].strip())"
   ]
  },
  {
   "cell_type": "code",
   "execution_count": 46,
   "id": "aquatic-advantage",
   "metadata": {},
   "outputs": [
    {
     "data": {
      "text/plain": [
       "345.0"
      ]
     },
     "execution_count": 46,
     "metadata": {},
     "output_type": "execute_result"
    }
   ],
   "source": [
    "freeValue"
   ]
  },
  {
   "cell_type": "code",
   "execution_count": 52,
   "id": "complimentary-words",
   "metadata": {},
   "outputs": [
    {
     "name": "stdout",
     "output_type": "stream",
     "text": [
      "0.0\n"
     ]
    }
   ],
   "source": [
    "burnt = '/html/body/div[1]/main/div/div/div[2]/div/div[2]/div/div[5]/div[2]/div/div[3]'\n",
    "print(float(driver.find_element_by_xpath(burnt).text.split('\\n')[1].strip()))"
   ]
  },
  {
   "cell_type": "code",
   "execution_count": 56,
   "id": "starting-turning",
   "metadata": {},
   "outputs": [
    {
     "data": {
      "text/plain": [
       "0"
      ]
     },
     "execution_count": 56,
     "metadata": {},
     "output_type": "execute_result"
    }
   ],
   "source": [
    "energy1 = '/html/body/div[1]/main/div/div/div[2]/div/div[2]/div/div[6]/div[2]/div/div[2]'\n",
    "int(driver.find_element_by_xpath(energy1).text.split('\\n')[1].strip().replace(',', ''))"
   ]
  },
  {
   "cell_type": "code",
   "execution_count": 57,
   "id": "stone-pasta",
   "metadata": {},
   "outputs": [
    {
     "data": {
      "text/plain": [
       "14631"
      ]
     },
     "execution_count": 57,
     "metadata": {},
     "output_type": "execute_result"
    }
   ],
   "source": [
    "energy2 = '/html/body/div[1]/main/div/div/div[2]/div/div[2]/div/div[6]/div[2]/div/div[3]'\n",
    "int(driver.find_element_by_xpath(energy2).text.split('\\n')[1].strip().replace(',', ''))"
   ]
  },
  {
   "cell_type": "code",
   "execution_count": 58,
   "id": "later-qatar",
   "metadata": {},
   "outputs": [
    {
     "data": {
      "text/plain": [
       "0"
      ]
     },
     "execution_count": 58,
     "metadata": {},
     "output_type": "execute_result"
    }
   ],
   "source": [
    "energy3 = '/html/body/div[1]/main/div/div/div[2]/div/div[2]/div/div[6]/div[2]/div/div[4]'\n",
    "int(driver.find_element_by_xpath(energy3).text.split('\\n')[1].strip().replace(',', ''))"
   ]
  },
  {
   "cell_type": "code",
   "execution_count": 2,
   "id": "hired-musician",
   "metadata": {},
   "outputs": [],
   "source": [
    "finalList = []"
   ]
  },
  {
   "cell_type": "markdown",
   "id": "documentary-essence",
   "metadata": {},
   "source": [
    "1min 2secs ago"
   ]
  },
  {
   "cell_type": "code",
   "execution_count": 50,
   "id": "collaborative-twenty",
   "metadata": {},
   "outputs": [],
   "source": [
    "def convertTime(timeTaken):\n",
    "    timeArr = timeTaken.split()\n",
    "    if len(timeArr) == 2:\n",
    "        temp = timeArr[0]\n",
    "        temp = temp[:2]\n",
    "        return int(temp)\n",
    "    else:\n",
    "        totalTime = 0\n",
    "        minVal = int(timeArr[0][0])\n",
    "        totalTime += minVal * 60\n",
    "        secs = timeArr[1].split('secs')[0]\n",
    "        totalTime += int(secs)\n",
    "        return totalTime"
   ]
  },
  {
   "cell_type": "code",
   "execution_count": 54,
   "id": "verified-prescription",
   "metadata": {},
   "outputs": [
    {
     "name": "stdout",
     "output_type": "stream",
     "text": [
      "324\n"
     ]
    }
   ],
   "source": [
    "print(convertTime('5min 24secs ago'))"
   ]
  },
  {
   "cell_type": "code",
   "execution_count": 41,
   "id": "chicken-quarterly",
   "metadata": {},
   "outputs": [],
   "source": [
    "\n",
    "def seleniumScraper(link):\n",
    "    driver = webdriver.Chrome()\n",
    "    driver.maximize_window()\n",
    "    driver.get(link)\n",
    "    time.sleep(3)\n",
    "    \n",
    "    currentVal = []\n",
    "    status = '/html/body/div/main/div/div/div[1]/div[2]/div/table/tbody/tr[3]/td/span/div/span[1]/span'\n",
    "    \n",
    "    \n",
    "    \n",
    "    timeTaken = '/html/body/div/main/div/div/div[1]/div[2]/div/table/tbody/tr[6]/td/div/div[1]/div'\n",
    "    \n",
    "    amount = '/html/body/div/main/div/div/div[2]/div/div[2]/table/tbody/tr[3]/td'\n",
    "#     '/html/body/div/main/div/div/div[2]/div/div[2]/table/tbody/tr[3]/td/span'\n",
    "#     bandwidth = '//*[@id=\"root\"]/main/div/div/div[2]/div/div[2]/table/tbody/tr[4]/td/div/div[1]'\n",
    "    temp = driver.find_element_by_xpath(status)\n",
    "    while temp.text != 'CONFIRMED':\n",
    "        time.sleep(1)\n",
    "        temp = driver.find_element_by_xpath(status)\n",
    "        timer = driver.find_element_by_xpath(timeTaken)\n",
    "    \n",
    "    \n",
    "    hashVal = '/html/body/div/main/div/div/div[1]/div[2]/div/table/tbody/tr[1]/td'\n",
    "    try:\n",
    "        hashVal = driver.find_element_by_xpath(hashVal).text\n",
    "        currentVal.append(hashVal)\n",
    "    except:\n",
    "        currentVal.append('Null')\n",
    "        \n",
    "    \n",
    "    result = '/html/body/div/main/div/div/div[1]/div[2]/div/table/tbody/tr[2]/td/span'\n",
    "    try:\n",
    "        result = driver.find_element_by_xpath(result).text\n",
    "        currentVal.append(result)\n",
    "    except:\n",
    "        currentVal.append('Null')\n",
    "        \n",
    "        \n",
    "#     try:\n",
    "#         status = driver.find_element_by_xpath(status).text\n",
    "#         currentVal.append(status)\n",
    "#     except:\n",
    "#         currentVal.append('Null')\n",
    "        \n",
    "    \n",
    "    \n",
    "    try:\n",
    "        timeTaken = driver.find_element_by_xpath(timeTaken).text\n",
    "        finalTime = convertTime(timeTakenken)\n",
    "        currentVal.append(timeTaken)\n",
    "    except:\n",
    "        currentVal.append('Null')\n",
    "        \n",
    "        \n",
    "#     driver.execute_script('window.scrollBy(0, 1000);')\n",
    "    \n",
    "    \n",
    "    try:\n",
    "        amountAdd = '/html/body/div/main/div/div/div[2]/div/div[2]/table/tbody/tr[3]/td'\n",
    "        amount = float(driver.find_element_by_xpath(amountAdd).text.split()[0])\n",
    "        currentVal.append(amount)\n",
    "        \n",
    "        consumeBandwidth = '/html/body/div/main/div/div/div[2]/div/div[2]/table/tbody/tr[4]/td/div/div[2]'\n",
    "        consumeValue = float(driver.find_element_by_xpath(consumeBandwidth).text.split('\\n')[1].strip())\n",
    "        currentVal.append(consumeValue)\n",
    "        \n",
    "        burntBand = '/html/body/div/main/div/div/div[2]/div/div[2]/table/tbody/tr[4]/td/div/div[3]'\n",
    "        burnVal = float(driver.find_element_by_xpath(burntBand).text.split('\\n')[1].strip())\n",
    "        currentVal.append(burnVal)\n",
    "        \n",
    "        currentVal.append('Null')\n",
    "        currentVal.append('Null')\n",
    "        currentVal.append('Null')\n",
    "        \n",
    "    except:\n",
    "        try:\n",
    "            valueAdd = '/html/body/div[1]/main/div/div/div[2]/div/div[2]/div/div[3]/div[2]/div'\n",
    "        \n",
    "            value = float(driver.find_element_by_xpath(valueAdd).text.split('\\n')[0].strip())\n",
    "            currentVal.append(value)\n",
    "\n",
    "            freeBand = '//*[@id=\"root\"]/main/div/div/div[2]/div/div[2]/div/div[6]/div[2]/div/div[2]'\n",
    "            freeValue = float(driver.find_element_by_xpath(freeBand).text.split('\\n')[1].strip().replace(',', ''))\n",
    "            currentVal.append(freeValue)\n",
    "\n",
    "            burnt = '/html/body/div[1]/main/div/div/div[2]/div/div[2]/div/div[5]/div[2]/div/div[3]'\n",
    "            burntVal = float(driver.find_element_by_xpath(burnt).text.split('\\n')[1].strip().replace(',', ''))\n",
    "            currentVal.append(burntVal)\n",
    "\n",
    "            energy1 = '/html/body/div[1]/main/div/div/div[2]/div/div[2]/div/div[6]/div[2]/div/div[2]'\n",
    "            currentVal.append(float(driver.find_element_by_xpath(energy1).text.split('\\n')[1].strip().replace(',', '')))\n",
    "\n",
    "            energy2 = '/html/body/div[1]/main/div/div/div[2]/div/div[2]/div/div[6]/div[2]/div/div[3]'\n",
    "            currentVal.append(int(driver.find_element_by_xpath(energy2).text.split('\\n')[1].strip().replace(',', '')))\n",
    "\n",
    "            energy3 = '//*[@id=\"root\"]/main/div/div/div[2]/div/div[2]/div/div[6]/div[2]/div/div[4]'\n",
    "            currentVal.append(int(driver.find_element_by_xpath(energy3).text.split('\\n')[1].strip().replace(',', '')))\n",
    "        except:\n",
    "            pass\n",
    "        \n",
    "    \n",
    "#     print(currentVal)\n",
    "    if len(currentVal) == 9:\n",
    "        finalList.append(currentVal)\n",
    "    driver.close()"
   ]
  },
  {
   "cell_type": "code",
   "execution_count": 49,
   "id": "breathing-circular",
   "metadata": {},
   "outputs": [
    {
     "name": "stdout",
     "output_type": "stream",
     "text": [
      "['eb6c0b3ead172dd7de19ca1c5cff070ad50a81bf8db10ce14aad74774bcb47b3', 'SUCCESS', '56secs ago', 0.0, 0.0, 0.0, 0.0, 22677, 0]\n",
      "['f4e918cf4481843ba1d0d16bb2280ac2c748295f10a139963db844731df0259e', 'SUCCESS', '1min 4secs ago', 0.0, 0.0, 345.0, 0.0, 29631, 0]\n",
      "['e06db56c20ed216558790e7cbe4e229ac87bb84749f434573526a1d2c10a6e80', 'SUCCESS', '59secs ago', 0.0, 0.0, 0.0, 0.0, 14631, 0]\n",
      "['0b893e05d10b4af9d003f7ff1262474aff1f8e9525fe720b309b62962c997bcd', 'SUCCESS', '1min 5secs ago', 0.0, 8.0, 348.0, 8.0, 29623, 0]\n",
      "['eb6c0b3ead172dd7de19ca1c5cff070ad50a81bf8db10ce14aad74774bcb47b3', 'SUCCESS', '1min 2secs ago', 0.0, 0.0, 0.0, 0.0, 22677, 0]\n",
      "['e06db56c20ed216558790e7cbe4e229ac87bb84749f434573526a1d2c10a6e80', 'SUCCESS', '1min 3secs ago', 0.0, 0.0, 0.0, 0.0, 14631, 0]\n",
      "['e539d1ef3f5282cff350fca49312c87b127b045fe35b585a690faa4e098851e1', 'SUCCESS', '1min 7secs ago', 0.0, 0.0, 0.0, 0.0, 14631, 0]\n"
     ]
    }
   ],
   "source": [
    "links = []\n",
    "mainDriver = webdriver.Chrome()\n",
    "mainDriver.maximize_window()\n",
    "for i in range(5):\n",
    "    mainDriver.get('https://tronscan.org/#/blockchain/transactions')\n",
    "    time.sleep(1)\n",
    "#     amount = mainDriver.find_element_by_xpath('//*[@id=\"root\"]/main/div[3]/div/div/div/div/div/div/div/div/div/div/table/tbody/tr[1]/td[9]/span').text\n",
    "#     if amount != 0:\n",
    "#         t = mainDriver.find_element_by_xpath('/html/body/div/main/div[3]/div/div/div/div/div/div/div/div/div/div/table/tbody/tr[1]/td[1]/div/span/a').get_attribute('href')\n",
    "#         finalLink = t\n",
    "# #         print(finalLink)\n",
    "    t = mainDriver.find_element_by_xpath('/html/body/div/main/div[3]/div/div/div/div/div/div/div/div/div/div/table/tbody/tr[1]/td[1]/div/span/a').get_attribute('href')\n",
    "    finalLink = t\n",
    "    links.append(finalLink)\n",
    "    link2 = mainDriver.find_element_by_xpath('/html/body/div[1]/main/div[3]/div/div/div/div/div/div/div/div/div/div/table/tbody/tr[2]/td[1]/div/span/a').get_attribute('href')\n",
    "    links.append(link2)\n",
    "\n",
    "    \n",
    "    \n",
    "\n",
    "\n",
    "\n",
    "runningThreads = []\n",
    "for i in range(7):\n",
    "    currThread = threading.Thread(target=seleniumScraper, args=(links[i],))\n",
    "    runningThreads.append(currThread)\n",
    "    \n",
    "for currThread in runningThreads:\n",
    "    currThread.start()\n",
    "\n",
    "for currThread in runningThreads:\n",
    "    currThread.join()\n"
   ]
  },
  {
   "cell_type": "code",
   "execution_count": null,
   "id": "religious-intake",
   "metadata": {},
   "outputs": [],
   "source": []
  },
  {
   "cell_type": "code",
   "execution_count": null,
   "id": "bored-cursor",
   "metadata": {},
   "outputs": [],
   "source": []
  },
  {
   "cell_type": "code",
   "execution_count": null,
   "id": "diverse-commander",
   "metadata": {},
   "outputs": [],
   "source": []
  },
  {
   "cell_type": "code",
   "execution_count": null,
   "id": "adjacent-refund",
   "metadata": {},
   "outputs": [],
   "source": []
  },
  {
   "cell_type": "code",
   "execution_count": 40,
   "id": "hindu-allah",
   "metadata": {},
   "outputs": [
    {
     "name": "stdout",
     "output_type": "stream",
     "text": [
      "['b83d5a121285a5b8889cb098d17ee68551c5287f5d38cf15c451f8aa0b73245a', 'SUCCESS', '3mins 35secs ago', 530.0]\n"
     ]
    }
   ],
   "source": [
    "seleniumScraper('https://tronscan.org/#/transaction/b83d5a121285a5b8889cb098d17ee68551c5287f5d38cf15c451f8aa0b73245a')"
   ]
  },
  {
   "cell_type": "code",
   "execution_count": 46,
   "id": "designing-sight",
   "metadata": {},
   "outputs": [],
   "source": [
    "driver.get('https://tronscan.org/#/blockchain/transactions')"
   ]
  },
  {
   "cell_type": "code",
   "execution_count": 47,
   "id": "postal-thermal",
   "metadata": {},
   "outputs": [],
   "source": [
    "link2 = driver.find_element_by_xpath('/html/body/div[1]/main/div[3]/div/div/div/div/div/div/div/div/div/div/table/tbody/tr[2]/td[1]/div/span/a').get_attribute('href')\n",
    "links.append(link2)"
   ]
  },
  {
   "cell_type": "code",
   "execution_count": 48,
   "id": "gothic-warrior",
   "metadata": {},
   "outputs": [
    {
     "data": {
      "text/plain": [
       "'https://tronscan.org/#/transaction/f4961d2db7c7a105bc68aa98152c13c62ad61d5fb908a469fe61582f086bf4e4'"
      ]
     },
     "execution_count": 48,
     "metadata": {},
     "output_type": "execute_result"
    }
   ],
   "source": [
    "link2"
   ]
  },
  {
   "cell_type": "code",
   "execution_count": 23,
   "id": "express-cartoon",
   "metadata": {},
   "outputs": [],
   "source": [
    "amountAdd = '/html/body/div/main/div/div/div[2]/div/div[2]/table/tbody/tr[3]/td'\n",
    "amount = float(driver.find_element_by_xpath(amountAdd).text.split()[0])"
   ]
  },
  {
   "cell_type": "code",
   "execution_count": 24,
   "id": "conservative-runner",
   "metadata": {},
   "outputs": [
    {
     "data": {
      "text/plain": [
       "2.04834"
      ]
     },
     "execution_count": 24,
     "metadata": {},
     "output_type": "execute_result"
    }
   ],
   "source": [
    "amount"
   ]
  },
  {
   "cell_type": "code",
   "execution_count": null,
   "id": "visible-concord",
   "metadata": {},
   "outputs": [],
   "source": []
  }
 ],
 "metadata": {
  "kernelspec": {
   "display_name": "Python 3",
   "language": "python",
   "name": "python3"
  },
  "language_info": {
   "codemirror_mode": {
    "name": "ipython",
    "version": 3
   },
   "file_extension": ".py",
   "mimetype": "text/x-python",
   "name": "python",
   "nbconvert_exporter": "python",
   "pygments_lexer": "ipython3",
   "version": "3.7.10"
  }
 },
 "nbformat": 4,
 "nbformat_minor": 5
}
