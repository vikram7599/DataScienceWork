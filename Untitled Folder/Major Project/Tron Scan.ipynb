{
 "cells": [
  {
   "cell_type": "code",
   "execution_count": 10,
   "id": "complicated-waters",
   "metadata": {},
   "outputs": [],
   "source": [
    "import pandas as pd\n",
    "import numpy as np\n",
    "import time\n",
    "from selenium import webdriver\n",
    "import threading\n",
    "from datetime import datetime"
   ]
  },
  {
   "cell_type": "code",
   "execution_count": 2,
   "id": "fallen-forth",
   "metadata": {},
   "outputs": [],
   "source": []
  },
  {
   "cell_type": "code",
   "execution_count": 3,
   "id": "understanding-affiliation",
   "metadata": {},
   "outputs": [],
   "source": [
    "driver = webdriver.Chrome()"
   ]
  },
  {
   "cell_type": "code",
   "execution_count": null,
   "id": "experienced-request",
   "metadata": {},
   "outputs": [],
   "source": []
  },
  {
   "cell_type": "code",
   "execution_count": 4,
   "id": "silver-gentleman",
   "metadata": {},
   "outputs": [],
   "source": [
    "driver.maximize_window()"
   ]
  },
  {
   "cell_type": "code",
   "execution_count": 44,
   "id": "interim-creativity",
   "metadata": {},
   "outputs": [],
   "source": [
    "driver.get('https://tronscan.org/')"
   ]
  },
  {
   "cell_type": "code",
   "execution_count": 13,
   "id": "conceptual-vessel",
   "metadata": {},
   "outputs": [
    {
     "name": "stdout",
     "output_type": "stream",
     "text": [
      "34secs ago\n"
     ]
    }
   ],
   "source": [
    "print()"
   ]
  },
  {
   "cell_type": "code",
   "execution_count": 16,
   "id": "functioning-formation",
   "metadata": {},
   "outputs": [
    {
     "name": "stdout",
     "output_type": "stream",
     "text": [
      "yesy\n"
     ]
    }
   ],
   "source": [
    "a = '/html/body/div/main/div/div/div[1]/div[2]/div/table/tbody/tr[3]/td/span/div/span[1]/span'\n",
    "b = '/html/body/div/main/div/div/div[1]/div[2]/div/table/tbody/tr[3]/td/span/div/span[1]/span'\n",
    "if a == b:\n",
    "    print('yesy')"
   ]
  },
  {
   "cell_type": "code",
   "execution_count": 9,
   "id": "superb-yugoslavia",
   "metadata": {},
   "outputs": [],
   "source": []
  },
  {
   "cell_type": "code",
   "execution_count": 23,
   "id": "descending-latin",
   "metadata": {},
   "outputs": [],
   "source": [
    "t = '/html/body/div/main/div/div/div[1]/div[2]/div/table/tbody/tr[6]/td/div/div[1]/div' #Timer Tag"
   ]
  },
  {
   "cell_type": "code",
   "execution_count": 24,
   "id": "premier-swift",
   "metadata": {},
   "outputs": [
    {
     "name": "stdout",
     "output_type": "stream",
     "text": [
      "1min 1sec ago\n"
     ]
    }
   ],
   "source": [
    "temp = driver.find_element_by_xpath(a)\n",
    "while temp.text != 'CONFIRMED':\n",
    "    time.sleep(1)\n",
    "    temp = driver.find_element_by_xpath(a)\n",
    "    timer = driver.find_element_by_xpath(t)\n",
    "print(timer.text)"
   ]
  },
  {
   "cell_type": "code",
   "execution_count": 25,
   "id": "prostate-indianapolis",
   "metadata": {},
   "outputs": [],
   "source": [
    "moreXpath = '/html/body/div/main/div[2]/div/div[1]/div[2]/div/div[1]/a'"
   ]
  },
  {
   "cell_type": "code",
   "execution_count": 26,
   "id": "combined-geneva",
   "metadata": {},
   "outputs": [],
   "source": [
    "driver.get('https://tronscan.org')"
   ]
  },
  {
   "cell_type": "code",
   "execution_count": 27,
   "id": "fifth-moderator",
   "metadata": {},
   "outputs": [],
   "source": [
    "moreClick = driver.find_element_by_xpath(moreXpath)"
   ]
  },
  {
   "cell_type": "code",
   "execution_count": 47,
   "id": "smooth-necklace",
   "metadata": {},
   "outputs": [],
   "source": [
    "temp = "
   ]
  },
  {
   "cell_type": "code",
   "execution_count": 48,
   "id": "living-volume",
   "metadata": {},
   "outputs": [
    {
     "data": {
      "text/plain": [
       "[<selenium.webdriver.remote.webelement.WebElement (session=\"ecf47f2b4430c159206ae2c250739759\", element=\"e00041d2-0667-46ad-864e-c54ee2bdb2a9\")>]"
      ]
     },
     "execution_count": 48,
     "metadata": {},
     "output_type": "execute_result"
    }
   ],
   "source": [
    "temp"
   ]
  },
  {
   "cell_type": "code",
   "execution_count": 28,
   "id": "associate-layout",
   "metadata": {},
   "outputs": [],
   "source": [
    "moreClick.click()"
   ]
  },
  {
   "cell_type": "code",
   "execution_count": 40,
   "id": "rapid-principle",
   "metadata": {},
   "outputs": [],
   "source": [
    "links = driver.find_elements_by_class_name('truncate-ellipsis')"
   ]
  },
  {
   "cell_type": "code",
   "execution_count": 41,
   "id": "sealed-cassette",
   "metadata": {},
   "outputs": [
    {
     "data": {
      "text/plain": [
       "<selenium.webdriver.remote.webelement.WebElement (session=\"51dfc559ff5102b33c81cc8a2ab3351f\", element=\"b051bf30-1800-4acf-9e6e-647b779e44fd\")>"
      ]
     },
     "execution_count": 41,
     "metadata": {},
     "output_type": "execute_result"
    }
   ],
   "source": [
    "links[0]"
   ]
  },
  {
   "cell_type": "code",
   "execution_count": 50,
   "id": "entertaining-interaction",
   "metadata": {},
   "outputs": [],
   "source": [
    "links = []\n",
    "for i in range(10):\n",
    "    driver.get('https://tronscan.org/#/blockchain/transactions')\n",
    "    time.sleep(3)\n",
    "    t = driver.find_element_by_xpath('/html/body/div/main/div[3]/div/div/div/div/div/div/div/div/div/div/table/tbody/tr[1]/td[1]/div/span/a').get_attribute('href')\n",
    "    finalLink = 'https://tronscan.org/' + t\n",
    "    links.append(finalLink)\n",
    "\n"
   ]
  },
  {
   "cell_type": "code",
   "execution_count": 52,
   "id": "hybrid-dover",
   "metadata": {},
   "outputs": [
    {
     "name": "stdout",
     "output_type": "stream",
     "text": [
      "Same\n"
     ]
    }
   ],
   "source": [
    "for i in range(10):\n",
    "    for j in range(i+1, 10):\n",
    "        if links[i] == links[j]:\n",
    "            print('Same')\n",
    "        "
   ]
  },
  {
   "cell_type": "code",
   "execution_count": 53,
   "id": "inappropriate-train",
   "metadata": {},
   "outputs": [
    {
     "data": {
      "text/plain": [
       "['https://tronscan.org/https://tronscan.org/#/transaction/d14d64f0dc1dd7360e7365a7e40fae7fc9205830b217854e44064d1a2a2025ad',\n",
       " 'https://tronscan.org/https://tronscan.org/#/transaction/d14d64f0dc1dd7360e7365a7e40fae7fc9205830b217854e44064d1a2a2025ad',\n",
       " 'https://tronscan.org/https://tronscan.org/#/transaction/f531b9248f8f66b7aecdefc495aec88fa637025c0557852d486cc86105b25f49',\n",
       " 'https://tronscan.org/https://tronscan.org/#/transaction/e5b4c4a2d44f2347fb05e20f074c54a99906a97fc339f61c026d855e6d618994',\n",
       " 'https://tronscan.org/https://tronscan.org/#/transaction/6402fc8c7e9eef1d9743edf9839ddc4930aa7a440da262c7fdac0ded1b0fd8ed',\n",
       " 'https://tronscan.org/https://tronscan.org/#/transaction/60953556ab7f175d2a18f32f15cb1acaeec004d95d03dc8f9b3fb2b925cf5ace',\n",
       " 'https://tronscan.org/https://tronscan.org/#/transaction/2dfd430853e83e4420d9b84b6922dc71c78bbe82aab2b9ae5776d9d87be54b2c',\n",
       " 'https://tronscan.org/https://tronscan.org/#/transaction/27dd081fb4d3ac2f2892a6b1e9e31bc3e4f56cd50e8850e79b3a379b4a0be79b',\n",
       " 'https://tronscan.org/https://tronscan.org/#/transaction/271f4f1ae464cf4c98c2b4049ae71e653aad2d3807ab95fd7b09aa5d7b1be84a',\n",
       " 'https://tronscan.org/https://tronscan.org/#/transaction/961aed547691894791e5fa711e42f8cdc58991825506423142fffc9f425c8f6d']"
      ]
     },
     "execution_count": 53,
     "metadata": {},
     "output_type": "execute_result"
    }
   ],
   "source": [
    "links"
   ]
  },
  {
   "cell_type": "markdown",
   "id": "accomplished-cutting",
   "metadata": {},
   "source": [
    "## Threading concept"
   ]
  },
  {
   "cell_type": "code",
   "execution_count": 7,
   "id": "referenced-cleveland",
   "metadata": {},
   "outputs": [],
   "source": []
  },
  {
   "cell_type": "code",
   "execution_count": 8,
   "id": "trying-viewer",
   "metadata": {},
   "outputs": [],
   "source": [
    "\n",
    "\n",
    "listV = []\n",
    "def print_cube(num):\n",
    "    print('Cube of number is : {}'.format(num*num*num))\n",
    "    now = datetime.now()\n",
    "    current_time = now.strftime(\"%H:%M:%S\")\n",
    "    print(\"Current Time in cube =\", current_time)\n",
    "    listV.append(num*num*num)\n",
    "    time.sleep(10)\n",
    "    now = datetime.now()\n",
    "    current_time = now.strftime(\"%H:%M:%S\")\n",
    "    print(\"Current Time in cube =\", current_time)\n",
    "\n",
    "def print_sqr(num):\n",
    "    print('Square of number is : {}'.format(num*num))\n",
    "    now = datetime.now()\n",
    "    current_time = now.strftime(\"%H:%M:%S\")\n",
    "    print(\"Current Time in Square =\", current_time)\n",
    "    listV.append(num*num)\n",
    "    time.sleep(10)\n",
    "    now = datetime.now()\n",
    "    current_time = now.strftime(\"%H:%M:%S\")\n",
    "    print(\"Current Time in cube =\", current_time)"
   ]
  },
  {
   "cell_type": "code",
   "execution_count": 63,
   "id": "current-trauma",
   "metadata": {},
   "outputs": [
    {
     "name": "stdout",
     "output_type": "stream",
     "text": [
      "Cube of number is : 1000\n",
      "Current Time in cube = 20:41:37\n",
      "Square of number is : 100\n",
      "Current Time in Square = 20:41:37\n",
      "Current Time in cube = 20:41:47\n",
      "Current Time in cube = 20:41:47\n"
     ]
    }
   ],
   "source": [
    "t1 = threading.Thread(target=print_cube, args=(10,))\n",
    "t2 = threading.Thread(target=print_sqr, args=(10,))\n",
    "\n",
    "t1.start()\n",
    "t2.start()\n",
    "\n",
    "t1.join()\n",
    "t2.join()"
   ]
  },
  {
   "cell_type": "code",
   "execution_count": 64,
   "id": "outer-quantity",
   "metadata": {},
   "outputs": [
    {
     "data": {
      "text/plain": [
       "[1000, 100]"
      ]
     },
     "execution_count": 64,
     "metadata": {},
     "output_type": "execute_result"
    }
   ],
   "source": [
    "listV"
   ]
  },
  {
   "cell_type": "code",
   "execution_count": 61,
   "id": "heated-neutral",
   "metadata": {},
   "outputs": [
    {
     "name": "stdout",
     "output_type": "stream",
     "text": [
      "Cube of number is : 1000\n",
      "Current Time in cube = 20:40:40\n",
      "Current Time in cube = 20:40:50\n",
      "Square of number is : 100\n",
      "Current Time in Square = 20:40:50\n",
      "Current Time in cube = 20:41:00\n"
     ]
    }
   ],
   "source": [
    "print_cube(10)\n",
    "print_sqr(10)"
   ]
  },
  {
   "cell_type": "code",
   "execution_count": 5,
   "id": "treated-owner",
   "metadata": {},
   "outputs": [],
   "source": [
    "driver2 = webdriver.Chrome()"
   ]
  },
  {
   "cell_type": "code",
   "execution_count": 6,
   "id": "informational-minute",
   "metadata": {},
   "outputs": [],
   "source": [
    "driver2.maximize_window()"
   ]
  },
  {
   "cell_type": "code",
   "execution_count": 11,
   "id": "higher-minnesota",
   "metadata": {},
   "outputs": [],
   "source": [
    "driver.close()"
   ]
  },
  {
   "cell_type": "code",
   "execution_count": 60,
   "id": "about-letters",
   "metadata": {},
   "outputs": [],
   "source": [
    "finalList = []"
   ]
  },
  {
   "cell_type": "code",
   "execution_count": 66,
   "id": "central-toyota",
   "metadata": {},
   "outputs": [],
   "source": [
    "\n",
    "def seleniumScraper(link):\n",
    "    driver = webdriver.Chrome()\n",
    "    driver.maximize_window()\n",
    "    driver.get(link)\n",
    "    time.sleep(3)\n",
    "    currentVal = []\n",
    "    status = '//*[@id=\"root\"]/main/div/div/div[1]/div[2]/div/table/tbody/tr[3]/td/span/div/span[1]/span'\n",
    "    timeTaken = '//*[@id=\"root\"]/main/div/div/div[1]/div[2]/div/table/tbody/tr[6]/td/div/div[1]/div'\n",
    "    hashVal = '//*[@id=\"root\"]/main/div/div/div[1]/div[2]/div/table/tbody/tr[1]/td'\n",
    "    result = '//*[@id=\"root\"]/main/div/div/div[1]/div[2]/div/table/tbody/tr[2]/td/span'\n",
    "    amount = '/html/body/div/main/div/div/div[2]/div/div[2]/table/tbody/tr[3]/td'\n",
    "#     '/html/body/div/main/div/div/div[2]/div/div[2]/table/tbody/tr[3]/td/span'\n",
    "    bandwidth = '//*[@id=\"root\"]/main/div/div/div[2]/div/div[2]/table/tbody/tr[4]/td/div/div[1]'\n",
    "    temp = driver.find_element_by_xpath(status)\n",
    "    while temp.text != 'CONFIRMED':\n",
    "        time.sleep(1)\n",
    "        temp = driver.find_element_by_xpath(status)\n",
    "        timer = driver.find_element_by_xpath(timeTaken)\n",
    "        \n",
    "    try:\n",
    "        hashVal = driver.find_element_by_xpath(hashVal).text\n",
    "        currentVal.append(hashVal)\n",
    "    except:\n",
    "        currentVal.append('Null')\n",
    "        \n",
    "    try:\n",
    "        result = driver.find_element_by_xpath(result).text\n",
    "        currentVal.append(result)\n",
    "    except:\n",
    "        currentVal.append('Null')\n",
    "        \n",
    "    try:\n",
    "        status = driver.find_element_by_xpath(status).text\n",
    "        currentVal.append(status)\n",
    "    except:\n",
    "        currentVal.append('Null')\n",
    "        \n",
    "    \n",
    "    \n",
    "    try:\n",
    "        timeTaken = driver.find_element_by_xpath(timeTaken).text\n",
    "        currentVal.append(timeTaken)\n",
    "    except:\n",
    "        currentVal.append('Null')\n",
    "        \n",
    "        \n",
    "    driver.execute_script('window.scrollBy(0, 1000);')\n",
    "    try:\n",
    "        amount = driver.find_element_by_xpath(amount).text\n",
    "        currentVal.append(amount)\n",
    "    except:\n",
    "        currentVal.append('Null')\n",
    "        \n",
    "        \n",
    "        \n",
    "    try:\n",
    "        bandwidth = driver.find_element_by_xpath(bandwidth).text\n",
    "        currentVal.append(bandwidth)\n",
    "    except:\n",
    "        currentVal.append('Null')\n",
    "        \n",
    "    print(currentVal)\n",
    "    finalList.append(currentVal)\n",
    "    driver.close()"
   ]
  },
  {
   "cell_type": "markdown",
   "id": "underlying-pastor",
   "metadata": {},
   "source": [
    "/html/body/div/main/div/div/div[2]/div/div[2]/table/tbody/tr[3]/td"
   ]
  },
  {
   "cell_type": "code",
   "execution_count": 68,
   "id": "twelve-publisher",
   "metadata": {},
   "outputs": [
    {
     "name": "stdout",
     "output_type": "stream",
     "text": [
      "https://tronscan.org/#/transaction/6cafd8021bc79e33dadf643dd5f56ecf3dc634fe6c04d7e30248682574de7d66\n",
      "https://tronscan.org/#/transaction/ccc0105cd693117b61342c2543a0279355b539937657870e21b1c1b70f05198b\n",
      "https://tronscan.org/#/transaction/ccde0841d941c8a5375ba79fe7b475cc0c9113f7d4908472f8efc607d30cd751\n",
      "https://tronscan.org/#/transaction/3a6c816546a5a30636a0a8f7ebd32d947b4394256b16e0bbd9257836b95763dc\n",
      "https://tronscan.org/#/transaction/9f08257b8efa8021135564d7d9f26b0e9e285c1e3438f282d1ab19294fc7a0d3\n",
      "['ccde0841d941c8a5375ba79fe7b475cc0c9113f7d4908472f8efc607d30cd751', 'SUCCESS', 'CONFIRMED', '1 min ago', '173', 'Null']\n",
      "['6cafd8021bc79e33dadf643dd5f56ecf3dc634fe6c04d7e30248682574de7d66', 'SUCCESS', 'CONFIRMED', '1min 6secs ago', '883.801495 TRX', '269 \\nBandwidth']\n",
      "['ccc0105cd693117b61342c2543a0279355b539937657870e21b1c1b70f05198b', 'SUCCESS', 'CONFIRMED', '1min 6secs ago', 'Null', 'Null']\n",
      "['9f08257b8efa8021135564d7d9f26b0e9e285c1e3438f282d1ab19294fc7a0d3', 'SUCCESS', 'CONFIRMED', '1min 3secs ago', 'Null', 'Null']\n",
      "['3a6c816546a5a30636a0a8f7ebd32d947b4394256b16e0bbd9257836b95763dc', 'SUCCESS', 'CONFIRMED', '1min 7secs ago', '0.000002 TRX', '265 \\nBandwidth']\n"
     ]
    }
   ],
   "source": [
    "links = []\n",
    "mainDriver = webdriver.Chrome()\n",
    "mainDriver.maximize_window()\n",
    "for i in range(5):\n",
    "    mainDriver.get('https://tronscan.org/#/blockchain/transactions')\n",
    "    time.sleep(3)\n",
    "    t = mainDriver.find_element_by_xpath('/html/body/div/main/div[3]/div/div/div/div/div/div/div/div/div/div/table/tbody/tr[1]/td[1]/div/span/a').get_attribute('href')\n",
    "    finalLink = t\n",
    "    print(finalLink)\n",
    "    links.append(finalLink)\n",
    "\n",
    "\n",
    "\n",
    "runningThreads = []\n",
    "for i in range(5):\n",
    "    currThread = threading.Thread(target=seleniumScraper, args=(links[i],))\n",
    "    runningThreads.append(currThread)\n",
    "    \n",
    "for currThread in runningThreads:\n",
    "    currThread.start()\n",
    "\n",
    "for currThread in runningThreads:\n",
    "    currThread.join()\n"
   ]
  },
  {
   "cell_type": "markdown",
   "id": "roman-trauma",
   "metadata": {},
   "source": [
    "//*[@id=\"root\"]/main/div/div/div[1]/div[2]/div/table/tbody/tr[1]/td\n",
    "//*[@id=\"root\"]/main/div/div/div[1]/div[2]/div/table/tbody/tr[3]/td/span/div/span[1]/span"
   ]
  },
  {
   "cell_type": "code",
   "execution_count": 24,
   "id": "distinct-wiring",
   "metadata": {},
   "outputs": [
    {
     "data": {
      "text/plain": [
       "['58secs ago', '1min 1sec ago']"
      ]
     },
     "execution_count": 24,
     "metadata": {},
     "output_type": "execute_result"
    }
   ],
   "source": [
    "timeTaken"
   ]
  },
  {
   "cell_type": "code",
   "execution_count": 29,
   "id": "increasing-salon",
   "metadata": {},
   "outputs": [],
   "source": [
    "mainDriver.close()"
   ]
  },
  {
   "cell_type": "code",
   "execution_count": 59,
   "id": "substantial-nightlife",
   "metadata": {},
   "outputs": [
    {
     "data": {
      "text/plain": [
       "[['546b8533f25419753b10ba9ddd35096919be251596b31bea552fbe88940d7078',\n",
       "  'SUCCESS',\n",
       "  'CONFIRMED',\n",
       "  '1min 4secs ago',\n",
       "  '0.000001 TRX',\n",
       "  '265 \\nBandwidth'],\n",
       " ['aff00384867d749f253bb83d4399ed3207ae99be70820f2606a1d3a99b0e1b69',\n",
       "  'SUCCESS',\n",
       "  'CONFIRMED',\n",
       "  '59secs ago',\n",
       "  '0.000003 TRX',\n",
       "  '265 \\nBandwidth']]"
      ]
     },
     "execution_count": 59,
     "metadata": {},
     "output_type": "execute_result"
    }
   ],
   "source": [
    "finalList"
   ]
  },
  {
   "cell_type": "code",
   "execution_count": null,
   "id": "valued-north",
   "metadata": {},
   "outputs": [],
   "source": [
    "driver = webdriver.Chrome()"
   ]
  },
  {
   "cell_type": "code",
   "execution_count": 55,
   "id": "fleet-stadium",
   "metadata": {},
   "outputs": [],
   "source": [
    "status = '//*[@id=\"root\"]/main/div/div/div[1]/div[2]/div/table/tbody/tr[3]/td/span/div/span[1]/span'\n",
    "timeTaken = '//*[@id=\"root\"]/main/div/div/div[1]/div[2]/div/table/tbody/tr[6]/td/div/div[1]/div'\n",
    "hashVal = '//*[@id=\"root\"]/main/div/div/div[1]/div[2]/div/table/tbody/tr[1]/td'\n",
    "result = '//*[@id=\"root\"]/main/div/div/div[1]/div[2]/div/table/tbody/tr[2]/td/span'\n",
    "amount = '/html/body/div/main/div/div/div[2]/div/div[2]/table/tbody/tr[3]/td/span'\n",
    "bandwidth = '//*[@id=\"root\"]/main/div/div/div[2]/div/div[2]/table/tbody/tr[4]/td/div/div[1]'"
   ]
  },
  {
   "cell_type": "code",
   "execution_count": null,
   "id": "following-carter",
   "metadata": {},
   "outputs": [],
   "source": [
    "mrZeLTlfgJIKESkuFnxHUzPy\n",
    "/html/body/div/main/div/div/div[2]/div/div[2]/table/tbody/tr[3]/td/span/text()[1]"
   ]
  },
  {
   "cell_type": "code",
   "execution_count": 56,
   "id": "twelve-ranch",
   "metadata": {},
   "outputs": [
    {
     "name": "stdout",
     "output_type": "stream",
     "text": [
      "4d73a407cddb55eeee3eca96609f61cac65fc014cfc10cf96d170e251a5c456c\n",
      "SUCCESS\n",
      "CONFIRMED\n",
      "13mins 2secs ago\n",
      "20.1 TRX\n",
      "714.2857142857143 \n",
      "Bandwidth\n"
     ]
    }
   ],
   "source": [
    "hashVal = driver.find_element_by_xpath(hashVal).text\n",
    "print(hashVal)\n",
    "\n",
    "result = driver.find_element_by_xpath(result).text\n",
    "# currentVal.append(result)\n",
    "print(result)\n",
    "\n",
    "status = driver.find_element_by_xpath(status).text\n",
    "# currentVal.append(status)\n",
    "print(status)\n",
    "\n",
    "timeTaken = driver.find_element_by_xpath(timeTaken).text\n",
    "# currentVal.append(timeTaken)\n",
    "print(timeTaken)\n",
    "\n",
    "# driver.execute_script('window.scrollBy(0, 1000);')\n",
    "amount = driver.find_element_by_xpath(amount).text\n",
    "# currentVal.append(amount)\n",
    "print(amount)\n",
    "\n",
    "bandwidth = driver.find_element_by_xpath(bandwidth).text\n",
    "# currentVal.append(bandwidth)\n",
    "print(bandwidth)\n"
   ]
  },
  {
   "cell_type": "code",
   "execution_count": null,
   "id": "surrounded-bacon",
   "metadata": {},
   "outputs": [],
   "source": []
  }
 ],
 "metadata": {
  "kernelspec": {
   "display_name": "Python 3",
   "language": "python",
   "name": "python3"
  },
  "language_info": {
   "codemirror_mode": {
    "name": "ipython",
    "version": 3
   },
   "file_extension": ".py",
   "mimetype": "text/x-python",
   "name": "python",
   "nbconvert_exporter": "python",
   "pygments_lexer": "ipython3",
   "version": "3.7.10"
  }
 },
 "nbformat": 4,
 "nbformat_minor": 5
}
