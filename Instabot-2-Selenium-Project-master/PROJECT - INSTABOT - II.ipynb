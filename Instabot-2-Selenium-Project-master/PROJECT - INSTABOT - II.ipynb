{
 "cells": [
  {
   "cell_type": "markdown",
   "metadata": {},
   "source": [
    "## Instructions For running the codes - \n",
    "\n",
    "1) Please run the codes in sequence as given as the functions are dependent on each other and also there might be the page that is opened already is used.\n",
    "\n",
    "2) If the code gives some exceptions then please re-run it might be due data transmission although i have included sleep commands to get the elements loaded completely.\n",
    "\n",
    "3) I have printed some variables that are not asked to be printed that is just for sake of clarity of what's happening.\n",
    "\n",
    "4) In The 2nd , i have writen in very much detail about working of code,so please refer to that cause i have done 3 parts of question using same function .\n",
    "\n",
    "5) If a code doesn't run or give errors, please re-run it , it will surely work i have checked all the codes twice.\n",
    "\n",
    "6) In last question the average likes of the handle has been calculated by the function and used it directly to find the ratio."
   ]
  },
  {
   "cell_type": "markdown",
   "metadata": {},
   "source": [
    "### LOGGING IN INSTAGRAM"
   ]
  },
  {
   "cell_type": "code",
   "execution_count": 146,
   "metadata": {},
   "outputs": [],
   "source": [
    "# importing all the required libraries\n",
    "# Creating a web driver session\n",
    "\n",
    "import time\n",
    "from selenium.webdriver.support.ui import WebDriverWait\n",
    "from selenium.webdriver.support import expected_conditions as EC\n",
    "from selenium.webdriver.common.by import By\n",
    "import matplotlib.pyplot as plt\n",
    "import pandas as pd\n",
    "import re \n",
    "\n",
    "# importing for exceptions\n",
    "from selenium.common.exceptions import TimeoutException\n",
    "from selenium.common.exceptions import NoSuchElementException\n",
    "from selenium import webdriver\n",
    "driver = webdriver.Chrome(executable_path = 'chromedriver')# Please set the path here accordingly."
   ]
  },
  {
   "cell_type": "code",
   "execution_count": 147,
   "metadata": {},
   "outputs": [],
   "source": [
    "# Function to login in Instagram and if the pop-up comes then it is also handled.\n",
    "\n",
    "def login() :\n",
    "    driver.get('https://www.instagram.com/') # visiting instagram\n",
    "    time.sleep(3)\n",
    "    user_name_text_box = driver.find_element_by_name('username') # finding text box for username\n",
    "    user_name_text_box.send_keys('USER NAME') # replace here with your username\n",
    "    pass_text_box = driver.find_element_by_name('password') # finding text box for password\n",
    "    pass_text_box.send_keys('PASSWORD') # provide here your password\n",
    "    driver.find_element_by_class_name('L3NKy').click()\n",
    "    time.sleep(3) \n",
    "    \n",
    "    # here, if the popup saying 'turn on notifications' is popped then it is handled\n",
    "    \n",
    "    try :\n",
    "        popup = driver.find_element_by_class_name('HoLwm')\n",
    "        if popup.is_enabled :\n",
    "            popup.click()\n",
    "            \n",
    "    except NoSuchElementException:\n",
    "        pass"
   ]
  },
  {
   "cell_type": "code",
   "execution_count": 148,
   "metadata": {},
   "outputs": [],
   "source": [
    "login()"
   ]
  },
  {
   "cell_type": "markdown",
   "metadata": {},
   "source": [
    "## 1) Now your friend has followed a lot of different food bloggers, he needs to analyse the habits of these bloggers.\n",
    "\n",
    "### 1.1) From the list of instagram handles you obtained when you searched ‘food’ in previous project. Open the first 10 handles and find the top 5 which have the highest number of followers"
   ]
  },
  {
   "cell_type": "code",
   "execution_count": 4,
   "metadata": {},
   "outputs": [],
   "source": [
    "# Fuction for seaching for text box and seaching for the specific kwyword\n",
    "# This Function will be used in further Questions also\n",
    "\n",
    "def text_box(search_this):\n",
    "    text_box = driver.find_element_by_class_name('x3qfX') # finding text box using its class\n",
    "    text_box.clear() # clearing it so that if some other thing is written in it then it is removed first\n",
    "    text_box.send_keys(search_this) # searching for the keyword given"
   ]
  },
  {
   "cell_type": "code",
   "execution_count": 5,
   "metadata": {},
   "outputs": [],
   "source": [
    "# This Function searches for all the insta Handles displayed after typing 'food' and displays list of those handles\n",
    "# Locations and tags that comes on searching are handled i.e. are not displayed here.\n",
    "# Only instagram handles will be displayed.\n",
    "\n",
    "def food_insta_handles() :\n",
    "    text_box('food') # calling text_box function so that food is searched in search\n",
    "    time.sleep(4)\n",
    "    lst = driver.find_elements_by_class_name('yCE8d') # made list of all the elements in list\n",
    "    insta_handles = []\n",
    "\n",
    "    # done this so that only handles are displayed not tags and locations \n",
    "    \n",
    "    for i in lst:\n",
    "        if ('locations' not in i.get_attribute('href'))  and ('tags' not in i.get_attribute('href')) :\n",
    "            insta_handles.append(i)\n",
    "    \n",
    "    Food_handles = []\n",
    "    \n",
    "    for j in range(10) :\n",
    "        Food_handles.append(insta_handles[j].find_element_by_xpath('div/div[2]/div/span').text) \n",
    "         \n",
    "    return Food_handles"
   ]
  },
  {
   "cell_type": "code",
   "execution_count": 6,
   "metadata": {},
   "outputs": [
    {
     "data": {
      "text/plain": [
       "['foodgod',\n",
       " 'foodnetwork',\n",
       " 'food52',\n",
       " 'foodmybff',\n",
       " 'foodinsider',\n",
       " 'buzzfeedfood',\n",
       " 'food',\n",
       " 'foodandwine',\n",
       " 'foodsile',\n",
       " 'dreamfood']"
      ]
     },
     "execution_count": 6,
     "metadata": {},
     "output_type": "execute_result"
    }
   ],
   "source": [
    "# calling finction\n",
    "# These are the first 10 followers \n",
    "\n",
    "handles = food_insta_handles()\n",
    "handles"
   ]
  },
  {
   "cell_type": "code",
   "execution_count": 7,
   "metadata": {},
   "outputs": [],
   "source": [
    "# function for opening the profile given.\n",
    "# This function will be used extensively in further questions.\n",
    "\n",
    "def open_profile(profile_name) :\n",
    "    text_box(profile_name) # calling text_box function to search for given keyword\n",
    "    time.sleep(3)\n",
    "    driver.find_element_by_class_name('yCE8d').click()"
   ]
  },
  {
   "cell_type": "code",
   "execution_count": 8,
   "metadata": {},
   "outputs": [],
   "source": [
    "# QUES 1.1) \n",
    "\"\"\"\"\"\n",
    "In this question , we first vesit each handle of the 10 handles, and store the followers in a list,\n",
    "then sorted the dictionary according to the followers and extracted top 5 most popular handles.\n",
    "\n",
    "\"\"\"\"\"\n",
    "def top_5_handles() :\n",
    "    Food_handles = food_insta_handles() # getting first 10 food handles\n",
    "    time.sleep(2)\n",
    "    d = {}\n",
    "    for i in Food_handles :\n",
    "        driver.get('https://www.instagram.com/' + str(i)) # visiting each handle\n",
    "        time.sleep(3)\n",
    "        followers = driver.find_elements_by_class_name('g47SY')[1].get_attribute('title') # extracting followers of each handle\n",
    "        d[i] = int(followers.replace(',','')) # converting to integer value\n",
    "    \n",
    "    sorted_dict = sorted(d.items(), key = lambda kv:kv[1], reverse = True)[:5] # sorting the by number of followers \n",
    "    return sorted_dict # returned dictionary"
   ]
  },
  {
   "cell_type": "code",
   "execution_count": 9,
   "metadata": {},
   "outputs": [
    {
     "name": "stdout",
     "output_type": "stream",
     "text": [
      "foodnetwork\n",
      "buzzfeedfood\n",
      "foodgod\n",
      "foodandwine\n",
      "food52\n"
     ]
    }
   ],
   "source": [
    "# calling function to obtain 5 most popular handles\n",
    "\n",
    "top_handles = top_5_handles()\n",
    "\n",
    "# printing those handles\n",
    "\n",
    "for i in top_handles :\n",
    "    print(i[0])"
   ]
  },
  {
   "cell_type": "markdown",
   "metadata": {},
   "source": [
    "### 1.2) Now Find the number of posts these handles have done in the previous 3 days."
   ]
  },
  {
   "cell_type": "code",
   "execution_count": 16,
   "metadata": {},
   "outputs": [],
   "source": [
    "\"\"\"\"\"\n",
    "This Functions visits each of the above 5 handles and then visits the posts , extracts the time of uploading the post,\n",
    "We have 3 cases that could be text where we have the time written -\n",
    "\n",
    "1) In terms of minutes.\n",
    "2) In terms of Hours.\n",
    "3) In terms of Hour.\n",
    "\n",
    "We increase the count of posts by 1 if any of above condn is met and if not then if it is written in form of days \n",
    "then if it will be < 3 then we increase count by 1 otherwise break the loop\n",
    "\n",
    "\"\"\"\"\"\n",
    "\n",
    "def Post_count(insta_handles) :\n",
    "    d = {} \n",
    "    for i in insta_handles :\n",
    "        driver.get('https://www.instagram.com/' + str(i[0])) # visiting the most popular 5 handles\n",
    "        time.sleep(3)\n",
    "        posts = driver.find_elements_by_class_name('v1Nh3') # finding all posts on page\n",
    "        count = 0\n",
    "        posts[0].click() # clicking on first post\n",
    "        while True : \n",
    "            try :\n",
    "                time.sleep(3)\n",
    "                upload_time = driver.find_element_by_class_name('_1o9PC').text.split(\" \") # extracting text of time\n",
    "                if (upload_time[1] == 'HOURS' or upload_time[1] == 'HOUR' or upload_time[1] == 'MINUTES') : # checking condns\n",
    "                    count += 1\n",
    "                elif (int(upload_time[0]) < 3) : # if > 3 days then break\n",
    "                    count += 1\n",
    "                else :\n",
    "                    break\n",
    "                next_button = driver.find_element_by_class_name('_65Bje') # clicking on next button to go to next post\n",
    "                next_button.click()\n",
    "            except ValueError :\n",
    "                    break\n",
    "        d[i[0]] = count # updating dictionary\n",
    "        \n",
    "    return d"
   ]
  },
  {
   "cell_type": "code",
   "execution_count": 12,
   "metadata": {},
   "outputs": [
    {
     "name": "stdout",
     "output_type": "stream",
     "text": [
      "Food Handle Name       Number of posts in previous 3 days\n",
      "      foodnetwork               29\n",
      "      buzzfeedfood               0\n",
      "      foodgod               1\n",
      "      foodandwine               18\n",
      "      food52               12\n"
     ]
    }
   ],
   "source": [
    "# calling function to get number posts in past 3 days\n",
    "\n",
    "d = Post_count(top_handles)\n",
    "\n",
    "print('Food Handle Name', '     ', 'Number of posts in previous 3 days')\n",
    "for j in d :\n",
    "    print('     ',j, '             ', d[j])"
   ]
  },
  {
   "cell_type": "markdown",
   "metadata": {},
   "source": [
    "### 1.3) Depict this information using a suitable graph."
   ]
  },
  {
   "cell_type": "code",
   "execution_count": 22,
   "metadata": {},
   "outputs": [
    {
     "data": {
      "image/png": "[encoded data removed]",
      "text/plain": [
       "<Figure size 800x500 with 1 Axes>"
      ]
     },
     "metadata": {},
     "output_type": "display_data"
    }
   ],
   "source": [
    "# using matplotlib to create graph.\n",
    "\n",
    "posts_number = Post_count(top_handles) # calling function to get dictionary\n",
    "page_name = posts_number.keys() # extracting name of handles\n",
    "count = posts_number.values() # number of posts in previous 3 days\n",
    "\n",
    "# plotting graph\n",
    "\n",
    "plt.figure(num=None, figsize=(8, 5), dpi=100, facecolor='w', edgecolor='green')\n",
    "plt.grid()\n",
    "plt.bar(page_name, count, color = 'orange')\n",
    "plt.title('Top 5 Food Insta Handles v/s Number of posts previous 3 days')\n",
    "plt.xlabel('Food Insta Handles Names', size = 12)\n",
    "plt.ylabel('Number Of Posts', size = 12)\n",
    "plt.xticks(rotation = 40)\n",
    "plt.show()"
   ]
  },
  {
   "cell_type": "markdown",
   "metadata": {},
   "source": [
    "## 2) Your friend also needs a list of hashtags that he should use in his posts."
   ]
  },
  {
   "cell_type": "markdown",
   "metadata": {},
   "source": [
    "### 2.1) Open the 5 handles you obtained in the last question, and scrape the content of the first 10 posts of each handle.\n",
    "\n",
    "### 2.2) Prepare a list of all words used in all the scraped posts and calculate the frequency of each word."
   ]
  },
  {
   "cell_type": "code",
   "execution_count": 95,
   "metadata": {},
   "outputs": [],
   "source": [
    "# QUESTION 2.1 - 2.2)\n",
    "\n",
    "\"\"\"\"\"\n",
    "Firstly made a function to go to each post and extract it's content i.e all the words and the hashtags used in captions , \n",
    "This Function extracts both hashtags as well as words and then counts the frequency of each word or hashtag and \n",
    "returns both in dictionary form.\n",
    "\n",
    "Used exceptions for each cases like for opening a post, loading the post and used the wait object so that element gets loaded completely, \n",
    "and if it isn't present then used exceptions for that.\n",
    "\n",
    "In tags , first splitted all the content and then if the word starts with # then stripped it and extracted in the dictionary\n",
    "to count the freq of the tag.\n",
    "\n",
    "For words , we split about all the words that do not start with a-z or A-Z and then store these words in a dictionary to calc\n",
    "their count.\n",
    "\n",
    "This has been done for 10 posts of each handle.\n",
    "\n",
    "\"\"\"\"\"\n",
    "\n",
    "def words_and_hashtags(driver,words,hashtags) :\n",
    "    wait = WebDriverWait(driver, 10)\n",
    "    #Try opening the first post\n",
    "    try :\n",
    "        li = wait.until(EC.presence_of_element_located((By.CLASS_NAME,'v1Nh3')))\n",
    "        li.click()\n",
    "    except Exception as e:\n",
    "        print(\"Cant Open Post\") \n",
    "        return\n",
    "    \n",
    "    #Loop will run 10 times, since we are to scrape first 10 posts\n",
    "    for i in range(10) :\n",
    "       \n",
    "        #checkif the post is loaded by locating some element such as time of upload\n",
    "        try : \n",
    "            temp = wait.until(EC.presence_of_element_located((By.CLASS_NAME,'_1o9PC')))\n",
    "        except Exception as e:\n",
    "            print(\"Loading error\")\n",
    "            return\n",
    "        \n",
    "        #Get the element(post) which represent caption using xpath\n",
    "        try:\n",
    "            post = wait.until(EC.presence_of_element_located((By.XPATH,'//article/div[2]/div[1]/ul/div/li/div/div/div[2]/span'))).text\n",
    "\n",
    "            # post is into hashtags, l contains all the hashtags of the post\n",
    "            l = [tag.strip(\"#\") for tag in post.split() if tag.startswith(\"#\")]\n",
    "\n",
    "            # add hashtags in the dictionary\n",
    "            for i in l :\n",
    "                for j in i.split('#') : # this is done to handle cases such as #abc#def#xyz \n",
    "                    hashtags[j] = hashtags.get(j,0) + 1\n",
    "\n",
    "            # post again split about all non alphabets, this time to contain all the words\n",
    "            for i in re.split('[^a-zA-Z]',post):\n",
    "                if i != '' :\n",
    "                    words[i] = words.get(i,0) + 1 \n",
    "        except Exception as e:\n",
    "            print('No Caption in post Number', i )\n",
    "       \n",
    "        #press the next button, if not located means no more posts. (In case of total posts less than 10)\n",
    "        try : \n",
    "            nxt = wait.until(EC.presence_of_element_located((By.CLASS_NAME,'coreSpriteRightPaginationArrow')))\n",
    "            nxt.click()\n",
    "        except Exception as e:\n",
    "            print(\"No more posts\")\n",
    "            break     \n",
    "\n",
    "    #return both dictionaries\n",
    "    return words,hashtags"
   ]
  },
  {
   "cell_type": "code",
   "execution_count": 96,
   "metadata": {},
   "outputs": [],
   "source": [
    "# this function calls the above function to get content of all the pages ,\n",
    "# this will return 2 dictionaries for tags and words.\n",
    "# here we get all the words and tags in the 10 posts of top 5 pages.\n",
    "\n",
    "def content(insta_handles) :\n",
    "    words = {} \n",
    "    hashtags = {}\n",
    "    for j in insta_handles : # iterating through each handle.\n",
    "        driver.get('https://www.instagram.com/' + str(j[0])) \n",
    "        time.sleep(3)\n",
    "        \n",
    "        # updating the dictionaries\n",
    "        words, hashtags = words_and_hashtags(driver,words,hashtags)\n",
    "        \n",
    "    return words, hashtags"
   ]
  },
  {
   "cell_type": "code",
   "execution_count": 97,
   "metadata": {},
   "outputs": [
    {
     "name": "stdout",
     "output_type": "stream",
     "text": [
      "No Caption in post Number 8\n",
      "{'Instant': 1, 'Pot': 1, 'Lava': 1, 'Cakes': 2, 'Got': 1, 'a': 62, 'craving': 1, 'for': 39, 'something': 5, 'decadent': 2, 'gooey': 1, 'and': 64, 'chocolatey': 1, 'We': 6, 've': 1, 'got': 1, 'you': 19, 'covered': 1, 'in': 50, 'no': 2, 'time': 3, 'WeCook': 5, 'Rice': 1, 'doesn': 1, 't': 11, 'have': 9, 'to': 71, 'be': 13, 'boring': 1, 'Add': 1, 'some': 2, 'pizazz': 1, 'with': 25, 'gourmet': 1, 'gab': 1, 's': 46, 'tangy': 1, 'chimichurri': 1, 'sauce': 1, 'Top': 1, 'spicy': 1, 'chorizo': 1, 'creamy': 4, 'avo': 1, 'or': 9, 'whatever': 1, 'proteins': 1, 'veg': 1, 'around': 6, 'the': 94, 'house': 2, 'Take': 2, 'Gab': 1, 'class': 11, 'today': 2, 'on': 20, 'FoodNetworkKitchen': 5, 'app': 7, 'Apple': 2, 'Cinnamon': 2, 'Bun': 2, 'Pie': 2, 'Mash': 1, 'Up': 2, 'Watch': 3, 'what': 9, 'happens': 1, 'when': 6, 'cinnamon': 1, 'buns': 1, 'apple': 1, 'pie': 2, 'collide': 1, 'There': 3, 'NO': 1, 'better': 5, 'way': 2, 'celebrate': 1, 'NationalApplePieDay': 1, 'Save': 4, 'recipe': 15, 'this': 26, 'Raisin': 1, 'your': 9, 'foodnetworkkitchen': 3, 'A': 3, 'few': 2, 'very': 1, 'special': 2, 'guests': 2, 'are': 4, 'joining': 1, 'TheKitchen': 2, 'Saturday': 2, 'This': 10, 'weekend': 1, 'quarantine': 1, 'episode': 4, 'will': 1, 'feature': 1, 'fellow': 1, 'fans': 1, 'of': 65, 'show': 1, 'as': 11, 'they': 4, 'call': 1, 'ask': 1, 'co': 2, 'hosts': 1, 'about': 5, 'cooking': 5, 'their': 3, 'families': 1, 'It': 8, 'all': 9, 'starting': 1, 'c': 4, 'Recipe': 2, 'Day': 2, 'melissadarabian': 1, 'Fan': 1, 'Favorite': 2, 'Salmon': 1, 'Creamy': 1, 'goat': 1, 'cheese': 1, 'wrapped': 1, 'up': 5, 'flaky': 1, 'butter': 2, 'phyllo': 1, 'Is': 3, 'there': 4, 'anything': 2, 'more': 14, 'magical': 2, 'NEW': 1, 'season': 1, 'BarefootContessa': 1, 'InaGarten': 1, 'begins': 1, 'Saturdays': 2, 'Warm': 1, 'Goat': 1, 'Cheese': 1, 'Phyllo': 1, 'Class': 1, 'Cherry': 2, 'Tomato': 2, 'Tart': 2, 'Use': 2, 'homemade': 1, 'store': 1, 'bought': 1, 'crust': 1, 'make': 6, 'parmesan': 1, 'packed': 1, 'Make': 1, 'it': 18, 'ali': 1, 'rosen': 1, 'Crispy': 1, 'Tortilla': 2, 'Pizza': 1, 'jeffmauro': 2, 'pizza': 1, 'is': 25, 'perfect': 3, 'family': 1, 'friendly': 1, 'dinner': 2, 'that': 18, 'won': 2, 'break': 1, 'bank': 1, 'Get': 3, 'at': 17, 'Guarnaschelli': 1, 'Spare': 2, 'Ribs': 2, 'takes': 1, 'only': 3, 'five': 2, 'minutes': 1, 'prep': 1, 'Alex': 1, 'Dad': 1, 'new': 3, 'SupermarketStakeout': 1, 'tonight': 1, 'works': 2, 'pinch': 1, 'makes': 4, 'cup': 1, 'baking': 4, 'powder': 2, 'enough': 1, 'several': 1, 'recipes': 4, 'If': 2, 'don': 1, 'cornstarch': 1, 'omit': 1, 'acts': 1, 'an': 9, 'anti': 1, 'caking': 1, 'agent': 1, 'prevent': 1, 'clumping': 1, 'during': 1, 'storage': 1, 'Did': 1, 'know': 4, 'amazonfiretv': 1, 'Fire': 1, 'Tablet': 1, 'customers': 1, 'get': 8, 'year': 10, 'complimentary': 1, 'subscription': 1, 'Premium': 1, 'Find': 1, 'out': 10, 'how': 4, 'redeem': 1, 'by': 6, 'going': 2, 'foodtv': 1, 'com': 1, 'amazon': 1, 'place': 3, 'Seattle': 1, 'serves': 2, 'tide': 1, 'table': 3, 'shellfish': 1, 'Follow': 9, 'bringme': 11, 'foodie': 7, 'spots': 1, 'world': 5, 'Are': 1, 'ready': 1, 'bougie': 1, 'budget': 1, 'You': 1, 'can': 8, 'Michelin': 1, 'star': 1, 'meal': 2, 'Paris': 1, 'adventures': 7, 'Why': 1, 'aren': 1, 'following': 1, 'yet': 1, 'Brazil': 1, 'cheesiest': 1, 'chili': 1, 'cheeseburgers': 1, 'Move': 1, 'over': 2, 'Italy': 1, 'Vancouver': 1, 'might': 3, 'best': 5, 'gelato': 2, 'What': 3, 'favorite': 3, 'flavor': 2, 'mouthwatering': 1, 'globe': 3, 'Sushi': 1, 'sustainability': 2, 'my': 5, 'dream': 1, 'come': 4, 'true': 1, 'portlandtravel': 1, 'sushirestuarant': 1, 'sushi': 1, 'oregontravel': 1, 'These': 1, 'cheesecake': 2, 'tea': 1, 'cups': 1, 'I': 19, 'll': 2, 'take': 3, 'one': 8, 'EVERYTHING': 1, 'pickle': 1, 'beer': 1, 'flights': 1, 'southern': 1, 'twist': 2, 'Cozy': 1, 'hot': 1, 'chocolate': 2, 'caf': 1, 'They': 1, 'different': 3, 'kinds': 1, 'Thanks': 1, 'dairy': 1, 'free': 2, 'blueberry': 1, 'lime': 1, 'goodful': 1, 'Would': 1, 'like': 6, 'piece': 1, 'am': 1, 'eating': 1, 'alone': 1, 'silviaribeirogourmet': 1, 'were': 2, 'guilty': 1, 'doing': 2, 'kid': 1, 'say': 2, 'i': 1, 'Cheetos': 1, 'vs': 1, 'Doritos': 1, 'Which': 1, 'Should': 1, 'dark': 1, 'milk': 1, 'white': 2, 'pool': 1, 'mrhalawa': 1, 'accepted': 1, 'ALLINCHALLENGE': 1, 'm': 5, 'giving': 1, 'away': 1, 'food': 14, 'Click': 1, 'link': 14, 'Bio': 1, 'enter': 1, 'hereby': 1, 'challenge': 1, 'lala': 1, 'fatjoe': 1, 'join': 1, 'us': 2, 'ALL': 1, 'IN': 1, 'those': 3, 'need': 1, 'allinchallenge': 1, 'built': 1, 'own': 3, 'gym': 1, 'w': 1, 'vodkabeluga': 1, 'who': 2, 'wants': 1, 'watch': 2, 'till': 1, 'ending': 1, 'surprise': 1, 'was': 3, 'honor': 2, 'pleasure': 1, 'give': 1, 'back': 3, 'amazing': 1, 'nurses': 1, 'doctors': 1, 'mountsinaimedicalcenter': 1, 'umiamihealth': 1, 'thank': 1, 'everything': 1, 're': 3, 'Miami': 2, 'also': 2, 'thanks': 1, 'adameljamal': 1, 'helping': 1, 'happen': 1, 'Comment': 1, 'UK': 1, 'quickly': 1, 'Can': 1, 'wait': 1, 'visit': 1, 'soon': 2, 'made': 3, 'nothing': 4, 'foodgod': 1, 'videos': 1, 'sharing': 1, 'ones': 2, 'story': 1, 'No': 2, 'bread': 2, 'flour': 2, 'hand': 2, 'worries': 1, 'probably': 1, 'already': 1, 'use': 1, 'instead': 1, 'Tap': 8, 'our': 25, 'bio': 13, 'handy': 1, 'guide': 1, 'substitutions': 1, 'The': 3, 'backyard': 1, 'snack': 2, 'according': 1, 'Senior': 1, 'Editor': 2, 'davidlandsel': 1, 'samir': 1, 'cooks': 2, 'from': 13, 'beitrima': 1, 'paired': 1, 'order': 1, 'ful': 1, 'two': 6, 'Blecs': 1, 'handrolled': 1, 'pasta': 1, 'mixture': 1, 'wheat': 1, 'buckwheat': 1, 'flours': 1, 'dumpling': 1, 'texture': 4, 'cooked': 1, 'lachlanmp': 1, 'pairs': 1, 'his': 13, 'chicken': 2, 'rosemary': 1, 'hearty': 1, 'tap': 1, 'gregdupree': 1, 'strange': 1, 'restaurant': 4, 'editor': 1, 'but': 7, 'writes': 1, 'Restaurant': 1, 'khushandoj': 1, 'announcing': 1, 'FWBNC': 8, 'COVID': 1, 'crisis': 1, 'sweeps': 1, 'fallout': 1, 'pandemic': 1, 'has': 2, 'revealed': 1, 'layers': 1, 'strength': 1, 'creativity': 1, 'people': 4, 'embodied': 1, 'Best': 1, 'New': 1, 'Chefs': 1, 'With': 5, 'them': 5, 'helm': 1, 'future': 3, 'dining': 1, 'looks': 1, 'brighter': 1, 'fairer': 1, 'delicious': 1, 'than': 4, 'ever': 1, 'before': 3, 'mind': 1, 'we': 5, 'asked': 1, 'each': 4, 'member': 1, 'want': 5, 'restaurants': 3, 'hold': 1, 'meet': 7, 'read': 1, 'industry': 1, 'Chef': 1, 'Eunjo': 1, 'Park': 3, 'eunjoful': 1, 'mission': 1, 'respect': 1, 'rice': 1, 'cake': 2, 'chewy': 1, 'Korean': 7, 'staple': 1, 'long': 2, 'been': 2, 'seen': 1, 'base': 1, 'humble': 3, 'everyday': 1, 'dishes': 2, 'But': 1, 'Kawi': 3, 'part': 2, 'davidchang': 1, 'momolongplay': 1, 'empire': 1, 'her': 9, 'version': 1, 'She': 1, 'never': 2, 'set': 1, 'cook': 1, 'Asian': 1, 'much': 2, 'less': 1, 'thought': 1, 'could': 3, 'home': 3, 'think': 2, 'see': 4, 'me': 2, 'Korea': 1, 'not': 5, 'In': 3, 'America': 1, 'American': 6, 'mean': 1, 'gray': 2, 'area': 2, 'Like': 1, 'operates': 1, 'too': 2, 'Yes': 2, 'Also': 1, 'yes': 1, 'zone': 1, 'able': 2, 'push': 1, 'boundaries': 1, 'taste': 1, 'technique': 1, 'just': 6, 'where': 1, 'rest': 6, 'farm': 3, 'then': 4, 'Niven': 1, 'Patel': 4, 'chefniven': 1, 'owns': 1, 'locations': 1, 'gheemiami': 1, 'pop': 1, 'supplies': 1, 'fresh': 2, 'produce': 2, 'acre': 1, 'plot': 1, 'dubbed': 1, 'Rancho': 1, 'From': 1, 'these': 4, 'acres': 1, 'steady': 1, 'supply': 1, 'keep': 1, 'menus': 2, 'simple': 1, 'flavorful': 1, 'says': 4, 'That': 1, 'Indian': 4, 'should': 1, 'entire': 1, 'ethos': 1, 'comes': 3, 'preferring': 1, 'skip': 1, 'trappings': 1, 'typical': 1, 'British': 1, 'curry': 1, 'menu': 4, 'find': 4, 'jalfrezi': 1, 'lamb': 1, 'bhuna': 1, 'favor': 1, 'unfussy': 1, 'homestyle': 1, 'him': 4, 'Trigg': 1, 'Brown': 3, 'trigg': 1, 'brown': 1, 'didn': 1, 'plan': 1, 'opening': 1, 'Taiwanese': 6, 'Brooklyn': 1, 'After': 1, 'exploring': 1, 'every': 2, 'he': 12, 'business': 1, 'partner': 2, 'Josh': 1, 'Ku': 2, 'Flushing': 1, 'dissecting': 1, 'dish': 1, 'specifically': 1, 'techniques': 1, 'ingredients': 3, 'involved': 1, 'reverse': 1, 'engineering': 1, 'mom': 1, 'celery': 1, 'tofu': 1, 'pair': 1, 'saw': 1, 'opportunity': 1, 'went': 1, 'weren': 1, 'trying': 2, 'start': 1, 'fad': 1, 'trend': 2, 'wanted': 1, 'bring': 1, 'loved': 1, 'neighborhood': 2, 'He': 1, 'quick': 1, 'point': 1, 'winsonbrooklyn': 1, 'winsonbakery': 1, 'Emphasis': 1, 'really': 1, 'front': 1, 'fact': 1, 'guy': 1, 'experience': 2, 'cuisine': 1, 'especially': 1, 'regionally': 1, 'specific': 2, 'Regardless': 1, 'label': 1, 'denying': 1, 'making': 4, 'unconscionably': 1, 'good': 2, 'Tavel': 1, 'Bristol': 2, 'Joseph': 2, 'tavel': 1, 'savant': 1, 'sugar': 2, 'yeast': 1, 'first': 2, 'learned': 2, 'bake': 1, 'punishment': 2, 'kids': 1, 'attending': 1, 'Sunday': 1, 'school': 2, 'auntie': 1, 'church': 1, 'Guyana': 1, 'Turns': 1, 'natural': 1, 'Today': 2, 'owner': 1, 'alongside': 1, 'kevinfinkatx': 1, 'executive': 1, 'pastry': 1, 'chef': 1, 'throughout': 2, 'Austin': 1, 'emmerandrye': 1, 'henbitaustin': 1, 'tlv': 1, 'austin': 2, 'hestia': 1, 'kalimotxo': 1, 'atx': 1, 'His': 1, 'globally': 1, 'inspired': 4, 'desserts': 1, 'among': 1, 'most': 2, 'exciting': 1, 'country': 1, 'Baking': 1, 'once': 1, 'now': 3, 'sees': 1, 'calling': 1, 'platform': 1, 'had': 1, 'reason': 1, 'successful': 1, 'succeed': 1, 'Douglass': 1, 'Williams': 1, 'douglasswilliams': 1, 'master': 1, 'almost': 1, 'molecular': 1, 'level': 1, 'which': 2, 'stems': 1, 'battle': 1, 'Crohn': 1, 'disease': 1, 'While': 1, 'wasn': 1, 'swallow': 1, 'culinary': 2, 'still': 1, 'chew': 1, 'd': 1, 'analyze': 1, 'nuance': 1, 'spitting': 1, 'into': 2, 'trash': 1, 'obsession': 1, 'deeply': 1, 'apparent': 1, 'midaboston': 1, 'Italian': 1, 'border': 1, 'Boston': 1, 'affluent': 1, 'South': 1, 'End': 1, 'Roxbury': 1, 'African': 1, 'Just': 1, 'look': 2, 'polenta': 1, 'fries': 1, 'tender': 1, 'cornmeal': 1, 'bricks': 1, 'until': 1, 'golden': 2, 'crunchy': 1, 'crowns': 1, 'dollop': 1, 'sweet': 1, 'gorgonzola': 1, 'dolce': 1, 'lemon': 1, 'zest': 1, 'generous': 1, 'drizzle': 1, 'honey': 1, 'outside': 1, 'remains': 1, 'crisp': 1, 'while': 3, 'inside': 1, 'enriched': 1, 'Parmesan': 1, 'olive': 1, 'oil': 1, 'incredibly': 1, 'Lena': 1, 'Sareini': 1, 'lenasareini': 1, 'loves': 1, 'clean': 2, 'plate': 1, 'lot': 1, 'times': 1, 'go': 3, 'dessert': 1, 'indulgence': 1, 'she': 4, 'Some': 1, 'bites': 1, 'being': 1, 'overwhelmed': 1, 'empty': 1, 'plates': 1, 'To': 2, 'do': 1, 'savory': 1, 'elements': 1, 'often': 1, 'unexpected': 1, 'Detroit': 1, 'seldenstandard': 1, 'Pulling': 1, 'Lebanese': 1, 'heritage': 1, 'displays': 1, 'proudly': 1, 'wearing': 1, 'hijab': 1, 'kitchen': 3, 'kanafeh': 1, 'baklava': 1, 'regular': 1, 'lexicon': 1, 'f': 10, 'community': 8, 'coffee': 7, 'week': 8, 'any': 1, 'IG': 3, 'TikTok': 1, 'famous': 2, 'cereal': 1, 'pancakes': 1, 'faves': 1, 'head': 4, 'breakdown': 1, 'carolinagelen': 2, 'emilyswholekitchen': 1, 'tashasartisanfoods': 1, 'reas': 1, 'grams': 2, 'Magical': 2, 'Coffee': 4, 'Co': 3, 'founder': 2, 'merrillstubbs': 1, 'shows': 1, 'oldest': 1, 'popular': 1, 'ErinH': 1, 'stories': 5, 'miglorious': 2, 'geniusrecipes': 1, 'easy': 2, 'Genius': 1, 'method': 1, 'sprucing': 1, 'canned': 1, 'beans': 2, 'plus': 1, 'springy': 1, 'salad': 1, 'toss': 1, 'couldn': 1, 'simpler': 1, 'trick': 1, 'pastafriday': 1, 'brings': 1, 'frizzled': 1, 'edges': 1, 'molten': 1, 'middles': 1, 'via': 1, 'geniusdesserts': 1, 'showing': 1, 'off': 4, 'many': 1, 'reasons': 1, 'love': 1, 'retro': 1, 'warmer': 1, 'Dansk': 1, 'so': 1, 'Not': 1, 'does': 1, 'stovetop': 1, 'tabletop': 1, 'style': 2, 'ingenious': 1, 'lid': 1, 'doubles': 1, 'trivet': 1, 'Bonus': 1, 'Shop': 1, 'right': 1, 'yours': 1, 'missing': 1, 'hard': 1, 'frothy': 1, 'cappuccinos': 1, 'lattes': 1, 'Has': 1, 'anyone': 1, 'tried': 1, 'latte': 1, 'art': 1, 'feel': 1, 'particularly': 1, 'four': 1, 'its': 1, 'nicolettemarie': 1, 'fit': 1, 'n': 1, 'mama': 1, 'hornyforfood': 1, 'platesandates': 1, 'tag': 2, 'related': 1, 'snacks': 1, 'chance': 2, 'featured': 2, 'here': 2, 'Armchair': 4, 'Cook': 4, 'Episode': 1, 'Guest': 1, 'Hilary': 2, 'Duff': 1, 'For': 1, 'missed': 1, 'last': 1, 'night': 2, 'Live': 2, 'amandahesser': 3, 'hilaryduff': 2, 'welcome': 1, 'series': 1, 'Food': 1, 'stars': 1, 'CEO': 1, 'Founder': 1, 'resident': 1, 'uses': 1, 'years': 1, 'coach': 1, 'guest': 1, 'case': 1, 'through': 2, 'All': 1, 'sitting': 1, 'comfortably': 1, 'armchair': 1, 'Amanda': 2, 'coaches': 1, 'Pepita': 1, 'Crusted': 1, 'Chicken': 1, 'together': 1, 'bumps': 1, 'road': 1, 'stay': 1, 'tuned': 1, 'episodes': 1, 'emmalaperruque': 1, 'biglittlerecipes': 1, 'ode': 1, 'Tempeh': 1, 'Baja': 1, 'fried': 1, 'fish': 1, 'tacos': 1, 'topped': 1, 'cabbage': 1, 'slaw': 1, 'option': 1, 'days': 1, 'meat': 1, 'Buttermilk': 2, 'White': 2, 'Beans': 2, 'Eggs': 2, 'Greens': 2, 'Messes': 1, 'Kitchen': 1, 'getting': 1, 'ahead': 1, 'abraberens': 1, 'Head': 1, 'Tonight': 1, 'kicking': 1, 'couple': 1, 'Instagram': 1, 'fluffy': 1, 'weirdly': 1, 'Dalgona': 3, 'Coffees': 2, 'havrahajoori': 1, 'iamruchikakhanna': 1, 'aimeemarsliving': 1, 'Well': 1, 'three': 1, 'matcha': 1, 'y': 1, 'swipe': 1, 'end': 1, 'joe': 2, 'adjacent': 1, 'foods': 1, 'Toast': 1, 'Shortbread': 1, 'Beignets': 1, 'And': 1, 'sad': 1, 'tourist': 1, 'Vegan': 1, 'Peach': 1, 'Crumble': 1, 'Cake': 1, 'Kicking': 1, 'help': 1, 'friend': 1, 'thefullhelping': 1, 'vegan': 1, 'great': 1, 'breakfast': 1, 'treat': 2, 'pre': 1, 'late': 1, 'well': 1, 'idea': 1, 'anytime': 1, 'day': 1, 'even': 1, 'scoop': 1, 'vanilla': 1, 'ice': 1, 'cream': 1}\n",
      "{'WeCook': 5, 'NationalApplePieDay': 1, 'TheKitchen': 2, 'BarefootContessa': 1, 'SupermarketStakeout': 1, 'bringme': 1, 'portlandtravel': 1, 'sushirestuarant': 1, 'sushi': 1, 'oregontravel': 1, 'sustainability': 1, 'ALLINCHALLENGE': 1, 'foodgod': 1, 'FWBNC': 2, 'FWBNC.': 6, 'f52community': 8, 'f52grams': 2, 'geniusrecipes—an': 1, 'geniusdesserts': 1, 'biglittlerecipes': 1}\n"
     ]
    }
   ],
   "source": [
    "# calling finction to get content of 10 posts of top 5 pages\n",
    "\n",
    "words, hashtags = content(top_handles)\n",
    "\n",
    "print(words)\n",
    "print(hashtags)"
   ]
  },
  {
   "cell_type": "markdown",
   "metadata": {},
   "source": [
    "### 2.3) Create a csv file with two columns : the word and its frequency"
   ]
  },
  {
   "cell_type": "code",
   "execution_count": 98,
   "metadata": {},
   "outputs": [
    {
     "data": {
      "text/html": [
       "<div>\n",
       "<style scoped>\n",
       "    .dataframe tbody tr th:only-of-type {\n",
       "        vertical-align: middle;\n",
       "    }\n",
       "\n",
       "    .dataframe tbody tr th {\n",
       "        vertical-align: top;\n",
       "    }\n",
       "\n",
       "    .dataframe thead th {\n",
       "        text-align: right;\n",
       "    }\n",
       "</style>\n",
       "<table border=\"1\" class=\"dataframe\">\n",
       "  <thead>\n",
       "    <tr style=\"text-align: right;\">\n",
       "      <th></th>\n",
       "      <th>WORD</th>\n",
       "      <th>FREQUENCY</th>\n",
       "    </tr>\n",
       "  </thead>\n",
       "  <tbody>\n",
       "    <tr>\n",
       "      <td>0</td>\n",
       "      <td>Instant</td>\n",
       "      <td>1</td>\n",
       "    </tr>\n",
       "    <tr>\n",
       "      <td>1</td>\n",
       "      <td>Pot</td>\n",
       "      <td>1</td>\n",
       "    </tr>\n",
       "    <tr>\n",
       "      <td>2</td>\n",
       "      <td>Lava</td>\n",
       "      <td>1</td>\n",
       "    </tr>\n",
       "    <tr>\n",
       "      <td>3</td>\n",
       "      <td>Cakes</td>\n",
       "      <td>2</td>\n",
       "    </tr>\n",
       "    <tr>\n",
       "      <td>4</td>\n",
       "      <td>Got</td>\n",
       "      <td>1</td>\n",
       "    </tr>\n",
       "    <tr>\n",
       "      <td>...</td>\n",
       "      <td>...</td>\n",
       "      <td>...</td>\n",
       "    </tr>\n",
       "    <tr>\n",
       "      <td>1035</td>\n",
       "      <td>even</td>\n",
       "      <td>1</td>\n",
       "    </tr>\n",
       "    <tr>\n",
       "      <td>1036</td>\n",
       "      <td>scoop</td>\n",
       "      <td>1</td>\n",
       "    </tr>\n",
       "    <tr>\n",
       "      <td>1037</td>\n",
       "      <td>vanilla</td>\n",
       "      <td>1</td>\n",
       "    </tr>\n",
       "    <tr>\n",
       "      <td>1038</td>\n",
       "      <td>ice</td>\n",
       "      <td>1</td>\n",
       "    </tr>\n",
       "    <tr>\n",
       "      <td>1039</td>\n",
       "      <td>cream</td>\n",
       "      <td>1</td>\n",
       "    </tr>\n",
       "  </tbody>\n",
       "</table>\n",
       "<p>1040 rows × 2 columns</p>\n",
       "</div>"
      ],
      "text/plain": [
       "         WORD  FREQUENCY\n",
       "0     Instant          1\n",
       "1         Pot          1\n",
       "2        Lava          1\n",
       "3       Cakes          2\n",
       "4         Got          1\n",
       "...       ...        ...\n",
       "1035     even          1\n",
       "1036    scoop          1\n",
       "1037  vanilla          1\n",
       "1038      ice          1\n",
       "1039    cream          1\n",
       "\n",
       "[1040 rows x 2 columns]"
      ]
     },
     "execution_count": 98,
     "metadata": {},
     "output_type": "execute_result"
    }
   ],
   "source": [
    "# creating a dataframe for words by taking keys which give names of words and values as frequency \n",
    "\n",
    "df = pd.DataFrame(list(zip(words.keys(), words.values())), columns = ['WORD', 'FREQUENCY'])\n",
    "df"
   ]
  },
  {
   "cell_type": "code",
   "execution_count": 99,
   "metadata": {},
   "outputs": [],
   "source": [
    "# QUES 2.3) \n",
    "# created a csv file using to_csv \n",
    "\n",
    "df.to_csv('words_and_frequency.csv', index = False )"
   ]
  },
  {
   "cell_type": "markdown",
   "metadata": {},
   "source": [
    "### 2.4) Now, find the hashtags that were most popular among these bloggers"
   ]
  },
  {
   "cell_type": "code",
   "execution_count": 100,
   "metadata": {},
   "outputs": [
    {
     "data": {
      "text/plain": [
       "[('f52community', 8),\n",
       " ('FWBNC.', 6),\n",
       " ('WeCook', 5),\n",
       " ('TheKitchen', 2),\n",
       " ('FWBNC', 2),\n",
       " ('f52grams', 2),\n",
       " ('NationalApplePieDay', 1),\n",
       " ('BarefootContessa', 1),\n",
       " ('SupermarketStakeout', 1),\n",
       " ('bringme', 1),\n",
       " ('portlandtravel', 1),\n",
       " ('sushirestuarant', 1),\n",
       " ('sushi', 1),\n",
       " ('oregontravel', 1),\n",
       " ('sustainability', 1),\n",
       " ('ALLINCHALLENGE', 1),\n",
       " ('foodgod', 1),\n",
       " ('geniusrecipes—an', 1),\n",
       " ('geniusdesserts', 1),\n",
       " ('biglittlerecipes', 1)]"
      ]
     },
     "execution_count": 100,
     "metadata": {},
     "output_type": "execute_result"
    }
   ],
   "source": [
    "# finding most popular hashtags by sorting the dicitonary containg hashtags and their freq according to their frequency.\n",
    "\n",
    "sorted_hashtags = sorted(hashtags.items(), key = lambda kv:kv[1], reverse = True)\n",
    "sorted_hashtags"
   ]
  },
  {
   "cell_type": "code",
   "execution_count": 102,
   "metadata": {},
   "outputs": [
    {
     "name": "stdout",
     "output_type": "stream",
     "text": [
      "Top 5 most popular hashtags are :-\n",
      "\n",
      "f52community\n",
      "FWBNC.\n",
      "WeCook\n",
      "TheKitchen\n",
      "FWBNC\n"
     ]
    }
   ],
   "source": [
    "# Top 5 hashtags by taking only first 5 among the above list\n",
    "\n",
    "print('Top 5 most popular hashtags are :-')\n",
    "print()\n",
    "for i in range(5) :\n",
    "    print(sorted_hashtags[i][0])"
   ]
  },
  {
   "cell_type": "markdown",
   "metadata": {},
   "source": [
    "### 2.5) Plot a Pie Chart of the top 5 hashtags obtained and the number of times they were used by these bloggers in the scraped posts."
   ]
  },
  {
   "cell_type": "code",
   "execution_count": 141,
   "metadata": {},
   "outputs": [
    {
     "data": {
      "image/png": "[encoded data removed]",
      "text/plain": [
       "<Figure size 800x500 with 1 Axes>"
      ]
     },
     "metadata": {},
     "output_type": "display_data"
    }
   ],
   "source": [
    "# plotting the top 5 hashtags and their frequency \n",
    "\n",
    "top_5_hashtags = sorted(hashtags.items(), key = lambda kv:kv[1], reverse = True)[:5] # sorting acc to freq and taking only top 5\n",
    "\n",
    "hashtag = []\n",
    "freq = []\n",
    "\n",
    "# creating 2 lists one for names of handles and other one for freq i.e number of times they were used by bloggers\n",
    "for i in top_5_hashtags :\n",
    "    hashtag.append(i[0])\n",
    "    freq.append(i[1])\n",
    "\n",
    "# plotting pie chart\n",
    "plt.figure(num=None, figsize=(8, 5), dpi=100, facecolor='w', edgecolor='green')\n",
    "color = [\"beige\", \"orange\", \"blue\", \"pink\", \"grey\"] # giving colors of choice\n",
    "plt.pie(freq, labels = hashtag, colors = color, autopct = '%.2f%%')\n",
    "plt.title('Top 5 Hashtags used by bloggers vs Their Frequency')\n",
    "plt.show()"
   ]
  },
  {
   "cell_type": "markdown",
   "metadata": {},
   "source": [
    "## 3) You need to also calculate average followers : likes ratio for the obtained handles.\n",
    "## Followers : Likes ratio is calculated as follows:"
   ]
  },
  {
   "cell_type": "markdown",
   "metadata": {},
   "source": [
    "### 3.1) Find out the likes of the top 10 posts of the 5 handles obtained earlier.\n",
    "\n",
    "### 3.2) Calculate the average likes for a handle.\n",
    "\n",
    "### 3.3) Divide the average likes obtained from the number of followers of the handle to get the average followers:like ratio of each handle."
   ]
  },
  {
   "cell_type": "code",
   "execution_count": 149,
   "metadata": {},
   "outputs": [],
   "source": [
    "# QUESTION 3.1 - 3.3\n",
    "\n",
    "\"\"\"\"\"\n",
    "Firstly made a function to go to handle and extract number of followers , then go to each post and \n",
    "extract it's likes. \n",
    "\n",
    "Now, there are two cases, \n",
    "\n",
    "For Images , it is directly written so, found the class and extracted it.\n",
    "\n",
    "For Videos , first we have to click on views then , we can access the likes on the post \n",
    "\n",
    "so, first we check if the element for likes is present directly or not , if not then we access y clicking on views button\n",
    "\n",
    "All the possible exceptions are handled.\n",
    "\n",
    "This has been done for 10 posts of each handle.\n",
    "\n",
    "\"\"\"\"\"\n",
    "def follower_like_ratio(driver):\n",
    "    wait = WebDriverWait(driver, 5)\n",
    "\n",
    "    #Try locating the followers button to get the total number of followers\n",
    "    try : \n",
    "        followers_ele = wait.until(EC.presence_of_all_elements_located((By.CLASS_NAME,'g47SY')))[1]\n",
    "        followers = int(followers_ele.get_attribute('title').replace(',' , ''))  \n",
    "    except Exception as e:     \n",
    "        print('Cant access followers')\n",
    "    \n",
    "    #Open the first post\n",
    "    try :\n",
    "        li = wait.until(EC.presence_of_element_located((By.CLASS_NAME,'v1Nh3')))\n",
    "        li.click()\n",
    "    except Exception as e:\n",
    "        print(\"Cant Open Post\") \n",
    "        return\n",
    "    \n",
    "    #Create a list to keep an account of like of each post\n",
    "    lst = []\n",
    "    \n",
    "    for i in range(10) :\n",
    "        try : \n",
    "            \n",
    "            #Get the element which shows the number of likes\n",
    "            temp = wait.until(EC.presence_of_element_located((By.CLASS_NAME,'Nm9Fw')))\n",
    "            if temp.text == '' :\n",
    "                temp = driver.find_elements_by_class_name('Nm9Fw')[-1]\n",
    "       \n",
    "            #In case of videos, likes are not visible.\n",
    "            #Hence we first need to click on views then scrape the number of likes\n",
    "            #Then click on outside again so that you can click on next button \n",
    "        \n",
    "        except Exception as e:     \n",
    "            try : \n",
    "                # Locating the views \n",
    "                driver.find_element_by_class_name('vcOH2').click()\n",
    "                #getting likes\n",
    "                temp = wait.until(EC.presence_of_element_located((By.CLASS_NAME,'vJRqr')))  \n",
    "            except Exception as e:\n",
    "                print(\"Loading error\")\n",
    "                return\n",
    "      \n",
    "        #Calculating likes and appending to the list\n",
    "        likes = int(temp.text.split()[0].replace(',',''))\n",
    "        lst.append(likes)\n",
    "       \n",
    "        \n",
    "        #click on next button, in case of videos, next button will not be visible immidiately, first we need to click outside\n",
    "        try : \n",
    "            driver.find_element_by_class_name('coreSpriteRightPaginationArrow').click()\n",
    "        \n",
    "        except Exception as e:\n",
    "            try : \n",
    "                #clcik on outside\n",
    "                driver.find_element_by_class_name('QhbhU').click() \n",
    "                #try to click on next button again\n",
    "                nxt = wait.until(EC.presence_of_element_located((By.CLASS_NAME,'coreSpriteRightPaginationArrow')))\n",
    "                nxt.click()\n",
    "            except Exception as e:\n",
    "                print(\"No more posts\")\n",
    "                break     \n",
    "    \n",
    "    #calculate likes : followers ratio\n",
    "    avg_likes = sum(lst)/len(lst)\n",
    "    #print(avg_likes)  # please un-comment this comment to print the average likes\n",
    "    ratio = followers/avg_likes\n",
    "    return ratio "
   ]
  },
  {
   "cell_type": "code",
   "execution_count": 151,
   "metadata": {},
   "outputs": [
    {
     "name": "stdout",
     "output_type": "stream",
     "text": [
      "foodnetwork avg likes-\n",
      "16168.6\n",
      "buzzfeedfood avg likes-\n",
      "5490.4\n",
      "foodgod avg likes-\n",
      "23938.3\n",
      "foodandwine avg likes-\n",
      "2535.7\n",
      "food52 avg likes-\n",
      "12114.1\n"
     ]
    }
   ],
   "source": [
    "# printing average likes of each page \n",
    "# please un-comment the comment for printing the average likes of a handle.\n",
    "\n",
    "for j in top_handles : # visiting each handle\n",
    "        driver.get('https://www.instagram.com/' + str(j[0]))\n",
    "        time.sleep(3)\n",
    "        print(j[0], 'avg likes-')\n",
    "        follower_like_ratio(driver) # storing ratio of each handle along with it's name\n",
    "        "
   ]
  },
  {
   "cell_type": "code",
   "execution_count": 138,
   "metadata": {},
   "outputs": [],
   "source": [
    "# caling the above function for all the 5 handles extracted previously\n",
    "\n",
    "def all_pages_ratio(insta_handles) :\n",
    "    handle_ratio = {} # making dict for name and its ratio\n",
    "    for j in insta_handles : # visiting each handle\n",
    "        driver.get('https://www.instagram.com/' + str(j[0]))\n",
    "        time.sleep(3)\n",
    "        handle_ratio[str(j[0])] = follower_like_ratio(driver) # storing ratio of each handle along with it's name\n",
    "        \n",
    "    return handle_ratio"
   ]
  },
  {
   "cell_type": "code",
   "execution_count": 139,
   "metadata": {},
   "outputs": [
    {
     "data": {
      "text/plain": [
       "{'foodnetwork': 647.0178211859462,\n",
       " 'buzzfeedfood': 682.9690004371266,\n",
       " 'foodgod': 150.29155822182489,\n",
       " 'foodandwine': 1349.6529318541998,\n",
       " 'food52': 226.09620652444593}"
      ]
     },
     "execution_count": 139,
     "metadata": {},
     "output_type": "execute_result"
    }
   ],
   "source": [
    "# calling the above function to get ratios for all the handles\n",
    "\n",
    "handle_ratio = all_pages_ratio(top_handles)\n",
    "handle_ratio"
   ]
  },
  {
   "cell_type": "markdown",
   "metadata": {},
   "source": [
    "### 3.4) Create a bar graph to depict the above obtained information."
   ]
  },
  {
   "cell_type": "code",
   "execution_count": 143,
   "metadata": {},
   "outputs": [
    {
     "data": {
      "image/png": "[encoded data removed]",
      "text/plain": [
       "<Figure size 800x500 with 1 Axes>"
      ]
     },
     "metadata": {},
     "output_type": "display_data"
    }
   ],
   "source": [
    "# plotting bar graph using matplotlib\n",
    "\n",
    "handle_name = handle_ratio.keys() # names of the handles\n",
    "handle_like_ratio = handle_ratio.values() # their Follower : like ratio\n",
    "\n",
    "plt.figure(num=None, figsize=(8, 5), dpi=100, facecolor='w', edgecolor='green') # for size of graph\n",
    "plt.grid()\n",
    "plt.bar(handle_name, handle_like_ratio, color = 'red')\n",
    "plt.title('Top 5 Food Insta Handles v/s Average Followers:Like Ratio')\n",
    "plt.xlabel('Food Insta Handles Names', size = 12)\n",
    "plt.ylabel('Ratio', size = 12)\n",
    "plt.xticks(rotation = 40) # rotating names on x-axis by 40 degrees\n",
    "plt.show()"
   ]
  },
  {
   "cell_type": "code",
   "execution_count": 152,
   "metadata": {},
   "outputs": [],
   "source": [
    "# destroying the driver session.\n",
    "\n",
    "driver.quit()"
   ]
  }
 ],
 "metadata": {
  "kernelspec": {
   "display_name": "Python 3",
   "language": "python",
   "name": "python3"
  },
  "language_info": {
   "codemirror_mode": {
    "name": "ipython",
    "version": 3
   },
   "file_extension": ".py",
   "mimetype": "text/x-python",
   "name": "python",
   "nbconvert_exporter": "python",
   "pygments_lexer": "ipython3",
   "version": "3.7.4"
  }
 },
 "nbformat": 4,
 "nbformat_minor": 2
}
